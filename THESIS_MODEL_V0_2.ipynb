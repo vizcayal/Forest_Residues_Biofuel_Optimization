{
  "nbformat": 4,
  "nbformat_minor": 0,
  "metadata": {
    "colab": {
      "name": "THESIS_MODEL V0.2.ipynb",
      "provenance": [],
      "authorship_tag": "ABX9TyMmZHzB4IOvt7Ui9963hHPq",
      "include_colab_link": true
    },
    "kernelspec": {
      "name": "python3",
      "display_name": "Python 3"
    }
  },
  "cells": [
    {
      "cell_type": "markdown",
      "metadata": {
        "id": "view-in-github",
        "colab_type": "text"
      },
      "source": [
        "<a href=\"https://colab.research.google.com/github/vizcayal/Thesis_UT/blob/V1/THESIS_MODEL_V0_2.ipynb\" target=\"_parent\"><img src=\"https://colab.research.google.com/assets/colab-badge.svg\" alt=\"Open In Colab\"/></a>"
      ]
    },
    {
      "cell_type": "markdown",
      "metadata": {
        "id": "BbmhtvgnZUe0"
      },
      "source": [
        "**Installing packages needed**"
      ]
    },
    {
      "cell_type": "code",
      "metadata": {
        "id": "9PbaQG2oYXd5",
        "colab": {
          "base_uri": "https://localhost:8080/"
        },
        "outputId": "651010e9-3bee-4a29-e6b6-80588ceaa70b"
      },
      "source": [
        "!pip install gekko\r\n",
        "!pip install ipynb\r\n"
      ],
      "execution_count": 1,
      "outputs": [
        {
          "output_type": "stream",
          "text": [
            "Collecting gekko\n",
            "\u001b[?25l  Downloading https://files.pythonhosted.org/packages/f9/4b/d5520da5a95fe677d05479a8391327d318fad9f250de791e390c4c39e712/gekko-0.2.8-py3-none-any.whl (10.8MB)\n",
            "\u001b[K     |████████████████████████████████| 10.8MB 3.9MB/s \n",
            "\u001b[?25hCollecting flask-cors\n",
            "  Downloading https://files.pythonhosted.org/packages/69/7f/d0aeaaafb5c3c76c8d2141dbe2d4f6dca5d6c31872d4e5349768c1958abc/Flask_Cors-3.0.9-py2.py3-none-any.whl\n",
            "Requirement already satisfied: numpy>=1.8 in /usr/local/lib/python3.6/dist-packages (from gekko) (1.19.4)\n",
            "Requirement already satisfied: flask in /usr/local/lib/python3.6/dist-packages (from gekko) (1.1.2)\n",
            "Requirement already satisfied: Six in /usr/local/lib/python3.6/dist-packages (from flask-cors->gekko) (1.15.0)\n",
            "Requirement already satisfied: Werkzeug>=0.15 in /usr/local/lib/python3.6/dist-packages (from flask->gekko) (1.0.1)\n",
            "Requirement already satisfied: Jinja2>=2.10.1 in /usr/local/lib/python3.6/dist-packages (from flask->gekko) (2.11.2)\n",
            "Requirement already satisfied: itsdangerous>=0.24 in /usr/local/lib/python3.6/dist-packages (from flask->gekko) (1.1.0)\n",
            "Requirement already satisfied: click>=5.1 in /usr/local/lib/python3.6/dist-packages (from flask->gekko) (7.1.2)\n",
            "Requirement already satisfied: MarkupSafe>=0.23 in /usr/local/lib/python3.6/dist-packages (from Jinja2>=2.10.1->flask->gekko) (1.1.1)\n",
            "Installing collected packages: flask-cors, gekko\n",
            "Successfully installed flask-cors-3.0.9 gekko-0.2.8\n",
            "Collecting ipynb\n",
            "  Downloading https://files.pythonhosted.org/packages/31/42/4c0bbb66390e3a68e04ebf134c8d074a00c18b5882293f8ace5f7497fbf0/ipynb-0.5.1-py3-none-any.whl\n",
            "Installing collected packages: ipynb\n",
            "Successfully installed ipynb-0.5.1\n"
          ],
          "name": "stdout"
        }
      ]
    },
    {
      "cell_type": "markdown",
      "metadata": {
        "id": "PfDtY5HjUWbs"
      },
      "source": [
        "**Importing libraries needed**"
      ]
    },
    {
      "cell_type": "code",
      "metadata": {
        "id": "-Uhaf81oUfRp",
        "colab": {
          "base_uri": "https://localhost:8080/"
        },
        "outputId": "9b5e9d1d-6068-4125-bd51-94a2351fea60"
      },
      "source": [
        "import numpy as np\r\n",
        "from multiprocessing import *\r\n",
        "from gekko import GEKKO\r\n",
        "import pandas as pd\r\n",
        "import os\r\n",
        "from google.colab import files\r\n",
        "from google.colab import drive\r\n",
        "drive.mount(\"/content/drive\")\r\n",
        "import sys\r\n",
        "sys.path.append('/content/drive/My Drive/Colab Notebooks/')\r\n",
        "from library import *\r\n",
        "#Initialize Model\r\n",
        "m = GEKKO(remote=True) \r\n",
        "#Set global options\r\n",
        "m.options.solver = 3\r\n",
        "m.options.IMODE = 3 #steady state optimization\r\n",
        "\r\n"
      ],
      "execution_count": 2,
      "outputs": [
        {
          "output_type": "stream",
          "text": [
            "Mounted at /content/drive\n"
          ],
          "name": "stdout"
        }
      ]
    },
    {
      "cell_type": "code",
      "metadata": {
        "id": "0JmzGQGEN96m"
      },
      "source": [
        "#Upload distances from each hexagon to other\r\n",
        "Dist_Data = pd.read_csv(\"/content/drive/My Drive/Colab Notebooks/Distance_TN.csv\")\r\n",
        "Mills_Data = pd.read_csv(\"/content/drive/My Drive/Colab Notebooks/Mills_TN.csv\")\r\n",
        "Hardwood_Sawlog_Data = pd.read_csv(\"/content/drive/My Drive/Colab Notebooks/Hardwood_Sawlog.csv\")\r\n",
        "#print(Hardwood_Sawlog_Data)"
      ],
      "execution_count": 3,
      "outputs": []
    },
    {
      "cell_type": "markdown",
      "metadata": {
        "id": "R0nJnGd5CiEw"
      },
      "source": [
        "**SAWMILL CLASS**"
      ]
    },
    {
      "cell_type": "code",
      "metadata": {
        "id": "V0N_36t4-S0e"
      },
      "source": [
        "#SawMill Object\r\n",
        "class Mill:\r\n",
        "  m = GEKKO(remote=True)\r\n",
        "\r\n",
        "  def __init__(self, Id, Wood, Prod, Dis, Dem=0):\r\n",
        "    self.Id = Id\r\n",
        "    self.Wood_type =Wood\r\n",
        "    self.Prod_type = Prod\r\n",
        "    self.Dist = Dis\r\n",
        "    self.Demand = Dem\r\n",
        "    #print(\"Mill: \",self.Id, \" Created\")\r\n",
        "\r\n",
        "  def Harvest_Close(self, Available, radio, Dem = 0):\r\n",
        "    if (Dem>0):\r\n",
        "      self.Demand = Dem\r\n",
        "    \r\n",
        "    Num = 100\r\n",
        "  \r\n",
        "    H = m.Array(m.Var,(Num),value = 0)\r\n",
        "\r\n",
        "    for i in range(Num):\r\n",
        "      H[i].lower = 0\r\n",
        "      H[i].upper = int(Available[i])\r\n",
        "      \r\n",
        "    prod0 = m.Intermediate(m.sum([self.Dist[i]*H[i] for i in range(0,len(H))]))\r\n",
        "    m.Equation(self.Demand==m.sum([H[i] for i in range(0,len(H))]))\r\n",
        "    m.Obj(prod0) \r\n",
        "    m.solve(disp=True,debug=True)\r\n",
        "    return(H)\r\n",
        "    "
      ],
      "execution_count": 4,
      "outputs": []
    },
    {
      "cell_type": "code",
      "metadata": {
        "id": "IqS4uwxiCgh6"
      },
      "source": [
        "class Inventory:\r\n",
        "  def __init__(self, Av, Dist):\r\n",
        "    self.Available = []\r\n",
        "    self.Available.append(Av)\r\n",
        "    #print(self.Available)\r\n",
        "    self.Dist = Dist\r\n",
        "    self.Mills = []\r\n",
        "  \r\n",
        "\r\n",
        "  def Add_Mill(self, m):\r\n",
        "    self.Mills.append(m)\r\n",
        "\r\n",
        "  \r\n",
        "  def Harvest_Mill(self,t, j, Radio =10):\r\n",
        "    ans = self.Mills[j].Harvest_Close(self.Available[t].SumOfTotal,Radio,self.Mills[j].Demand)\r\n",
        "    print(ans)\r\n",
        "  \r\n",
        "  \r\n",
        "  def Harvest_All_Mills(self, Radio =10):\r\n",
        "    for k in range(len(self.Mills)):\r\n",
        "      Hardwood_Sawlog.Harvest_Mill(0,k,Radio)\r\n",
        "    \r\n",
        "  \r\n",
        "  def Cell_Less(self, Id_Mill, Time, Radio=10):\r\n",
        "    #Given a Time and Radio and a Mill ID this function returns a list of cells with Distance and Availability\r\n",
        "    Ans = self.Dist[(self.Dist['ORIG'] == Id_Mill)&(self.Dist['DIST'] <= Radio)]\r\n",
        "    Disp =[]\r\n",
        "    for j in range(len(Ans)):\r\n",
        "      if not(self.Available[0][self.Available[0][\"Unique_ID\"]==Ans['DEST'][j]].empty):\r\n",
        "        Disp.append(int(self.Available[0][self.Available[0][\"Unique_ID\"]==Ans['DEST'][j]].SumOfTotal))\r\n",
        "      else:\r\n",
        "        Disp.append(0)\r\n",
        "    Ans[\"AVAIL\"] = Disp \r\n",
        "    return(Ans)\r\n",
        "    \r\n",
        "  \r\n",
        "  def runInParallel(*fns):\r\n",
        "    proc = []\r\n",
        "    for fn in fns:\r\n",
        "      p = Process(target=fn)\r\n",
        "      p.start()\r\n",
        "      proc.append(p)\r\n",
        "    for p in proc:\r\n",
        "      p.join()\r\n",
        "\r\n"
      ],
      "execution_count": 5,
      "outputs": []
    },
    {
      "cell_type": "markdown",
      "metadata": {
        "id": "dBG0GVk9Y81m"
      },
      "source": [
        "**UPLOADING FOREST INVENTORY DATA**"
      ]
    },
    {
      "cell_type": "markdown",
      "metadata": {
        "id": "2XCJBkIx2Oed"
      },
      "source": [
        "**1ST PHASE - MILLS DEMAND - SHORTEST DISTANCE CRITERIA**"
      ]
    },
    {
      "cell_type": "code",
      "metadata": {
        "id": "oDXsRJhXSWKd",
        "colab": {
          "base_uri": "https://localhost:8080/"
        },
        "outputId": "01690446-1700-489d-d69f-a45ca4aced43"
      },
      "source": [
        "# Main Program\r\n",
        "Num_Cell= 10000\r\n",
        "D = np.zeros(Num_Cell)\r\n",
        "Demand = 20000000 \r\n",
        "\r\n",
        "for i in range(Num_Cell):\r\n",
        "  D[i] = i\r\n",
        "\r\n",
        "Hardwood_Sawlog = Inventory(Hardwood_Sawlog_Data,Dist_Data)\r\n",
        "#print(Hardwood_Sawlog.Available[0][\"Unique_ID\"]==74031)\r\n",
        "\r\n",
        "Hardwood_Sawlog.Cell_Less(54549,0,10)\r\n",
        "ma = Hardwood_Sawlog_Data['Unique_ID'].unique()\r\n",
        "#print(Hardwood_Sawlog_Data)\r\n",
        "\r\n",
        "#a = Mill(74031,0,0,Hardwood_Sawlog.Dist.DIST,1000000)\r\n",
        "#a = Mill(Mills_Data['Unique_ID'][0],Mills_Data['plant'][0],Mills_Data['s_h'][0],Hardwood_Sawlog.Dist.DIST,Mills_Data['Demand'][0])\r\n",
        "#a.Harvest_Close(Hardwood_Sawlog_Data.SumOfTotal, 10, 1000000)\r\n",
        "\r\n",
        "for k in range(1):\r\n",
        "  \r\n",
        "  #Hardwood_Sawlog.Mills.append(Mill(Mills_Data['Unique_ID'][k],Mills_Data['plant'][k],Mills_Data['s_h'][k],Hardwood_Sawlog.Dist.DIST,Mills_Data['Demand'][k]))\r\n",
        "  Hardwood_Sawlog.Add_Mill(Mill(Mills_Data['Unique_ID'][k],Mills_Data['plant'][k],Mills_Data['s_h'][k],Hardwood_Sawlog.Dist.DIST,Mills_Data['Demand'][k]))\r\n",
        "  #print(\"Cosechando Aserradero \", k)\r\n",
        "  #Hardwood_Sawlog.Harvest_Mill(0,k)\r\n",
        "\r\n",
        "Hardwood_Sawlog.Harvest_All_Mills()"
      ],
      "execution_count": 6,
      "outputs": [
        {
          "output_type": "stream",
          "text": [
            "/usr/local/lib/python3.6/dist-packages/ipykernel_launcher.py:33: SettingWithCopyWarning: \n",
            "A value is trying to be set on a copy of a slice from a DataFrame.\n",
            "Try using .loc[row_indexer,col_indexer] = value instead\n",
            "\n",
            "See the caveats in the documentation: https://pandas.pydata.org/pandas-docs/stable/user_guide/indexing.html#returning-a-view-versus-a-copy\n",
            "/usr/local/lib/python3.6/dist-packages/ipykernel_launcher.py:26: DeprecationWarning: elementwise comparison failed; this will raise an error in the future.\n"
          ],
          "name": "stderr"
        },
        {
          "output_type": "stream",
          "text": [
            "apm 35.234.57.49_gk_model0 <br><pre> ----------------------------------------------------------------\n",
            " APMonitor, Version 1.0.0\n",
            " APMonitor Optimization Suite\n",
            " ----------------------------------------------------------------\n",
            " \n",
            " \n",
            " --------- APM Model Size ------------\n",
            " Each time step contains\n",
            "   Objects      :            2\n",
            "   Constants    :            0\n",
            "   Variables    :          202\n",
            "   Intermediates:            1\n",
            "   Connections  :          202\n",
            "   Equations    :          103\n",
            "   Residuals    :          102\n",
            " \n",
            " Number of state variables:            202\n",
            " Number of total equations: -          103\n",
            " Number of slack variables: -            0\n",
            " ---------------------------------------\n",
            " Degrees of freedom       :             99\n",
            " \n",
            " **********************************************\n",
            " Steady State Optimization with Interior Point Solver\n",
            " **********************************************\n",
            "  \n",
            "  \n",
            " Info: Exact Hessian\n",
            "\n",
            "******************************************************************************\n",
            "This program contains Ipopt, a library for large-scale nonlinear optimization.\n",
            " Ipopt is released as open source code under the Eclipse Public License (EPL).\n",
            "         For more information visit http://projects.coin-or.org/Ipopt\n",
            "******************************************************************************\n",
            "\n",
            "This is Ipopt version 3.12.10, running with linear solver ma57.\n",
            "\n",
            "Number of nonzeros in equality constraint Jacobian...:      403\n",
            "Number of nonzeros in inequality constraint Jacobian.:        0\n",
            "Number of nonzeros in Lagrangian Hessian.............:        0\n",
            "\n",
            "Total number of variables............................:      202\n",
            "                     variables with only lower bounds:        0\n",
            "                variables with lower and upper bounds:      100\n",
            "                     variables with only upper bounds:        0\n",
            "Total number of equality constraints.................:      103\n",
            "Total number of inequality constraints...............:        0\n",
            "        inequality constraints with only lower bounds:        0\n",
            "   inequality constraints with lower and upper bounds:        0\n",
            "        inequality constraints with only upper bounds:        0\n",
            "\n",
            "iter    objective    inf_pr   inf_du lg(mu)  ||d||  lg(rg) alpha_du alpha_pr  ls\n",
            "   0  0.0000000e+00 6.80e+04 9.80e-01   0.0 0.00e+00    -  0.00e+00 0.00e+00   0\n",
            "   1  6.9287625e+05 3.91e-10 6.79e+04   0.2 6.93e+05    -  1.46e-05 1.00e+00h  1\n",
            "   2  6.8764944e+05 3.13e-10 6.81e+04   5.2 7.95e+07    -  9.22e-01 6.57e-05f  6\n",
            "   3  6.8391504e+05 4.00e-11 8.08e-01   3.9 3.73e+03    -  9.96e-01 1.00e+00f  1\n",
            "   4  5.8370771e+05 2.06e-10 1.10e-02   3.8 1.00e+05    -  9.95e-01 1.00e+00f  1\n",
            "   5  1.0842400e+05 1.72e-10 1.18e-15   3.0 4.75e+05    -  1.00e+00 1.00e+00f  1\n",
            "   6  9.7923108e+03 3.98e-12 6.97e-04   2.0 9.86e+04    -  9.40e-01 1.00e+00f  1\n",
            "   7  1.0189740e+02 2.56e-12 1.50e-08   0.0 9.69e+03    -  9.97e-01 1.00e+00f  1\n",
            "   8  1.0190308e+00 1.37e-12 2.03e-09  -5.9 1.02e+02    -  9.90e-01 9.90e-01f  1\n",
            "   9  1.0180226e-02 4.74e-12 2.05e-11  -7.9 1.02e+00    -  9.90e-01 9.90e-01f  1\n",
            "iter    objective    inf_pr   inf_du lg(mu)  ||d||  lg(rg) alpha_du alpha_pr  ls\n",
            "  10 -8.3744163e-06 8.26e-14 6.41e-15  -9.9 1.02e-02    -  1.00e+00 1.00e+00f  1\n",
            "\n",
            "Number of Iterations....: 10\n",
            "\n",
            "                                   (scaled)                 (unscaled)\n",
            "Objective...............:  -8.3744162834107488e-06   -8.3744162834107488e-06\n",
            "Dual infeasibility......:   6.4074735785578977e-15    6.4074735785578977e-15\n",
            "Constraint violation....:   8.2631710481494928e-14    8.2631710481494928e-14\n",
            "Complementarity.........:   3.1724956220283439e-08    3.1724956220283439e-08\n",
            "Overall NLP error.......:   3.1724956220283439e-08    3.1724956220283439e-08\n",
            "\n",
            "\n",
            "Number of objective function evaluations             = 16\n",
            "Number of objective gradient evaluations             = 11\n",
            "Number of equality constraint evaluations            = 16\n",
            "Number of inequality constraint evaluations          = 0\n",
            "Number of equality constraint Jacobian evaluations   = 11\n",
            "Number of inequality constraint Jacobian evaluations = 0\n",
            "Number of Lagrangian Hessian evaluations             = 10\n",
            "Total CPU secs in IPOPT (w/o function evaluations)   =      0.008\n",
            "Total CPU secs in NLP function evaluations           =      0.003\n",
            "\n",
            "EXIT: Optimal Solution Found.\n",
            " \n",
            " The solution was found.\n",
            " \n",
            " The final value of the objective function is  -8.374416283410749E-006\n",
            " \n",
            " ---------------------------------------------------\n",
            " Solver         :  IPOPT (v3.12)\n",
            " Solution time  :   2.059999999983120E-002 sec\n",
            " Objective      :  -8.374416283410749E-006\n",
            " Successful solution\n",
            " ---------------------------------------------------\n",
            " \n",
            "[[68000.000001] [0.0] [0.0] [0.0] [0.0] [0.0] [0.0] [0.0] [0.0] [0.0]\n",
            " [0.0] [0.0] [0.0] [0.0] [0.0] [0.0] [0.0] [0.0] [0.0] [0.0] [0.0] [0.0]\n",
            " [0.0] [0.0] [0.0] [0.0] [0.0] [0.0] [0.0] [0.0] [0.0] [0.0] [0.0] [0.0]\n",
            " [0.0] [0.0] [0.0] [0.0] [0.0] [0.0] [0.0] [0.0] [0.0] [0.0] [0.0] [0.0]\n",
            " [0.0] [0.0] [0.0] [0.0] [0.0] [0.0] [0.0] [0.0] [0.0] [0.0] [0.0] [0.0]\n",
            " [0.0] [0.0] [0.0] [0.0] [0.0] [0.0] [0.0] [0.0] [0.0] [0.0] [0.0] [0.0]\n",
            " [0.0] [0.0] [0.0] [0.0] [0.0] [0.0] [0.0] [0.0] [0.0] [0.0] [0.0] [0.0]\n",
            " [0.0] [0.0] [0.0] [0.0] [0.0] [0.0] [0.0] [0.0] [0.0] [0.0] [0.0] [0.0]\n",
            " [0.0] [0.0] [0.0] [0.0] [0.0] [0.0]]\n"
          ],
          "name": "stdout"
        }
      ]
    }
  ]
}