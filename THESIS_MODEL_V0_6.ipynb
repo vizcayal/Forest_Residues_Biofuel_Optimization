{
  "nbformat": 4,
  "nbformat_minor": 0,
  "metadata": {
    "colab": {
      "name": "THESIS_MODEL V0.6.ipynb",
      "provenance": [],
      "authorship_tag": "ABX9TyNrZxwWQPZZe4gkE2QqH4GJ",
      "include_colab_link": true
    },
    "kernelspec": {
      "name": "python3",
      "display_name": "Python 3"
    }
  },
  "cells": [
    {
      "cell_type": "markdown",
      "metadata": {
        "id": "view-in-github",
        "colab_type": "text"
      },
      "source": [
        "<a href=\"https://colab.research.google.com/github/vizcayal/Thesis_UT/blob/V1/THESIS_MODEL_V0_6.ipynb\" target=\"_parent\"><img src=\"https://colab.research.google.com/assets/colab-badge.svg\" alt=\"Open In Colab\"/></a>"
      ]
    },
    {
      "cell_type": "markdown",
      "metadata": {
        "id": "BbmhtvgnZUe0"
      },
      "source": [
        "**Installing packages needed**"
      ]
    },
    {
      "cell_type": "code",
      "metadata": {
        "id": "9PbaQG2oYXd5",
        "colab": {
          "base_uri": "https://localhost:8080/"
        },
        "outputId": "c96274b2-1d2b-41f4-b522-dbef35ee3e85"
      },
      "source": [
        "!pip install gekko\r\n",
        "!pip install ipynb\r\n"
      ],
      "execution_count": 7,
      "outputs": [
        {
          "output_type": "stream",
          "text": [
            "Collecting gekko\n",
            "\u001b[?25l  Downloading https://files.pythonhosted.org/packages/f9/4b/d5520da5a95fe677d05479a8391327d318fad9f250de791e390c4c39e712/gekko-0.2.8-py3-none-any.whl (10.8MB)\n",
            "\u001b[K     |████████████████████████████████| 10.8MB 3.8MB/s \n",
            "\u001b[?25hRequirement already satisfied: flask in /usr/local/lib/python3.6/dist-packages (from gekko) (1.1.2)\n",
            "Collecting flask-cors\n",
            "  Downloading https://files.pythonhosted.org/packages/69/7f/d0aeaaafb5c3c76c8d2141dbe2d4f6dca5d6c31872d4e5349768c1958abc/Flask_Cors-3.0.9-py2.py3-none-any.whl\n",
            "Requirement already satisfied: numpy>=1.8 in /usr/local/lib/python3.6/dist-packages (from gekko) (1.19.4)\n",
            "Requirement already satisfied: click>=5.1 in /usr/local/lib/python3.6/dist-packages (from flask->gekko) (7.1.2)\n",
            "Requirement already satisfied: Jinja2>=2.10.1 in /usr/local/lib/python3.6/dist-packages (from flask->gekko) (2.11.2)\n",
            "Requirement already satisfied: itsdangerous>=0.24 in /usr/local/lib/python3.6/dist-packages (from flask->gekko) (1.1.0)\n",
            "Requirement already satisfied: Werkzeug>=0.15 in /usr/local/lib/python3.6/dist-packages (from flask->gekko) (1.0.1)\n",
            "Requirement already satisfied: Six in /usr/local/lib/python3.6/dist-packages (from flask-cors->gekko) (1.15.0)\n",
            "Requirement already satisfied: MarkupSafe>=0.23 in /usr/local/lib/python3.6/dist-packages (from Jinja2>=2.10.1->flask->gekko) (1.1.1)\n",
            "Installing collected packages: flask-cors, gekko\n",
            "Successfully installed flask-cors-3.0.9 gekko-0.2.8\n",
            "Collecting ipynb\n",
            "  Downloading https://files.pythonhosted.org/packages/31/42/4c0bbb66390e3a68e04ebf134c8d074a00c18b5882293f8ace5f7497fbf0/ipynb-0.5.1-py3-none-any.whl\n",
            "Installing collected packages: ipynb\n",
            "Successfully installed ipynb-0.5.1\n"
          ],
          "name": "stdout"
        }
      ]
    },
    {
      "cell_type": "markdown",
      "metadata": {
        "id": "PfDtY5HjUWbs"
      },
      "source": [
        "**Importing libraries needed**"
      ]
    },
    {
      "cell_type": "code",
      "metadata": {
        "id": "-Uhaf81oUfRp",
        "colab": {
          "base_uri": "https://localhost:8080/"
        },
        "outputId": "8a2f5ad8-5799-4afb-b970-2842a2a6346b"
      },
      "source": [
        "import numpy as np\r\n",
        "from multiprocessing import *\r\n",
        "from gekko import GEKKO\r\n",
        "import pandas as pd\r\n",
        "import os\r\n",
        "from google.colab import files\r\n",
        "from google.colab import drive\r\n",
        "drive.mount(\"/content/drive\")\r\n",
        "import sys\r\n",
        "sys.path.append('/content/drive/My Drive/Colab Notebooks/')\r\n",
        "from library import *\r\n",
        "#Initialize Model\r\n",
        "m = GEKKO(remote=True) \r\n",
        "#Set global options\r\n",
        "m.options.solver = 3\r\n",
        "m.options.IMODE = 3 #steady state optimization\r\n",
        "\r\n"
      ],
      "execution_count": 8,
      "outputs": [
        {
          "output_type": "stream",
          "text": [
            "Mounted at /content/drive\n"
          ],
          "name": "stdout"
        }
      ]
    },
    {
      "cell_type": "code",
      "metadata": {
        "id": "0JmzGQGEN96m"
      },
      "source": [
        "#Upload distances from each hexagon to other\r\n",
        "Dist_Data = pd.read_csv(\"/content/drive/My Drive/Colab Notebooks/Distance_TN.csv\")\r\n",
        "Mills_Data = pd.read_csv(\"/content/drive/My Drive/Colab Notebooks/Mills_TN.csv\")\r\n",
        "Hardwood_Sawlog_Data = pd.read_csv(\"/content/drive/My Drive/Colab Notebooks/Hardwood_Sawlog.csv\")\r\n",
        "#print(Hardwood_Sawlog_Data)"
      ],
      "execution_count": 9,
      "outputs": []
    },
    {
      "cell_type": "markdown",
      "metadata": {
        "id": "R0nJnGd5CiEw"
      },
      "source": [
        "**SAWMILL CLASS**"
      ]
    },
    {
      "cell_type": "code",
      "metadata": {
        "id": "V0N_36t4-S0e"
      },
      "source": [
        "#SawMill Object\r\n",
        "class Mill:\r\n",
        "  m = GEKKO(remote=True)\r\n",
        "\r\n",
        "  def __init__(self, Id, Wood, Prod, Dis, Dem=0):\r\n",
        "    self.Id = Id\r\n",
        "    self.Wood_type =Wood\r\n",
        "    self.Prod_type = Prod\r\n",
        "    #print(\"Dist\",Dis)\r\n",
        "    self.Dist = Dis\r\n",
        "    self.Demand = Dem\r\n",
        "\r\n",
        "\r\n",
        "\r\n",
        "  def Harvest_Close(self, Available, radio, Dem = 0):\r\n",
        "    if (Dem>0):\r\n",
        "      self.Demand = Dem\r\n",
        "    \r\n",
        "    Num = len(self.Dist)\r\n",
        "    print(\"****Disponible: \",len(self.Dist))\r\n",
        "  \r\n",
        "    H = m.Array(m.Var,(Num),value = 0)\r\n",
        "\r\n",
        "    for i in range(Num):\r\n",
        "      H[i].lower = 0\r\n",
        "      H[i].upper = int(Available[i])\r\n",
        "      \r\n",
        "    prod0 = m.Intermediate(m.sum([self.Dist.loc[i,('DIST')]*H[i] for i in range(0,len(H))]))\r\n",
        "    \r\n",
        "    m.Equation(self.Demand==m.sum([H[i] for i in range(0,len(H))]))\r\n",
        "    m.Obj(prod0) \r\n",
        "    m.solve(disp=True,debug=True)\r\n",
        "    a = self.Dist\r\n",
        "    a['Harvested'] = H\r\n",
        "    \r\n",
        "    \r\n",
        "    print(a)\r\n",
        "    return(H)\r\n",
        "    "
      ],
      "execution_count": 10,
      "outputs": []
    },
    {
      "cell_type": "code",
      "metadata": {
        "id": "IqS4uwxiCgh6"
      },
      "source": [
        "class Inventory:\r\n",
        "  def __init__(self, Av, Dist):\r\n",
        "    self.Available = []\r\n",
        "    self.Available.append(Av)\r\n",
        "    #print(self.Available)\r\n",
        "    self.Dist = Dist\r\n",
        "    self.Mills = []\r\n",
        "\r\n",
        "\r\n",
        "  def Add_Mill2(self, Id, Wood, Prod, Dem=0):\r\n",
        "    #print('Id',Id)\r\n",
        "    a =self.Cell_Less(Id,0,20)\r\n",
        "    #print('Milllll',a)\r\n",
        "#    print(self.Num_Cell( Id,10))\r\n",
        "        \r\n",
        "    #D2 = a.loc[:, (DIST')]\r\n",
        "    D2 = a.loc[:, ('DEST','DIST')]\r\n",
        "    mil= Mill(id,Wood,Prod,D2,Dem)\r\n",
        "    self.Mills.append(mil)\r\n",
        "  \r\n",
        "  def Harvest_Mill(self,t, j, Radio =10):\r\n",
        "    ans = self.Mills[j].Harvest_Close(self.Available[t].SumOfTotal,Radio,self.Mills[j].Demand)\r\n",
        "    #print(ans)\r\n",
        "  \r\n",
        "  \r\n",
        "  def Harvest_All_Mills(self, Radio =10):\r\n",
        "    for k in range(len(self.Mills)):\r\n",
        "      Hardwood_Sawlog.Harvest_Mill(0,k,Radio)\r\n",
        "    \r\n",
        "  \r\n",
        "  def Cell_Less(self, Id_Mill, Time, Radio=20):\r\n",
        "    #Given a Time and Radio and a Mill ID this function returns a list of cells with Distance and Availability\r\n",
        "    Ans = self.Dist[(self.Dist['ORIG'] == Id_Mill)&(self.Dist['DIST'] <= Radio)] #CELLS EQUAL ID_MILL AND CLOSER THAN RADIO\r\n",
        "    rows = Ans.shape[0]\r\n",
        "    #print('rows',rows)\r\n",
        "    ind = [i for i in range(rows)]\r\n",
        "    Ans.index=ind    \r\n",
        "    Disp =[]\r\n",
        "\r\n",
        "    for j in range(len(Ans)):                                                                         \r\n",
        "      if self.Available[0][self.Available[0][\"Unique_ID\"]==Ans.loc[j,('DEST')]].empty:\r\n",
        "        Disp.append(0)\r\n",
        "      else:\r\n",
        "        Disp.append(int(self.Available[0][self.Available[0][\"Unique_ID\"]==Ans.loc[j,('DEST')]].SumOfTotal))\r\n",
        "\r\n",
        "    Ans[\"AVAIL\"] = Disp \r\n",
        "    return(Ans)\r\n",
        "  \r\n",
        "\r\n",
        "  def Num_Cell(self, Id_Mill, Radio=10):\r\n",
        "    #Given a Radio and a Mill ID this function returns cell among the radio distance\r\n",
        "    Ans = self.Dist[(self.Dist['ORIG'] == Id_Mill)&(self.Dist['DIST'] <= Radio)]\r\n",
        "    #print(\"Numero de celdas \",len(Ans))\r\n",
        "    return(len(Ans))\r\n",
        "    \r\n",
        "  \r\n",
        "\r\n",
        "\r\n"
      ],
      "execution_count": 25,
      "outputs": []
    },
    {
      "cell_type": "markdown",
      "metadata": {
        "id": "dBG0GVk9Y81m"
      },
      "source": [
        "**UPLOADING FOREST INVENTORY DATA**"
      ]
    },
    {
      "cell_type": "markdown",
      "metadata": {
        "id": "2XCJBkIx2Oed"
      },
      "source": [
        "**1ST PHASE - MILLS DEMAND - SHORTEST DISTANCE CRITERIA**"
      ]
    },
    {
      "cell_type": "code",
      "metadata": {
        "id": "oDXsRJhXSWKd",
        "colab": {
          "base_uri": "https://localhost:8080/"
        },
        "outputId": "fcfeade1-1760-4991-d0b5-afa56bad1fec"
      },
      "source": [
        "# Main Program\r\n",
        "Num_Cell= 10000\r\n",
        "D = np.zeros(Num_Cell)\r\n",
        "Demand = 20000000 \r\n",
        "\r\n",
        "for i in range(Num_Cell):\r\n",
        "  D[i] = i\r\n",
        "\r\n",
        "Hardwood_Sawlog = Inventory(Hardwood_Sawlog_Data,Dist_Data)\r\n",
        "#print(Hardwood_Sawlog.Available[0][\"Unique_ID\"]==74031)\r\n",
        "\r\n",
        "#Hardwood_Sawlog.Cell_Less(54549,0,10)\r\n",
        "ma = Dist_Data['ORIG'].unique()\r\n",
        "#print('Ma', ma[0])\r\n",
        "#print(Hardwood_Sawlog_Data)\r\n",
        "\r\n",
        "#a = Mill(74031,0,0,Hardwood_Sawlog.Dist.DIST,1000000)\r\n",
        "#a = Mill(Mills_Data['Unique_ID'][0],Mills_Data['plant'][0],Mills_Data['s_h'][0],Hardwood_Sawlog.Dist.DIST,Mills_Data['Demand'][0])\r\n",
        "#a.Harvest_Close(Hardwood_Sawlog_Data.SumOfTotal, 10, 1000000)\r\n",
        "#print(Hardwood_Sawlog.Dist.loc[:, ('DIST')])\r\n",
        "\r\n",
        "#Mills_Data.loc[0, ('Unique_ID')]\r\n",
        "\r\n",
        "for k in range(2):\r\n",
        "  \r\n",
        "  #Hardwood_Sawlog.Mills.append(Mill(Mills_Data['Unique_ID'][k],Mills_Data['plant'][k],Mills_Data['s_h'][k],Hardwood_Sawlog.Dist.DIST,Mills_Data['Demand'][k]))\r\n",
        "  #mi= Mill(Mills_Data.loc[k, ('Unique_ID')],Mills_Data.loc[k,('plant')],Mills_Data.loc[k,('s_h')],Hardwood_Sawlog.Dist.loc[:, ('DIST')],Mills_Data.loc[k,('Demand')])\r\n",
        "  #Hardwood_Sawlog.Add_Mill(mi)\r\n",
        "  #Hardwood_Sawlog.Add_Mill2(Mills_Data.loc[k, ('Unique_ID')],Mills_Data.loc[k,('plant')],Mills_Data.loc[k,('s_h')],Mills_Data.loc[k,('Demand')])\r\n",
        "  Hardwood_Sawlog.Add_Mill2(ma[k],Mills_Data.loc[k,('plant')],Mills_Data.loc[k,('s_h')],Mills_Data.loc[k,('Demand')])\r\n",
        "  #print(\"Cosechando Aserradero \", k)\r\n",
        "  #Hardwood_Sawlog.Harvest_Mill(0,k)\r\n",
        "\r\n",
        "Hardwood_Sawlog.Harvest_All_Mills()"
      ],
      "execution_count": 26,
      "outputs": [
        {
          "output_type": "stream",
          "text": [
            "/usr/local/lib/python3.6/dist-packages/ipykernel_launcher.py:46: SettingWithCopyWarning: \n",
            "A value is trying to be set on a copy of a slice from a DataFrame.\n",
            "Try using .loc[row_indexer,col_indexer] = value instead\n",
            "\n",
            "See the caveats in the documentation: https://pandas.pydata.org/pandas-docs/stable/user_guide/indexing.html#returning-a-view-versus-a-copy\n",
            "/usr/local/lib/python3.6/dist-packages/ipykernel_launcher.py:46: SettingWithCopyWarning: \n",
            "A value is trying to be set on a copy of a slice from a DataFrame.\n",
            "Try using .loc[row_indexer,col_indexer] = value instead\n",
            "\n",
            "See the caveats in the documentation: https://pandas.pydata.org/pandas-docs/stable/user_guide/indexing.html#returning-a-view-versus-a-copy\n",
            "/usr/local/lib/python3.6/dist-packages/ipykernel_launcher.py:30: DeprecationWarning: elementwise comparison failed; this will raise an error in the future.\n"
          ],
          "name": "stderr"
        },
        {
          "output_type": "stream",
          "text": [
            "****Disponible:  171\n",
            "apm 34.74.144.117_gk_model0 <br><pre> ----------------------------------------------------------------\n",
            " APMonitor, Version 1.0.0\n",
            " APMonitor Optimization Suite\n",
            " ----------------------------------------------------------------\n",
            " \n",
            " \n",
            " --------- APM Model Size ------------\n",
            " Each time step contains\n",
            "   Objects      :           10\n",
            "   Constants    :            0\n",
            "   Variables    :         1680\n",
            "   Intermediates:            5\n",
            "   Connections  :         1680\n",
            "   Equations    :          850\n",
            "   Residuals    :          845\n",
            " \n",
            " Number of state variables:           1680\n",
            " Number of total equations: -          850\n",
            " Number of slack variables: -            0\n",
            " ---------------------------------------\n",
            " Degrees of freedom       :            830\n",
            " \n",
            " **********************************************\n",
            " Steady State Optimization with Interior Point Solver\n",
            " **********************************************\n",
            "  \n",
            "  \n",
            " Info: Exact Hessian\n",
            "\n",
            "******************************************************************************\n",
            "This program contains Ipopt, a library for large-scale nonlinear optimization.\n",
            " Ipopt is released as open source code under the Eclipse Public License (EPL).\n",
            "         For more information visit http://projects.coin-or.org/Ipopt\n",
            "******************************************************************************\n",
            "\n",
            "This is Ipopt version 3.12.10, running with linear solver ma57.\n",
            "\n",
            "Number of nonzeros in equality constraint Jacobian...:     3355\n",
            "Number of nonzeros in inequality constraint Jacobian.:        0\n",
            "Number of nonzeros in Lagrangian Hessian.............:        0\n",
            "\n",
            "Total number of variables............................:     1680\n",
            "                     variables with only lower bounds:        0\n",
            "                variables with lower and upper bounds:      835\n",
            "                     variables with only upper bounds:        0\n",
            "Total number of equality constraints.................:      850\n",
            "Total number of inequality constraints...............:        0\n",
            "        inequality constraints with only lower bounds:        0\n",
            "   inequality constraints with lower and upper bounds:        0\n",
            "        inequality constraints with only upper bounds:        0\n",
            "\n",
            "iter    objective    inf_pr   inf_du lg(mu)  ||d||  lg(rg) alpha_du alpha_pr  ls\n",
            "   0 -8.8999755e-05 6.80e+04 9.89e-01   0.0 0.00e+00    -  0.00e+00 0.00e+00   0\n",
            "   1  3.5423837e+06 6.67e+04 3.72e+05   4.3 4.65e+07    -  2.05e-01 1.94e-02f  1\n",
            "   2  5.6424898e+06 6.18e+04 1.49e+06   4.9 2.71e+07    -  1.92e-02 7.34e-02f  1\n",
            "   3  1.3278908e+07 6.07e+04 1.46e+06   6.1 4.25e+08    -  3.77e-01 1.78e-02f  1\n",
            "   4  1.3827979e+07 3.62e-09 7.65e+00   4.8 7.90e+05    -  9.93e-01 1.00e+00f  1\n",
            "   5  1.1449395e+07 4.46e-10 2.17e-13   4.7 2.34e+06    -  1.00e+00 1.00e+00f  1\n",
            "   6  5.0200187e+06 3.75e-09 2.26e-14   4.0 6.39e+06    -  1.00e+00 1.00e+00f  1\n",
            "   7  3.2505071e+06 5.51e-10 1.26e+01   2.1 1.45e+06    -  4.13e-01 1.00e+00f  1\n",
            "   8  2.6461447e+06 5.40e-10 4.04e+00   3.3 4.39e+05    -  2.02e-01 1.00e+00f  1\n",
            "   9  2.0888558e+06 1.27e-10 3.26e-15   3.4 2.22e+05    -  1.00e+00 1.00e+00f  1\n",
            "iter    objective    inf_pr   inf_du lg(mu)  ||d||  lg(rg) alpha_du alpha_pr  ls\n",
            "  10  9.6690504e+04 1.11e-10 3.42e-01   1.7 4.28e+05    -  4.76e-01 1.00e+00f  1\n",
            "  11  1.3014436e+04 1.29e-11 3.82e-15   1.2 2.96e+04    -  1.00e+00 1.00e+00f  1\n",
            "  12  1.3027611e+02 4.24e-11 7.88e-07  -4.8 2.67e+03    -  9.86e-01 9.90e-01f  1\n",
            "  13  1.3026633e+00 2.07e-11 7.96e-09  -6.7 2.67e+01    -  9.90e-01 9.90e-01f  1\n",
            "  14  3.1924020e-03 1.40e-11 2.02e-11  -8.7 2.67e-01    -  9.97e-01 9.97e-01f  1\n",
            "  15 -1.1174872e-04 2.36e-11 3.55e-15 -11.0 6.78e-04    -  1.00e+00 1.00e+00f  1\n",
            "\n",
            "Number of Iterations....: 15\n",
            "\n",
            "                                   (scaled)                 (unscaled)\n",
            "Objective...............:  -1.1174871829723262e-04   -1.1174871829723262e-04\n",
            "Dual infeasibility......:   3.5473120654035103e-15    3.5473120654035103e-15\n",
            "Constraint violation....:   2.3623244272532544e-11    2.3623244272532544e-11\n",
            "Complementarity.........:   4.1375885369191871e-11    4.1375885369191871e-11\n",
            "Overall NLP error.......:   4.1375885369191871e-11    4.1375885369191871e-11\n",
            "\n",
            "\n",
            "Number of objective function evaluations             = 16\n",
            "Number of objective gradient evaluations             = 16\n",
            "Number of equality constraint evaluations            = 16\n",
            "Number of inequality constraint evaluations          = 0\n",
            "Number of equality constraint Jacobian evaluations   = 16\n",
            "Number of inequality constraint Jacobian evaluations = 0\n",
            "Number of Lagrangian Hessian evaluations             = 15\n",
            "Total CPU secs in IPOPT (w/o function evaluations)   =      0.041\n",
            "Total CPU secs in NLP function evaluations           =      0.056\n",
            "\n",
            "EXIT: Optimal Solution Found.\n",
            " \n",
            " The solution was found.\n",
            " \n",
            " The final value of the objective function is  -1.117487182972326E-004\n",
            " \n",
            " ---------------------------------------------------\n",
            " Solver         :  IPOPT (v3.12)\n",
            " Solution time  :   0.108199999987846      sec\n",
            " Objective      :  -1.117487182972326E-004\n",
            " Successful solution\n",
            " ---------------------------------------------------\n",
            " \n",
            "      DEST       DIST       Harvested\n",
            "0    54549   0.000000  [68000.000002]\n",
            "1    54749   2.829784           [0.0]\n",
            "2    54150   2.938933           [0.0]\n",
            "3    54949   3.067795           [0.0]\n",
            "4    54748   3.524870           [0.0]\n",
            "..     ...        ...             ...\n",
            "166  52352  19.726610           [0.0]\n",
            "167  55759  19.762639           [0.0]\n",
            "168  56156  19.772028           [0.0]\n",
            "169  54953  19.828987           [0.0]\n",
            "170  55347  19.982425           [0.0]\n",
            "\n",
            "[171 rows x 3 columns]\n",
            "****Disponible:  161\n"
          ],
          "name": "stdout"
        },
        {
          "output_type": "stream",
          "text": [
            "/usr/local/lib/python3.6/dist-packages/ipykernel_launcher.py:30: DeprecationWarning: elementwise comparison failed; this will raise an error in the future.\n"
          ],
          "name": "stderr"
        },
        {
          "output_type": "stream",
          "text": [
            "apm 34.74.144.117_gk_model0 <br><pre> ----------------------------------------------------------------\n",
            " APMonitor, Version 1.0.0\n",
            " APMonitor Optimization Suite\n",
            " ----------------------------------------------------------------\n",
            " \n",
            " \n",
            " --------- APM Model Size ------------\n",
            " Each time step contains\n",
            "   Objects      :           12\n",
            "   Constants    :            0\n",
            "   Variables    :         2004\n",
            "   Intermediates:            6\n",
            "   Connections  :         2004\n",
            "   Equations    :         1014\n",
            "   Residuals    :         1008\n",
            " \n",
            " Number of state variables:           2004\n",
            " Number of total equations: -         1014\n",
            " Number of slack variables: -            0\n",
            " ---------------------------------------\n",
            " Degrees of freedom       :            990\n",
            " \n",
            " **********************************************\n",
            " Steady State Optimization with Interior Point Solver\n",
            " **********************************************\n",
            "  \n",
            "  \n",
            " Info: Exact Hessian\n",
            "\n",
            "******************************************************************************\n",
            "This program contains Ipopt, a library for large-scale nonlinear optimization.\n",
            " Ipopt is released as open source code under the Eclipse Public License (EPL).\n",
            "         For more information visit http://projects.coin-or.org/Ipopt\n",
            "******************************************************************************\n",
            "\n",
            "This is Ipopt version 3.12.10, running with linear solver ma57.\n",
            "\n",
            "Number of nonzeros in equality constraint Jacobian...:     4002\n",
            "Number of nonzeros in inequality constraint Jacobian.:        0\n",
            "Number of nonzeros in Lagrangian Hessian.............:        0\n",
            "\n",
            "Total number of variables............................:     2004\n",
            "                     variables with only lower bounds:        0\n",
            "                variables with lower and upper bounds:      996\n",
            "                     variables with only upper bounds:        0\n",
            "Total number of equality constraints.................:     1014\n",
            "Total number of inequality constraints...............:        0\n",
            "        inequality constraints with only lower bounds:        0\n",
            "   inequality constraints with lower and upper bounds:        0\n",
            "        inequality constraints with only upper bounds:        0\n",
            "\n",
            "iter    objective    inf_pr   inf_du lg(mu)  ||d||  lg(rg) alpha_du alpha_pr  ls\n",
            "   0 -1.1174872e-04 8.20e+05 9.89e-01   0.0 0.00e+00    -  0.00e+00 0.00e+00   0\n",
            "   1  4.4276726e+06 8.20e+05 4.87e+05   6.5 6.44e+09    -  1.87e-03 1.40e-04f  1\n",
            "   2  8.7208542e+06 8.18e+05 7.97e+06   6.5 1.94e+09    -  1.41e-04 2.16e-03f  1\n",
            "   3  1.7373309e+07 5.58e+05 6.16e+06   4.9 1.66e+07    -  2.28e-03 3.17e-01f  1\n",
            "   4  1.8023727e+07 5.34e+05 5.90e+06   5.3 7.44e+06    -  1.00e+00 4.31e-02f  1\n",
            "   5  2.2906117e+07 1.43e-09 4.02e-01   4.8 5.18e+06    -  9.99e-01 1.00e+00f  1\n",
            "   6  1.9322289e+07 1.67e-09 1.42e+01   4.7 2.78e+06    -  7.04e-01 1.00e+00f  1\n",
            "   7  8.1730464e+06 3.01e-09 8.91e-02   4.2 5.97e+06    -  9.99e-01 1.00e+00f  1\n",
            "   8  3.4433210e+06 6.35e-10 1.31e+01   2.3 2.28e+06    -  6.25e-01 9.99e-01f  1\n",
            "   9  2.3956627e+06 4.28e-10 1.02e+01   1.6 3.90e+05    -  2.95e-02 1.00e+00f  1\n",
            "iter    objective    inf_pr   inf_du lg(mu)  ||d||  lg(rg) alpha_du alpha_pr  ls\n",
            "  10  8.4902775e+05 1.91e-10 4.01e+00   1.5 4.61e+05    -  1.84e-01 9.98e-01f  1\n",
            "  11  2.8598845e+05 8.78e-11 4.64e-15   2.5 2.28e+05    -  1.00e+00 1.00e+00f  1\n",
            "  12  2.9921853e+03 4.01e-11 2.56e-04   0.4 4.88e+04    -  9.39e-01 9.98e-01f  1\n",
            "  13  2.9926937e+01 3.46e-11 2.58e-06  -4.9 5.11e+02    -  9.89e-01 9.90e-01f  1\n",
            "  14  2.9914822e-01 5.71e-11 2.58e-08  -6.9 5.11e+00    -  9.90e-01 9.90e-01f  1\n",
            "  15  6.6541610e-04 3.44e-11 6.86e-11  -8.9 5.11e-02    -  9.97e-01 9.97e-01f  1\n",
            "  16 -1.3350652e-04 3.50e-11 4.36e-16 -11.0 1.36e-04    -  1.00e+00 1.00e+00f  1\n",
            "\n",
            "Number of Iterations....: 16\n",
            "\n",
            "                                   (scaled)                 (unscaled)\n",
            "Objective...............:  -1.3350652067470025e-04   -1.3350652067470025e-04\n",
            "Dual infeasibility......:   4.3638427785492649e-16    4.3638427785492649e-16\n",
            "Constraint violation....:   3.5008913770880842e-11    3.5008913770880842e-11\n",
            "Complementarity.........:   5.0746619011954814e-11    5.0746619011954814e-11\n",
            "Overall NLP error.......:   5.0746619011954814e-11    5.0746619011954814e-11\n",
            "\n",
            "\n",
            "Number of objective function evaluations             = 17\n",
            "Number of objective gradient evaluations             = 17\n",
            "Number of equality constraint evaluations            = 17\n",
            "Number of inequality constraint evaluations          = 0\n",
            "Number of equality constraint Jacobian evaluations   = 17\n",
            "Number of inequality constraint Jacobian evaluations = 0\n",
            "Number of Lagrangian Hessian evaluations             = 16\n",
            "Total CPU secs in IPOPT (w/o function evaluations)   =      0.048\n",
            "Total CPU secs in NLP function evaluations           =      0.073\n",
            "\n",
            "EXIT: Optimal Solution Found.\n",
            " \n",
            " The solution was found.\n",
            " \n",
            " The final value of the objective function is  -1.335065206747002E-004\n",
            " \n",
            " ---------------------------------------------------\n",
            " Solver         :  IPOPT (v3.12)\n",
            " Solution time  :   0.136400000003050      sec\n",
            " Objective      :  -1.335065206747002E-004\n",
            " Successful solution\n",
            " ---------------------------------------------------\n",
            " \n",
            "      DEST       DIST   Harvested\n",
            "0    54748   0.000000  [820000.0]\n",
            "1    54949   2.923952       [0.0]\n",
            "2    54549   3.524870       [0.0]\n",
            "3    55150   3.546847       [0.0]\n",
            "4    54948   3.807373       [0.0]\n",
            "..     ...        ...         ...\n",
            "156  57374  19.780805       [0.0]\n",
            "157  57170  19.846136       [0.0]\n",
            "158  52550  19.859424       [0.0]\n",
            "159  57781  19.916702       [0.0]\n",
            "160  57375  19.984985       [0.0]\n",
            "\n",
            "[161 rows x 3 columns]\n"
          ],
          "name": "stdout"
        }
      ]
    },
    {
      "cell_type": "code",
      "metadata": {
        "id": "mqTm1whRCt3B"
      },
      "source": [
        ""
      ],
      "execution_count": 26,
      "outputs": []
    }
  ]
}