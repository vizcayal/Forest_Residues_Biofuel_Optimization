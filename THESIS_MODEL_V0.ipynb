{
  "nbformat": 4,
  "nbformat_minor": 0,
  "metadata": {
    "colab": {
      "name": "THESIS_MODEL V0.ipynb",
      "provenance": [],
      "authorship_tag": "ABX9TyNBZU2utIRflBu5Cv8Luy3D",
      "include_colab_link": true
    },
    "kernelspec": {
      "name": "python3",
      "display_name": "Python 3"
    }
  },
  "cells": [
    {
      "cell_type": "markdown",
      "metadata": {
        "id": "view-in-github",
        "colab_type": "text"
      },
      "source": [
        "<a href=\"https://colab.research.google.com/github/vizcayal/Thesis_UT/blob/main/THESIS_MODEL_V0.ipynb\" target=\"_parent\"><img src=\"https://colab.research.google.com/assets/colab-badge.svg\" alt=\"Open In Colab\"/></a>"
      ]
    },
    {
      "cell_type": "markdown",
      "metadata": {
        "id": "BbmhtvgnZUe0"
      },
      "source": [
        "**Installing packages needed**"
      ]
    },
    {
      "cell_type": "code",
      "metadata": {
        "id": "9PbaQG2oYXd5",
        "colab": {
          "base_uri": "https://localhost:8080/"
        },
        "outputId": "7f844528-0a80-459a-9879-40e28074987a"
      },
      "source": [
        "!pip install gekko"
      ],
      "execution_count": null,
      "outputs": [
        {
          "output_type": "stream",
          "text": [
            "Collecting gekko\n",
            "\u001b[?25l  Downloading https://files.pythonhosted.org/packages/f9/4b/d5520da5a95fe677d05479a8391327d318fad9f250de791e390c4c39e712/gekko-0.2.8-py3-none-any.whl (10.8MB)\n",
            "\u001b[K     |████████████████████████████████| 10.8MB 3.8MB/s \n",
            "\u001b[?25hCollecting flask-cors\n",
            "  Downloading https://files.pythonhosted.org/packages/69/7f/d0aeaaafb5c3c76c8d2141dbe2d4f6dca5d6c31872d4e5349768c1958abc/Flask_Cors-3.0.9-py2.py3-none-any.whl\n",
            "Requirement already satisfied: flask in /usr/local/lib/python3.6/dist-packages (from gekko) (1.1.2)\n",
            "Requirement already satisfied: numpy>=1.8 in /usr/local/lib/python3.6/dist-packages (from gekko) (1.19.4)\n",
            "Requirement already satisfied: Six in /usr/local/lib/python3.6/dist-packages (from flask-cors->gekko) (1.15.0)\n",
            "Requirement already satisfied: itsdangerous>=0.24 in /usr/local/lib/python3.6/dist-packages (from flask->gekko) (1.1.0)\n",
            "Requirement already satisfied: Werkzeug>=0.15 in /usr/local/lib/python3.6/dist-packages (from flask->gekko) (1.0.1)\n",
            "Requirement already satisfied: click>=5.1 in /usr/local/lib/python3.6/dist-packages (from flask->gekko) (7.1.2)\n",
            "Requirement already satisfied: Jinja2>=2.10.1 in /usr/local/lib/python3.6/dist-packages (from flask->gekko) (2.11.2)\n",
            "Requirement already satisfied: MarkupSafe>=0.23 in /usr/local/lib/python3.6/dist-packages (from Jinja2>=2.10.1->flask->gekko) (1.1.1)\n",
            "Installing collected packages: flask-cors, gekko\n",
            "Successfully installed flask-cors-3.0.9 gekko-0.2.8\n"
          ],
          "name": "stdout"
        }
      ]
    },
    {
      "cell_type": "markdown",
      "metadata": {
        "id": "PfDtY5HjUWbs"
      },
      "source": [
        "**Importing libraries needed**"
      ]
    },
    {
      "cell_type": "markdown",
      "metadata": {
        "id": "DK_6O3A-ZDfd"
      },
      "source": [
        ""
      ]
    },
    {
      "cell_type": "code",
      "metadata": {
        "id": "-Uhaf81oUfRp",
        "colab": {
          "base_uri": "https://localhost:8080/"
        },
        "outputId": "7c365695-26df-42cb-ac4e-c672e4b7f021"
      },
      "source": [
        "import numpy as np\r\n",
        "from gekko import GEKKO\r\n",
        "import pandas as pd\r\n",
        "import os\r\n",
        "from google.colab import files\r\n",
        "from google.colab import drive\r\n",
        "drive.mount(\"/content/drive\")\r\n",
        "\r\n"
      ],
      "execution_count": null,
      "outputs": [
        {
          "output_type": "stream",
          "text": [
            "Mounted at /content/drive\n"
          ],
          "name": "stdout"
        }
      ]
    },
    {
      "cell_type": "markdown",
      "metadata": {
        "id": "dBG0GVk9Y81m"
      },
      "source": [
        "**UPLOADING FOREST INVENTORY DATA**"
      ]
    },
    {
      "cell_type": "code",
      "metadata": {
        "id": "ejsq_UohZL_W"
      },
      "source": [
        "#Upload distances from each hexagon to other\r\n",
        "Dist = pd.read_csv(\"/content/drive/My Drive/Colab Notebooks/Distance_TN.csv\")\r\n",
        "Mills = pd.read_csv(\"/content/drive/My Drive/Colab Notebooks/Mills_TN.csv\")\r\n",
        "Hardwood_Sawlog = pd.read_csv(\"/content/drive/My Drive/Colab Notebooks/Hardwood_Sawlog.csv\")\r\n"
      ],
      "execution_count": null,
      "outputs": []
    },
    {
      "cell_type": "markdown",
      "metadata": {
        "id": "2XCJBkIx2Oed"
      },
      "source": [
        "**1ST PHASE - MILLS DEMAND - SHORTEST DISTANCE CRITERIA**"
      ]
    },
    {
      "cell_type": "code",
      "metadata": {
        "id": "oDXsRJhXSWKd",
        "colab": {
          "base_uri": "https://localhost:8080/"
        },
        "outputId": "44e215ac-3644-48ba-8575-88a6ef03366a"
      },
      "source": [
        "#Initialize Model\r\n",
        "m = GEKKO(remote=True) \r\n",
        "#Set global options\r\n",
        "m.options.solver = 3\r\n",
        "m.options.IMODE = 3 #steady state optimization\r\n",
        "\r\n",
        "#define parameter\r\n",
        "Num_Cell= 2010\r\n",
        "\r\n",
        "H2 = m.Array(m.Var,(Num_Cell),value = 0)\r\n",
        "Demand = 20000000 \r\n",
        "D = np.zeros(Num_Cell)\r\n",
        "F = Hardwood_Sawlog.SumOfTotal\r\n",
        "\r\n",
        "for i in range(Num_Cell):\r\n",
        "  H2[i].lower = 0\r\n",
        "  H2[i].upper = 1000000\r\n",
        "  D[i] = i\r\n",
        "\r\n",
        "m.Equation(m.sum(H2[0:Num_Cell])==Demand)\r\n",
        "m.Minimize(m.sum([D[i]*H2[i] for i in range(len(H2))])) \r\n",
        "m.solve(disp=True,debug=True)\r\n",
        "\r\n",
        "print('') \r\n",
        "print(H2)"
      ],
      "execution_count": 72,
      "outputs": [
        {
          "output_type": "stream",
          "text": [
            "apm 35.231.238.37_gk_model53 <br><pre> ----------------------------------------------------------------\n",
            " APMonitor, Version 1.0.0\n",
            " APMonitor Optimization Suite\n",
            " ----------------------------------------------------------------\n",
            " \n",
            " \n",
            " --------- APM Model Size ------------\n",
            " Each time step contains\n",
            "   Objects      :            1\n",
            "   Constants    :            0\n",
            "   Variables    :         4021\n",
            "   Intermediates:            0\n",
            "   Connections  :         2011\n",
            "   Equations    :         2012\n",
            "   Residuals    :         2012\n",
            " \n",
            " Number of state variables:           4021\n",
            " Number of total equations: -         2012\n",
            " Number of slack variables: -            0\n",
            " ---------------------------------------\n",
            " Degrees of freedom       :           2009\n",
            " \n",
            " **********************************************\n",
            " Steady State Optimization with Interior Point Solver\n",
            " **********************************************\n",
            "  \n",
            "  \n",
            " Info: Exact Hessian\n",
            "\n",
            "******************************************************************************\n",
            "This program contains Ipopt, a library for large-scale nonlinear optimization.\n",
            " Ipopt is released as open source code under the Eclipse Public License (EPL).\n",
            "         For more information visit http://projects.coin-or.org/Ipopt\n",
            "******************************************************************************\n",
            "\n",
            "This is Ipopt version 3.12.10, running with linear solver ma57.\n",
            "\n",
            "Number of nonzeros in equality constraint Jacobian...:     8041\n",
            "Number of nonzeros in inequality constraint Jacobian.:        0\n",
            "Number of nonzeros in Lagrangian Hessian.............:        0\n",
            "\n",
            "Total number of variables............................:     4021\n",
            "                     variables with only lower bounds:        0\n",
            "                variables with lower and upper bounds:     2010\n",
            "                     variables with only upper bounds:        0\n",
            "Total number of equality constraints.................:     2012\n",
            "Total number of inequality constraints...............:        0\n",
            "        inequality constraints with only lower bounds:        0\n",
            "   inequality constraints with lower and upper bounds:        0\n",
            "        inequality constraints with only upper bounds:        0\n",
            "\n",
            "iter    objective    inf_pr   inf_du lg(mu)  ||d||  lg(rg) alpha_du alpha_pr  ls\n",
            "   0  0.0000000e+00 2.00e+07 9.99e-01   0.0 0.00e+00    -  0.00e+00 0.00e+00   0\n",
            "   1  2.0083233e+10 2.20e-05 3.45e+05   3.8 2.01e+10    -  2.87e-06 1.00e+00h  1\n",
            "Reallocating memory for MA57: lfact (6332705)\n",
            "   2  1.2888331e+10 1.06e-05 3.45e+05  -0.3 2.95e+14    -  2.06e-05 2.44e-05f  1\n",
            "   3  8.5619497e+09 1.96e-05 3.45e+05   5.2 1.79e+14    -  5.56e-05 2.42e-05f  1\n",
            "   4  2.3098925e+10 3.00e-06 3.45e+05   7.7 9.32e+14    -  5.20e-04 1.56e-05f  1\n",
            "   5  1.6049038e+10 8.51e-06 3.44e+05   5.6 2.21e+12    -  7.43e-04 3.19e-03f  1\n",
            "   6  6.3189021e+09 6.83e-06 3.43e+05   4.9 5.33e+12    -  7.11e-05 1.82e-03f  1\n",
            "   7  8.6394618e+09 1.46e-05 3.43e+05   7.7 3.81e+13    -  4.51e-05 6.10e-05f  1\n",
            "   8  8.4161555e+09 7.58e-07 3.43e+05   5.6 2.86e+12    -  1.92e-04 7.80e-05f  1\n",
            "   9  7.8541594e+09 3.26e-06 3.43e+05   4.9 2.74e+12    -  1.41e-04 2.05e-04f  1\n",
            "iter    objective    inf_pr   inf_du lg(mu)  ||d||  lg(rg) alpha_du alpha_pr  ls\n",
            "  10  7.4560173e+09 8.64e-06 3.43e+05   4.9 2.41e+12    -  1.28e-04 1.65e-04f  1\n",
            "  11  7.0063071e+09 4.05e-06 3.43e+05   4.9 2.22e+12    -  1.32e-04 2.03e-04f  1\n",
            "  12  6.4071412e+09 1.67e-06 3.43e+05   4.9 2.01e+12    -  1.73e-04 2.98e-04f  1\n",
            "  13  5.6522780e+09 1.07e-05 3.43e+05   4.9 1.75e+12    -  2.88e-04 4.32e-04f  1\n",
            "  14  6.0501476e+09 7.71e-06 3.43e+05   7.7 2.60e+13    -  3.94e-05 1.53e-05f  1\n",
            "  15  5.9939259e+09 1.09e-05 3.43e+05   5.6 1.33e+12    -  5.64e-04 4.22e-05f  1\n",
            "  16  5.5436262e+09 1.06e-05 3.42e+05   4.9 1.25e+12    -  1.96e-04 3.61e-04f  1\n",
            "  17  5.1560243e+09 1.52e-05 3.42e+05   5.6 1.04e+12    -  9.72e-02 3.74e-04f  1\n",
            "  18  4.4532118e+09 8.99e-06 3.37e+05   4.2 4.85e+10    -  1.22e-02 1.45e-02f  1\n",
            "  19  3.8792992e+09 9.44e-06 3.32e+05   3.7 3.78e+10    -  1.68e-02 1.52e-02f  1\n",
            "iter    objective    inf_pr   inf_du lg(mu)  ||d||  lg(rg) alpha_du alpha_pr  ls\n",
            "  20  3.3807482e+09 1.09e-05 3.26e+05  -0.3 2.89e+10    -  2.02e-02 1.72e-02f  1\n",
            "  21  2.9854394e+09 6.71e-06 3.21e+05  -0.3 2.20e+10    -  2.28e-02 1.80e-02f  1\n",
            "  22  2.6852480e+09 7.49e-06 3.15e+05  -0.3 1.69e+10    -  2.36e-02 1.77e-02f  1\n",
            "  23  2.3665256e+09 9.60e-06 3.07e+05   4.0 1.34e+10    -  2.53e-02 2.38e-02f  1\n",
            "  24  2.0045843e+09 8.74e-06 2.97e+05   4.4 1.03e+10    -  3.06e-02 3.52e-02f  1\n",
            "  25  1.6337999e+09 9.26e-06 2.82e+05   4.5 7.58e+09    -  3.90e-02 4.89e-02f  1\n",
            "  26  1.2756110e+09 9.57e-06 2.63e+05   4.5 5.27e+09    -  5.05e-02 6.79e-02f  1\n",
            "  27  9.3046583e+08 7.83e-06 2.36e+05   4.5 3.43e+09    -  6.77e-02 1.01e-01f  1\n",
            "  28  6.6831787e+08 8.14e-06 2.05e+05   4.4 1.99e+09    -  9.65e-02 1.32e-01f  1\n",
            "  29  6.3433205e+08 5.12e-06 1.99e+05   4.2 1.11e+09    -  1.00e+00 3.07e-02f  1\n",
            "iter    objective    inf_pr   inf_du lg(mu)  ||d||  lg(rg) alpha_du alpha_pr  ls\n",
            "  30  3.8415896e+08 2.84e-06 8.47e+04   3.5 4.36e+08    -  2.09e-01 5.74e-01f  1\n",
            "  31  2.3188573e+08 1.85e-07 1.89e+00   4.3 1.52e+08    -  3.44e-01 1.00e+00f  1\n",
            "  32  1.9667167e+08 7.08e-08 1.33e-03   3.5 3.52e+07    -  9.26e-01 1.00e+00f  1\n",
            "  33  1.9007776e+08 1.75e-07 6.73e-06   1.5 6.61e+06    -  9.95e-01 9.97e-01f  1\n",
            "  34  1.9000078e+08 2.89e-07 6.85e-08  -4.3 7.78e+04    -  9.90e-01 9.90e-01f  1\n",
            "  35  1.9000001e+08 6.92e-08 4.52e-06  -6.3 7.78e+02    -  9.90e-01 9.88e-01f  1\n",
            "  36  1.9000000e+08 1.30e-08 4.89e-04  -8.3 9.44e+00    -  9.98e-01 9.76e-01f  1\n",
            "  37  1.9000000e+08 1.79e-06 8.98e-06 -10.2 2.23e-01    -  1.00e+00 9.97e-01f  1\n",
            "In iteration 37, 19 Slacks too small, adjusting variable bounds\n",
            "  38  1.9000000e+08 5.18e-07 4.55e-13 -11.0 6.12e-04    -  1.00e+00 1.00e+00h  1\n",
            "\n",
            "Number of Iterations....: 38\n",
            "\n",
            "                                   (scaled)                 (unscaled)\n",
            "Objective...............:   1.8999999808022416e+08    1.8999999808022416e+08\n",
            "Dual infeasibility......:   4.5473735088656412e-13    4.5473735088656412e-13\n",
            "Constraint violation....:   5.1781535148620605e-07    5.1781535148620605e-07\n",
            "Complementarity.........:   1.1624498273027504e-11    1.1624498273027504e-11\n",
            "Overall NLP error.......:   5.1781535148620605e-07    5.1781535148620605e-07\n",
            "\n",
            "\n",
            "Number of objective function evaluations             = 39\n",
            "Number of objective gradient evaluations             = 39\n",
            "Number of equality constraint evaluations            = 39\n",
            "Number of inequality constraint evaluations          = 0\n",
            "Number of equality constraint Jacobian evaluations   = 39\n",
            "Number of inequality constraint Jacobian evaluations = 0\n",
            "Number of Lagrangian Hessian evaluations             = 38\n",
            "Total CPU secs in IPOPT (w/o function evaluations)   =     19.486\n",
            "Total CPU secs in NLP function evaluations           =      6.523\n",
            "\n",
            "EXIT: Optimal Solution Found.\n",
            " \n",
            " The solution was found.\n",
            " \n",
            " The final value of the objective function is    189999998.080224     \n",
            " \n",
            " ---------------------------------------------------\n",
            " Solver         :  IPOPT (v3.12)\n",
            " Solution time  :    26.1643000000040      sec\n",
            " Objective      :    189999998.080224     \n",
            " Successful solution\n",
            " ---------------------------------------------------\n",
            " \n",
            "460    3324215.863\n",
            "461     1757630.78\n",
            "462         <Null>\n",
            "463    2713964.183\n",
            "464    1339478.491\n",
            "465    2891716.233\n",
            "466    4638405.948\n",
            "467    3322375.819\n",
            "468    2568246.207\n",
            "469    3798625.259\n",
            "Name: SumOfTotal, dtype: object\n",
            "\n",
            "[[1000000.0] [1000000.0] [1000000.0] ... [0.0] [0.0] [0.0]]\n"
          ],
          "name": "stdout"
        }
      ]
    }
  ]
}