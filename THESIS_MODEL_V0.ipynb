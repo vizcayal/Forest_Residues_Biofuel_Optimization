{
  "nbformat": 4,
  "nbformat_minor": 0,
  "metadata": {
    "colab": {
      "name": "THESIS_MODEL V0.ipynb",
      "provenance": [],
      "authorship_tag": "ABX9TyNqa+Y0wmH1wm9HibL8HaXZ",
      "include_colab_link": true
    },
    "kernelspec": {
      "name": "python3",
      "display_name": "Python 3"
    }
  },
  "cells": [
    {
      "cell_type": "markdown",
      "metadata": {
        "id": "view-in-github",
        "colab_type": "text"
      },
      "source": [
        "<a href=\"https://colab.research.google.com/github/vizcayal/Thesis_UT/blob/V1/THESIS_MODEL_V0.ipynb\" target=\"_parent\"><img src=\"https://colab.research.google.com/assets/colab-badge.svg\" alt=\"Open In Colab\"/></a>"
      ]
    },
    {
      "cell_type": "markdown",
      "metadata": {
        "id": "BbmhtvgnZUe0"
      },
      "source": [
        "**Installing packages needed**"
      ]
    },
    {
      "cell_type": "code",
      "metadata": {
        "id": "9PbaQG2oYXd5"
      },
      "source": [
        "!pip install gekko\r\n",
        "!pip install ipynb"
      ],
      "execution_count": null,
      "outputs": []
    },
    {
      "cell_type": "markdown",
      "metadata": {
        "id": "PfDtY5HjUWbs"
      },
      "source": [
        "**Importing libraries needed**"
      ]
    },
    {
      "cell_type": "code",
      "metadata": {
        "id": "-Uhaf81oUfRp",
        "colab": {
          "base_uri": "https://localhost:8080/"
        },
        "outputId": "9f1196b4-7a4c-420a-dd86-c8a257591206"
      },
      "source": [
        "import numpy as np\r\n",
        "from gekko import GEKKO\r\n",
        "import pandas as pd\r\n",
        "import os\r\n",
        "from google.colab import files\r\n",
        "from google.colab import drive\r\n",
        "drive.mount(\"/content/drive\")\r\n",
        "import sys\r\n",
        "sys.path.append('/content/drive/My Drive/Colab Notebooks/')\r\n",
        "from library import *\r\n",
        "#Initialize Model\r\n",
        "m = GEKKO(remote=True) \r\n",
        "#Set global options\r\n",
        "m.options.solver = 3\r\n",
        "m.options.IMODE = 3 #steady state optimization\r\n",
        "\r\n"
      ],
      "execution_count": 4,
      "outputs": [
        {
          "output_type": "stream",
          "text": [
            "Drive already mounted at /content/drive; to attempt to forcibly remount, call drive.mount(\"/content/drive\", force_remount=True).\n"
          ],
          "name": "stdout"
        }
      ]
    },
    {
      "cell_type": "markdown",
      "metadata": {
        "id": "R0nJnGd5CiEw"
      },
      "source": [
        "**SAWMILL CLASS**"
      ]
    },
    {
      "cell_type": "code",
      "metadata": {
        "id": "V0N_36t4-S0e"
      },
      "source": [
        "#SawMill Object\r\n",
        "class Mill:\r\n",
        "  m = GEKKO(remote=True)\r\n",
        "\r\n",
        "  def __init__(self, Id, Wood, Prod, Dis):\r\n",
        "    self.Id = Id\r\n",
        "    self.Wood_type =Wood\r\n",
        "    self.Prod_type = Prod\r\n",
        "    self.Dist = Dis\r\n",
        "    #print(\"Mill: \",self.Id, \" Created\")\r\n",
        "\r\n",
        "  def Harvest_Close(self, Dem, Available, radio):\r\n",
        "    self.Demand = Dem\r\n",
        "    Num = 100\r\n",
        "    H = m.Array(m.Var,(Num),value = 0)\r\n",
        "    for i in range(Num):\r\n",
        "      H[i].lower = 0\r\n",
        "      H[i].upper = Available[i]\r\n",
        "      \r\n",
        "    prod0 = m.Intermediate(m.sum([self.Dist[i]*H[i] for i in range(0,len(H))]))\r\n",
        "    m.Equation(self.Demand==m.sum([H[i] for i in range(0,len(H))]))\r\n",
        "    m.Obj(prod0) \r\n",
        "    m.solve(disp=True,debug=True)\r\n",
        "    \r\n",
        "    return (H)\r\n",
        "   "
      ],
      "execution_count": 5,
      "outputs": []
    },
    {
      "cell_type": "code",
      "metadata": {
        "id": "IqS4uwxiCgh6"
      },
      "source": [
        "class Inventory:\r\n",
        "  def __init__(self, Available, Dist):\r\n",
        "    self.Available = Available\r\n",
        "    self.Dist = Dist\r\n",
        "    self.Mills = []\r\n",
        "  \r\n",
        "  def Add_Mill(self, m):\r\n",
        "    self.Mills.append(m)\r\n"
      ],
      "execution_count": 6,
      "outputs": []
    },
    {
      "cell_type": "markdown",
      "metadata": {
        "id": "dBG0GVk9Y81m"
      },
      "source": [
        "**UPLOADING FOREST INVENTORY DATA**"
      ]
    },
    {
      "cell_type": "code",
      "metadata": {
        "id": "ejsq_UohZL_W"
      },
      "source": [
        "#Upload distances from each hexagon to other\r\n",
        "Dist_Data = pd.read_csv(\"/content/drive/My Drive/Colab Notebooks/Distance_TN.csv\")\r\n",
        "Mills_Data = pd.read_csv(\"/content/drive/My Drive/Colab Notebooks/Mills_TN.csv\")\r\n",
        "Hardwood_Sawlog_Data = pd.read_csv(\"/content/drive/My Drive/Colab Notebooks/Hardwood_Sawlog.csv\")\r\n",
        "\r\n"
      ],
      "execution_count": 7,
      "outputs": []
    },
    {
      "cell_type": "markdown",
      "metadata": {
        "id": "2XCJBkIx2Oed"
      },
      "source": [
        "**1ST PHASE - MILLS DEMAND - SHORTEST DISTANCE CRITERIA**"
      ]
    },
    {
      "cell_type": "code",
      "metadata": {
        "id": "oDXsRJhXSWKd"
      },
      "source": [
        "#define parameter\r\n",
        "Num_Cell= 1000\r\n",
        "D = np.zeros(Num_Cell)\r\n",
        "Demand = 20000000 \r\n",
        "F = Hardwood_Sawlog_Data.SumOfTotal\r\n",
        "\r\n",
        "for i in range(Num_Cell):\r\n",
        "  D[i] = i\r\n",
        "\r\n",
        "Hardwood_Sawlog = Inventory(F,D)\r\n",
        "a =[]\r\n",
        "\r\n",
        "for k in range(len(Mills_Data)):\r\n",
        "  Hardwood_Sawlog.Mills.append(Mill(Mills_Data['Unique_ID'][k],Mills_Data['plant'][k],Mills_Data['s_h'][k],D))\r\n",
        "\r\n",
        "for k in range(5):\r\n",
        "  print(\"Mill \", k)\r\n",
        "  Hardwood_Sawlog.Mills[k].Harvest_Close(Demand,F,1)\r\n",
        "\r\n"
      ],
      "execution_count": null,
      "outputs": []
    }
  ]
}