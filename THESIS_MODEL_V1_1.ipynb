{
  "nbformat": 4,
  "nbformat_minor": 0,
  "metadata": {
    "colab": {
      "name": "THESIS_MODEL V1.1.ipynb",
      "provenance": [],
      "collapsed_sections": [],
      "authorship_tag": "ABX9TyPK6RSfsuxtSpA3Zt3oImuq",
      "include_colab_link": true
    },
    "kernelspec": {
      "name": "python3",
      "display_name": "Python 3"
    }
  },
  "cells": [
    {
      "cell_type": "markdown",
      "metadata": {
        "id": "view-in-github",
        "colab_type": "text"
      },
      "source": [
        "<a href=\"https://colab.research.google.com/github/vizcayal/Thesis_UT/blob/V1/THESIS_MODEL_V1_1.ipynb\" target=\"_parent\"><img src=\"https://colab.research.google.com/assets/colab-badge.svg\" alt=\"Open In Colab\"/></a>"
      ]
    },
    {
      "cell_type": "markdown",
      "metadata": {
        "id": "BbmhtvgnZUe0"
      },
      "source": [
        "**Installing packages needed**"
      ]
    },
    {
      "cell_type": "code",
      "metadata": {
        "id": "9PbaQG2oYXd5",
        "colab": {
          "base_uri": "https://localhost:8080/"
        },
        "outputId": "856be2a1-8cd1-4372-95cc-dd0013bcb154"
      },
      "source": [
        "!pip install gekko\r\n",
        "!pip install ipynb\r\n"
      ],
      "execution_count": 1,
      "outputs": [
        {
          "output_type": "stream",
          "text": [
            "Collecting gekko\n",
            "\u001b[?25l  Downloading https://files.pythonhosted.org/packages/f9/4b/d5520da5a95fe677d05479a8391327d318fad9f250de791e390c4c39e712/gekko-0.2.8-py3-none-any.whl (10.8MB)\n",
            "\u001b[K     |████████████████████████████████| 10.8MB 5.0MB/s \n",
            "\u001b[?25hCollecting flask-cors\n",
            "  Downloading https://files.pythonhosted.org/packages/69/7f/d0aeaaafb5c3c76c8d2141dbe2d4f6dca5d6c31872d4e5349768c1958abc/Flask_Cors-3.0.9-py2.py3-none-any.whl\n",
            "Requirement already satisfied: flask in /usr/local/lib/python3.6/dist-packages (from gekko) (1.1.2)\n",
            "Requirement already satisfied: numpy>=1.8 in /usr/local/lib/python3.6/dist-packages (from gekko) (1.19.4)\n",
            "Requirement already satisfied: Six in /usr/local/lib/python3.6/dist-packages (from flask-cors->gekko) (1.15.0)\n",
            "Requirement already satisfied: click>=5.1 in /usr/local/lib/python3.6/dist-packages (from flask->gekko) (7.1.2)\n",
            "Requirement already satisfied: Werkzeug>=0.15 in /usr/local/lib/python3.6/dist-packages (from flask->gekko) (1.0.1)\n",
            "Requirement already satisfied: Jinja2>=2.10.1 in /usr/local/lib/python3.6/dist-packages (from flask->gekko) (2.11.2)\n",
            "Requirement already satisfied: itsdangerous>=0.24 in /usr/local/lib/python3.6/dist-packages (from flask->gekko) (1.1.0)\n",
            "Requirement already satisfied: MarkupSafe>=0.23 in /usr/local/lib/python3.6/dist-packages (from Jinja2>=2.10.1->flask->gekko) (1.1.1)\n",
            "Installing collected packages: flask-cors, gekko\n",
            "Successfully installed flask-cors-3.0.9 gekko-0.2.8\n",
            "Collecting ipynb\n",
            "  Downloading https://files.pythonhosted.org/packages/31/42/4c0bbb66390e3a68e04ebf134c8d074a00c18b5882293f8ace5f7497fbf0/ipynb-0.5.1-py3-none-any.whl\n",
            "Installing collected packages: ipynb\n",
            "Successfully installed ipynb-0.5.1\n"
          ],
          "name": "stdout"
        }
      ]
    },
    {
      "cell_type": "markdown",
      "metadata": {
        "id": "PfDtY5HjUWbs"
      },
      "source": [
        "**Importing libraries needed**"
      ]
    },
    {
      "cell_type": "code",
      "metadata": {
        "id": "-Uhaf81oUfRp",
        "colab": {
          "base_uri": "https://localhost:8080/"
        },
        "outputId": "462b9f19-eec1-46a8-dfb1-2570e202b13e"
      },
      "source": [
        "import numpy as np\r\n",
        "import time\r\n",
        "from multiprocessing import *\r\n",
        "from gekko import GEKKO\r\n",
        "import pandas as pd\r\n",
        "import os\r\n",
        "from google.colab import files\r\n",
        "from google.colab import drive\r\n",
        "drive.mount(\"/content/drive\")\r\n",
        "import sys\r\n",
        "sys.path.append('/content/drive/My Drive/Colab Notebooks/')\r\n",
        "from library import *\r\n",
        "#Initialize Model\r\n",
        "m = GEKKO(remote=True) \r\n",
        "#Set global options\r\n",
        "m.options.solver = 3\r\n",
        "m.options.IMODE = 3 #steady state optimization\r\n"
      ],
      "execution_count": 2,
      "outputs": [
        {
          "output_type": "stream",
          "text": [
            "Mounted at /content/drive\n"
          ],
          "name": "stdout"
        }
      ]
    },
    {
      "cell_type": "code",
      "metadata": {
        "id": "0JmzGQGEN96m"
      },
      "source": [
        "#Upload distances from each hexagon to other\r\n",
        "Dist_Data = pd.read_csv(\"/content/drive/My Drive/Colab Notebooks/Distance_TN.csv\")\r\n",
        "Mills_Data = pd.read_csv(\"/content/drive/My Drive/Colab Notebooks/Mills_TN.csv\")\r\n"
      ],
      "execution_count": 3,
      "outputs": []
    },
    {
      "cell_type": "markdown",
      "metadata": {
        "id": "R0nJnGd5CiEw"
      },
      "source": [
        "**SAWMILL CLASS**"
      ]
    },
    {
      "cell_type": "code",
      "metadata": {
        "id": "IqS4uwxiCgh6"
      },
      "source": [
        "m = GEKKO(remote=True)\r\n",
        "class Inventory:\r\n",
        "  def __init__(self, Av, Dist):\r\n",
        "    self.Available = []\r\n",
        "    self.Available.append(Av) #Dataframe that contains Available wood Inventory at diferent time t\r\n",
        "    self.Dist = Dist #Matrix Distance from any cell to another cell\r\n",
        "    self.Mills = [] #Dataframe that contains Id, typewood, type_product, and demand of mills\r\n",
        "    self.Dist_Mill = [] #Dataframe that contains the Distance to the mill to be harvested\r\n",
        "    self.Available_Mill = [] #Dataframe that contains the Available Inventory close the mill to be harvested\r\n",
        "    self.Harvested = []\r\n",
        "    self.Residues = []\r\n",
        "    self.Growth = 0\r\n",
        "    self.WoodType = 0\r\n",
        "    self.ProdType = 0\r\n",
        "\r\n",
        "  def Harvest_Mill(self,t, j):\r\n",
        "    #Given a period t and a Mill j the function provide the harvested wood and substract it from available inventory\r\n",
        "    Id1 =self.Mills.loc[j,('Unique_ID')]\r\n",
        "    a =self.Cell_Less(Id1,0,20)\r\n",
        "    self.Dist_Mill = a.loc[:, ('DEST','DIST')]\r\n",
        "    Num = len(self.Dist_Mill)\r\n",
        "    \r\n",
        "    H = m.Array(m.Var,(Num),value = 0)\r\n",
        "    Dem = self.Mills.loc[j,('Demand')]\r\n",
        "    self.Available_Mill = self.Disp_Radio( Id1, t, 20)\r\n",
        "    \r\n",
        "    for i in range(Num):\r\n",
        "      H[i].lower = 0\r\n",
        "      H[i].upper = self.Available_Mill[i]\r\n",
        "      \r\n",
        "    prod0 = m.Intermediate(m.sum([self.Dist_Mill.loc[i,('DIST')]*H[i] for i in range(Num)]))\r\n",
        "    \r\n",
        "    m.Equation(Dem ==m.sum([H[i] for i in range(0,len(H))]))\r\n",
        "    m.Obj(prod0) \r\n",
        "    m.solve(disp=False,debug=False)\r\n",
        "    a = self.Dist_Mill\r\n",
        "    flat = [item for l in H for item in l]\r\n",
        "    a['Harvested'] = flat \r\n",
        "    ans = a\r\n",
        "    \r\n",
        "    #Storing Harvested \r\n",
        "    for j in range(len(ans)):                                                                         \r\n",
        "      if not(self.Harvested[0][self.Harvested[0][\"Unique_ID\"]==ans.loc[j,('DEST')]].empty):\r\n",
        "        a1 = self.Harvested[0][\"Unique_ID\"]==ans.loc[j,('DEST')]\r\n",
        "        a2 = int(np.where(a1)[0])\r\n",
        "        self.Harvested[0].loc[a2,(\"Harvested\")] = self.Harvested[0].loc[a2,(\"Harvested\")] + ans.loc[j,('Harvested')]  \r\n",
        "    print('Harvested[0]\\n',self.Harvested[0])\r\n",
        "    print('Sum Harvested\\n',sum(self.Harvested[0].Harvested))\r\n",
        "\r\n",
        "    #Discounting Harvested from Inventory\r\n",
        "    for j in range(len(ans)):                                                                         \r\n",
        "      if not(self.Available[0][self.Available[0][\"Unique_ID\"]==ans.loc[j,('DEST')]].empty):\r\n",
        "        a1 = self.Available[0][\"Unique_ID\"]==ans.loc[j,('DEST')]\r\n",
        "        a2 = int(np.where(a1)[0])\r\n",
        "        self.Available[0].loc[a2,(\"SumOfTotal\")] = self.Available[0].loc[a2,(\"SumOfTotal\")] - ans.loc[j,('Harvested')]  \r\n",
        "  \r\n",
        "  def Harvest_All_Mills(self,k):\r\n",
        "    for i in range(k):\r\n",
        "      print('Cosechando Sawmill:',i)\r\n",
        "      Hardwood_Sawlog.Harvest_Mill(0,i)\r\n",
        "    \r\n",
        "  \r\n",
        "  def Inventory_Growth(self,t,rate = 0):\r\n",
        "    if (rate == 0):\r\n",
        "      r = self.Growth\r\n",
        "    else:\r\n",
        "      r = rate\r\n",
        "\r\n",
        "    print('Available:',self.Available[t].loc[:,(\"SumOfTotal\")])\r\n",
        "    self.Available[t].loc[:,(\"SumOfTotal\")] = self.Available[t].loc[:,(\"SumOfTotal\")]*(1+r/100)\r\n",
        "    print('Available:',self.Available[t].loc[:,(\"SumOfTotal\")])\r\n",
        "\r\n",
        "\r\n",
        "  def Cell_Less(self, Id_Mill, Time, Radio=20):\r\n",
        "    #Given a Time and Radio and a Mill ID this function returns a list of cells with Distance and Availability\r\n",
        "    Ans = self.Dist[(self.Dist['ORIG'] == Id_Mill)&(self.Dist['DIST'] <= Radio)] #CELLS EQUAL ID_MILL AND CLOSER THAN RADIO\r\n",
        "    rows = Ans.shape[0]\r\n",
        "    ind = [i for i in range(rows)]\r\n",
        "    Ans.index=ind    \r\n",
        "    Disp =[]\r\n",
        "\r\n",
        "    for j in range(len(Ans)):                                                                         \r\n",
        "      if self.Available[0][self.Available[0][\"Unique_ID\"]==Ans.loc[j,('DEST')]].empty:\r\n",
        "        Disp.append(0)\r\n",
        "      else:\r\n",
        "        Disp.append(int(self.Available[0][self.Available[0][\"Unique_ID\"]==Ans.loc[j,('DEST')]].SumOfTotal))\r\n",
        "\r\n",
        "    Ans[\"AVAIL\"] = Disp \r\n",
        "    return(Ans)\r\n",
        "\r\n",
        "  def Disp_Radio(self, Id_Mill, Time, Radio=20):\r\n",
        "    #Given a Time and Radio and a Mill ID this function returns a list of Inventory Available\r\n",
        "    Ans = self.Dist[(self.Dist['ORIG'] == Id_Mill)&(self.Dist['DIST'] <= Radio)] #CELLS EQUAL ID_MILL AND CLOSER THAN RADIO\r\n",
        "    rows = Ans.shape[0]\r\n",
        "    ind = [i for i in range(rows)]\r\n",
        "    Ans.index=ind    \r\n",
        "    Disp =[]\r\n",
        "    for j in range(len(Ans)):                                                                         \r\n",
        "      if self.Available[0][self.Available[0][\"Unique_ID\"]==Ans.loc[j,('DEST')]].empty:\r\n",
        "        Disp.append(0)\r\n",
        "      else:\r\n",
        "        Disp.append(int(self.Available[0][self.Available[0][\"Unique_ID\"]==Ans.loc[j,('DEST')]].SumOfTotal))\r\n",
        "\r\n",
        "    return(Disp)\r\n",
        "  \r\n",
        "\r\n",
        "  def Num_Cell(self, Id_Mill, Radio=10):\r\n",
        "    #Given a Radio and a Mill ID this function returns cell among the radio distance\r\n",
        "    Ans = self.Dist[(self.Dist['ORIG'] == Id_Mill)&(self.Dist['DIST'] <= Radio)]\r\n",
        "    #print(\"Numero de celdas \",len(Ans))\r\n",
        "    return(len(Ans))\r\n",
        "    \r\n"
      ],
      "execution_count": 4,
      "outputs": []
    },
    {
      "cell_type": "markdown",
      "metadata": {
        "id": "dBG0GVk9Y81m"
      },
      "source": [
        "**UPLOADING FOREST INVENTORY DATA**"
      ]
    },
    {
      "cell_type": "markdown",
      "metadata": {
        "id": "2XCJBkIx2Oed"
      },
      "source": [
        "**1ST PHASE - MILLS DEMAND - SHORTEST DISTANCE CRITERIA**"
      ]
    },
    {
      "cell_type": "code",
      "metadata": {
        "id": "oDXsRJhXSWKd",
        "colab": {
          "base_uri": "https://localhost:8080/"
        },
        "outputId": "1e2a8742-54d0-4284-c4e9-50152cbf4392"
      },
      "source": [
        "# Main Program\r\n",
        "start_time = time.time()\r\n",
        "Hardwood_Sawlog_Data = pd.read_csv(\"/content/drive/My Drive/Colab Notebooks/Hardwood_Sawlog.csv\")\r\n",
        "\r\n",
        "Hardwood_Sawlog = Inventory(Hardwood_Sawlog_Data,Dist_Data)\r\n",
        "v1 = Hardwood_Sawlog.Available[0][\"Unique_ID\"]==54549\r\n",
        "v2 =int(Hardwood_Sawlog.Available[0].loc[v1,(\"SumOfTotal\")])\r\n",
        "print('Before harvesting',v2)\r\n",
        "r1 = len(Hardwood_Sawlog.Available[0])\r\n",
        "Id_li = list(Hardwood_Sawlog.Available[0].loc[:,(\"Unique_ID\")])\r\n",
        "Ha_li =[0]*r1\r\n",
        "Data = {'Unique_ID':Id_li,'Harvested':Ha_li}\r\n",
        "Hardwood_Sawlog.Harvested.append(pd.DataFrame(Data))\r\n",
        "#Hardwood_Sawlog.Harvested[0].insert(0,\"Unique_ID\", l]\r\n",
        "#Hardwood_Sawlog.Harvested[0].rename(columns=['Unique_ID','Harvested'])\r\n",
        "#print(\"DataFrame Harvested\\n\",Hardwood_Sawlog.Harvested[0])\r\n",
        "Num_Mills = 20\r\n",
        "ma = Dist_Data['ORIG'].unique()\r\n",
        "print('Ma', ma[0])\r\n",
        "\r\n",
        "for k in range(Num_Mills):\r\n",
        "  Mills_Data.loc[k,('Unique_ID')] = ma[k]\r\n",
        "  #Mills_Data.loc[k,('Demand')] = 10000000\r\n",
        "\r\n",
        "Hardwood_Sawlog.Mills=Mills_Data\r\n",
        "Hardwood_Sawlog.Harvest_All_Mills(Num_Mills)\r\n",
        "  \r\n",
        "print('AFTER HARVEST',Hardwood_Sawlog.Available[0].loc[v1,(\"SumOfTotal\")])\r\n",
        "#compression_opts = dict(method='zip',\r\n",
        "#                        archive_name='out.csv')  \r\n",
        "Hardwood_Sawlog.Harvested[0].to_csv('/content/drive/My Drive/Colab Notebooks/out.cvs')\r\n",
        "Mills_Data.to_csv('/content/drive/My Drive/Colab Notebooks/Mills_TN_CF.cvs')\r\n",
        "\r\n",
        "print (\"My program took\", time.time() - start_time, \"to run\")"
      ],
      "execution_count": null,
      "outputs": [
        {
          "output_type": "stream",
          "text": [
            "Before harvesting 2287844\n",
            "Ma 54549\n",
            "Cosechando Sawmill: 0\n"
          ],
          "name": "stdout"
        },
        {
          "output_type": "stream",
          "text": [
            "/usr/local/lib/python3.6/dist-packages/ipykernel_launcher.py:88: SettingWithCopyWarning: \n",
            "A value is trying to be set on a copy of a slice from a DataFrame.\n",
            "Try using .loc[row_indexer,col_indexer] = value instead\n",
            "\n",
            "See the caveats in the documentation: https://pandas.pydata.org/pandas-docs/stable/user_guide/indexing.html#returning-a-view-versus-a-copy\n",
            "/usr/local/lib/python3.6/dist-packages/ipykernel_launcher.py:33: DeprecationWarning: elementwise comparison failed; this will raise an error in the future.\n"
          ],
          "name": "stderr"
        },
        {
          "output_type": "stream",
          "text": [
            "Harvested[0]\n",
            "       Unique_ID  Harvested\n",
            "0         74031        0.0\n",
            "1         75559        0.0\n",
            "2         86608        0.0\n",
            "3         68554        0.0\n",
            "4         68082        0.0\n",
            "...         ...        ...\n",
            "7758      76917        0.0\n",
            "7759      61910        0.0\n",
            "7760      76697        0.0\n",
            "7761      75323        0.0\n",
            "7762      54749  2268199.0\n",
            "\n",
            "[7763 rows x 2 columns]\n",
            "Sum Harvested\n",
            " 9999999.908760365\n",
            "Cosechando Sawmill: 1\n"
          ],
          "name": "stdout"
        },
        {
          "output_type": "stream",
          "text": [
            "/usr/local/lib/python3.6/dist-packages/ipykernel_launcher.py:88: SettingWithCopyWarning: \n",
            "A value is trying to be set on a copy of a slice from a DataFrame.\n",
            "Try using .loc[row_indexer,col_indexer] = value instead\n",
            "\n",
            "See the caveats in the documentation: https://pandas.pydata.org/pandas-docs/stable/user_guide/indexing.html#returning-a-view-versus-a-copy\n",
            "/usr/local/lib/python3.6/dist-packages/ipykernel_launcher.py:33: DeprecationWarning: elementwise comparison failed; this will raise an error in the future.\n"
          ],
          "name": "stderr"
        },
        {
          "output_type": "stream",
          "text": [
            "Harvested[0]\n",
            "       Unique_ID  Harvested\n",
            "0         74031        0.0\n",
            "1         75559        0.0\n",
            "2         86608        0.0\n",
            "3         68554        0.0\n",
            "4         68082        0.0\n",
            "...         ...        ...\n",
            "7758      76917        0.0\n",
            "7759      61910        0.0\n",
            "7760      76697        0.0\n",
            "7761      75323        0.0\n",
            "7762      54749  2268199.0\n",
            "\n",
            "[7763 rows x 2 columns]\n",
            "Sum Harvested\n",
            " 19999999.825660363\n",
            "Cosechando Sawmill: 2\n"
          ],
          "name": "stdout"
        },
        {
          "output_type": "stream",
          "text": [
            "/usr/local/lib/python3.6/dist-packages/ipykernel_launcher.py:88: SettingWithCopyWarning: \n",
            "A value is trying to be set on a copy of a slice from a DataFrame.\n",
            "Try using .loc[row_indexer,col_indexer] = value instead\n",
            "\n",
            "See the caveats in the documentation: https://pandas.pydata.org/pandas-docs/stable/user_guide/indexing.html#returning-a-view-versus-a-copy\n",
            "/usr/local/lib/python3.6/dist-packages/ipykernel_launcher.py:33: DeprecationWarning: elementwise comparison failed; this will raise an error in the future.\n"
          ],
          "name": "stderr"
        },
        {
          "output_type": "stream",
          "text": [
            "Harvested[0]\n",
            "       Unique_ID  Harvested\n",
            "0         74031        0.0\n",
            "1         75559        0.0\n",
            "2         86608        0.0\n",
            "3         68554        0.0\n",
            "4         68082        0.0\n",
            "...         ...        ...\n",
            "7758      76917        0.0\n",
            "7759      61910        0.0\n",
            "7760      76697        0.0\n",
            "7761      75323        0.0\n",
            "7762      54749  2268199.0\n",
            "\n",
            "[7763 rows x 2 columns]\n",
            "Sum Harvested\n",
            " 29999999.74896042\n",
            "Cosechando Sawmill: 3\n"
          ],
          "name": "stdout"
        },
        {
          "output_type": "stream",
          "text": [
            "/usr/local/lib/python3.6/dist-packages/ipykernel_launcher.py:88: SettingWithCopyWarning: \n",
            "A value is trying to be set on a copy of a slice from a DataFrame.\n",
            "Try using .loc[row_indexer,col_indexer] = value instead\n",
            "\n",
            "See the caveats in the documentation: https://pandas.pydata.org/pandas-docs/stable/user_guide/indexing.html#returning-a-view-versus-a-copy\n",
            "/usr/local/lib/python3.6/dist-packages/ipykernel_launcher.py:33: DeprecationWarning: elementwise comparison failed; this will raise an error in the future.\n"
          ],
          "name": "stderr"
        },
        {
          "output_type": "stream",
          "text": [
            "Harvested[0]\n",
            "       Unique_ID  Harvested\n",
            "0         74031        0.0\n",
            "1         75559        0.0\n",
            "2         86608        0.0\n",
            "3         68554        0.0\n",
            "4         68082        0.0\n",
            "...         ...        ...\n",
            "7758      76917        0.0\n",
            "7759      61910        0.0\n",
            "7760      76697        0.0\n",
            "7761      75323        0.0\n",
            "7762      54749  2268199.0\n",
            "\n",
            "[7763 rows x 2 columns]\n",
            "Sum Harvested\n",
            " 39999999.65906042\n",
            "Cosechando Sawmill: 4\n"
          ],
          "name": "stdout"
        },
        {
          "output_type": "stream",
          "text": [
            "/usr/local/lib/python3.6/dist-packages/ipykernel_launcher.py:88: SettingWithCopyWarning: \n",
            "A value is trying to be set on a copy of a slice from a DataFrame.\n",
            "Try using .loc[row_indexer,col_indexer] = value instead\n",
            "\n",
            "See the caveats in the documentation: https://pandas.pydata.org/pandas-docs/stable/user_guide/indexing.html#returning-a-view-versus-a-copy\n",
            "/usr/local/lib/python3.6/dist-packages/ipykernel_launcher.py:33: DeprecationWarning: elementwise comparison failed; this will raise an error in the future.\n"
          ],
          "name": "stderr"
        },
        {
          "output_type": "stream",
          "text": [
            "Harvested[0]\n",
            "       Unique_ID  Harvested\n",
            "0         74031        0.0\n",
            "1         75559        0.0\n",
            "2         86608        0.0\n",
            "3         68554        0.0\n",
            "4         68082        0.0\n",
            "...         ...        ...\n",
            "7758      76917        0.0\n",
            "7759      61910        0.0\n",
            "7760      76697        0.0\n",
            "7761      75323        0.0\n",
            "7762      54749  2268199.0\n",
            "\n",
            "[7763 rows x 2 columns]\n",
            "Sum Harvested\n",
            " 49999999.56239042\n",
            "Cosechando Sawmill: 5\n"
          ],
          "name": "stdout"
        },
        {
          "output_type": "stream",
          "text": [
            "/usr/local/lib/python3.6/dist-packages/ipykernel_launcher.py:88: SettingWithCopyWarning: \n",
            "A value is trying to be set on a copy of a slice from a DataFrame.\n",
            "Try using .loc[row_indexer,col_indexer] = value instead\n",
            "\n",
            "See the caveats in the documentation: https://pandas.pydata.org/pandas-docs/stable/user_guide/indexing.html#returning-a-view-versus-a-copy\n",
            "/usr/local/lib/python3.6/dist-packages/ipykernel_launcher.py:33: DeprecationWarning: elementwise comparison failed; this will raise an error in the future.\n"
          ],
          "name": "stderr"
        },
        {
          "output_type": "stream",
          "text": [
            "Harvested[0]\n",
            "       Unique_ID  Harvested\n",
            "0         74031        0.0\n",
            "1         75559        0.0\n",
            "2         86608        0.0\n",
            "3         68554        0.0\n",
            "4         68082        0.0\n",
            "...         ...        ...\n",
            "7758      76917        0.0\n",
            "7759      61910        0.0\n",
            "7760      76697        0.0\n",
            "7761      75323        0.0\n",
            "7762      54749  2268199.0\n",
            "\n",
            "[7763 rows x 2 columns]\n",
            "Sum Harvested\n",
            " 59999999.472391665\n",
            "Cosechando Sawmill: 6\n"
          ],
          "name": "stdout"
        },
        {
          "output_type": "stream",
          "text": [
            "/usr/local/lib/python3.6/dist-packages/ipykernel_launcher.py:88: SettingWithCopyWarning: \n",
            "A value is trying to be set on a copy of a slice from a DataFrame.\n",
            "Try using .loc[row_indexer,col_indexer] = value instead\n",
            "\n",
            "See the caveats in the documentation: https://pandas.pydata.org/pandas-docs/stable/user_guide/indexing.html#returning-a-view-versus-a-copy\n",
            "/usr/local/lib/python3.6/dist-packages/ipykernel_launcher.py:33: DeprecationWarning: elementwise comparison failed; this will raise an error in the future.\n"
          ],
          "name": "stderr"
        },
        {
          "output_type": "stream",
          "text": [
            "Harvested[0]\n",
            "       Unique_ID  Harvested\n",
            "0         74031        0.0\n",
            "1         75559        0.0\n",
            "2         86608        0.0\n",
            "3         68554        0.0\n",
            "4         68082        0.0\n",
            "...         ...        ...\n",
            "7758      76917        0.0\n",
            "7759      61910        0.0\n",
            "7760      76697        0.0\n",
            "7761      75323        0.0\n",
            "7762      54749  2268199.0\n",
            "\n",
            "[7763 rows x 2 columns]\n",
            "Sum Harvested\n",
            " 69999999.40189175\n",
            "Cosechando Sawmill: 7\n"
          ],
          "name": "stdout"
        },
        {
          "output_type": "stream",
          "text": [
            "/usr/local/lib/python3.6/dist-packages/ipykernel_launcher.py:88: SettingWithCopyWarning: \n",
            "A value is trying to be set on a copy of a slice from a DataFrame.\n",
            "Try using .loc[row_indexer,col_indexer] = value instead\n",
            "\n",
            "See the caveats in the documentation: https://pandas.pydata.org/pandas-docs/stable/user_guide/indexing.html#returning-a-view-versus-a-copy\n",
            "/usr/local/lib/python3.6/dist-packages/ipykernel_launcher.py:33: DeprecationWarning: elementwise comparison failed; this will raise an error in the future.\n"
          ],
          "name": "stderr"
        },
        {
          "output_type": "stream",
          "text": [
            "Harvested[0]\n",
            "       Unique_ID  Harvested\n",
            "0         74031        0.0\n",
            "1         75559        0.0\n",
            "2         86608        0.0\n",
            "3         68554        0.0\n",
            "4         68082        0.0\n",
            "...         ...        ...\n",
            "7758      76917        0.0\n",
            "7759      61910        0.0\n",
            "7760      76697        0.0\n",
            "7761      75323        0.0\n",
            "7762      54749  2268199.0\n",
            "\n",
            "[7763 rows x 2 columns]\n",
            "Sum Harvested\n",
            " 79999999.31045188\n",
            "Cosechando Sawmill: 8\n"
          ],
          "name": "stdout"
        },
        {
          "output_type": "stream",
          "text": [
            "/usr/local/lib/python3.6/dist-packages/ipykernel_launcher.py:88: SettingWithCopyWarning: \n",
            "A value is trying to be set on a copy of a slice from a DataFrame.\n",
            "Try using .loc[row_indexer,col_indexer] = value instead\n",
            "\n",
            "See the caveats in the documentation: https://pandas.pydata.org/pandas-docs/stable/user_guide/indexing.html#returning-a-view-versus-a-copy\n",
            "/usr/local/lib/python3.6/dist-packages/ipykernel_launcher.py:33: DeprecationWarning: elementwise comparison failed; this will raise an error in the future.\n"
          ],
          "name": "stderr"
        },
        {
          "output_type": "stream",
          "text": [
            "Harvested[0]\n",
            "       Unique_ID  Harvested\n",
            "0         74031        0.0\n",
            "1         75559        0.0\n",
            "2         86608        0.0\n",
            "3         68554        0.0\n",
            "4         68082        0.0\n",
            "...         ...        ...\n",
            "7758      76917        0.0\n",
            "7759      61910        0.0\n",
            "7760      76697        0.0\n",
            "7761      75323        0.0\n",
            "7762      54749  2268199.0\n",
            "\n",
            "[7763 rows x 2 columns]\n",
            "Sum Harvested\n",
            " 89999999.23765205\n",
            "Cosechando Sawmill: 9\n"
          ],
          "name": "stdout"
        },
        {
          "output_type": "stream",
          "text": [
            "/usr/local/lib/python3.6/dist-packages/ipykernel_launcher.py:88: SettingWithCopyWarning: \n",
            "A value is trying to be set on a copy of a slice from a DataFrame.\n",
            "Try using .loc[row_indexer,col_indexer] = value instead\n",
            "\n",
            "See the caveats in the documentation: https://pandas.pydata.org/pandas-docs/stable/user_guide/indexing.html#returning-a-view-versus-a-copy\n",
            "/usr/local/lib/python3.6/dist-packages/ipykernel_launcher.py:33: DeprecationWarning: elementwise comparison failed; this will raise an error in the future.\n"
          ],
          "name": "stderr"
        },
        {
          "output_type": "stream",
          "text": [
            "Harvested[0]\n",
            "       Unique_ID  Harvested\n",
            "0         74031        0.0\n",
            "1         75559        0.0\n",
            "2         86608        0.0\n",
            "3         68554        0.0\n",
            "4         68082        0.0\n",
            "...         ...        ...\n",
            "7758      76917        0.0\n",
            "7759      61910        0.0\n",
            "7760      76697        0.0\n",
            "7761      75323        0.0\n",
            "7762      54749  2268199.0\n",
            "\n",
            "[7763 rows x 2 columns]\n",
            "Sum Harvested\n",
            " 99999999.16225225\n",
            "Cosechando Sawmill: 10\n"
          ],
          "name": "stdout"
        },
        {
          "output_type": "stream",
          "text": [
            "/usr/local/lib/python3.6/dist-packages/ipykernel_launcher.py:88: SettingWithCopyWarning: \n",
            "A value is trying to be set on a copy of a slice from a DataFrame.\n",
            "Try using .loc[row_indexer,col_indexer] = value instead\n",
            "\n",
            "See the caveats in the documentation: https://pandas.pydata.org/pandas-docs/stable/user_guide/indexing.html#returning-a-view-versus-a-copy\n",
            "/usr/local/lib/python3.6/dist-packages/ipykernel_launcher.py:33: DeprecationWarning: elementwise comparison failed; this will raise an error in the future.\n"
          ],
          "name": "stderr"
        },
        {
          "output_type": "stream",
          "text": [
            "Harvested[0]\n",
            "       Unique_ID  Harvested\n",
            "0         74031        0.0\n",
            "1         75559        0.0\n",
            "2         86608        0.0\n",
            "3         68554        0.0\n",
            "4         68082        0.0\n",
            "...         ...        ...\n",
            "7758      76917        0.0\n",
            "7759      61910        0.0\n",
            "7760      76697        0.0\n",
            "7761      75323        0.0\n",
            "7762      54749  2268199.0\n",
            "\n",
            "[7763 rows x 2 columns]\n",
            "Sum Harvested\n",
            " 109999999.06928252\n",
            "Cosechando Sawmill: 11\n"
          ],
          "name": "stdout"
        },
        {
          "output_type": "stream",
          "text": [
            "/usr/local/lib/python3.6/dist-packages/ipykernel_launcher.py:88: SettingWithCopyWarning: \n",
            "A value is trying to be set on a copy of a slice from a DataFrame.\n",
            "Try using .loc[row_indexer,col_indexer] = value instead\n",
            "\n",
            "See the caveats in the documentation: https://pandas.pydata.org/pandas-docs/stable/user_guide/indexing.html#returning-a-view-versus-a-copy\n",
            "/usr/local/lib/python3.6/dist-packages/ipykernel_launcher.py:33: DeprecationWarning: elementwise comparison failed; this will raise an error in the future.\n"
          ],
          "name": "stderr"
        },
        {
          "output_type": "stream",
          "text": [
            "Harvested[0]\n",
            "       Unique_ID     Harvested\n",
            "0         74031  0.000000e+00\n",
            "1         75559  0.000000e+00\n",
            "2         86608  0.000000e+00\n",
            "3         68554  0.000000e+00\n",
            "4         68082  0.000000e+00\n",
            "...         ...           ...\n",
            "7758      76917  0.000000e+00\n",
            "7759      61910  1.473207e-08\n",
            "7760      76697  0.000000e+00\n",
            "7761      75323  0.000000e+00\n",
            "7762      54749  2.268199e+06\n",
            "\n",
            "[7763 rows x 2 columns]\n",
            "Sum Harvested\n",
            " 119999998.98278666\n",
            "Cosechando Sawmill: 12\n"
          ],
          "name": "stdout"
        },
        {
          "output_type": "stream",
          "text": [
            "/usr/local/lib/python3.6/dist-packages/ipykernel_launcher.py:88: SettingWithCopyWarning: \n",
            "A value is trying to be set on a copy of a slice from a DataFrame.\n",
            "Try using .loc[row_indexer,col_indexer] = value instead\n",
            "\n",
            "See the caveats in the documentation: https://pandas.pydata.org/pandas-docs/stable/user_guide/indexing.html#returning-a-view-versus-a-copy\n",
            "/usr/local/lib/python3.6/dist-packages/ipykernel_launcher.py:33: DeprecationWarning: elementwise comparison failed; this will raise an error in the future.\n"
          ],
          "name": "stderr"
        },
        {
          "output_type": "stream",
          "text": [
            "Harvested[0]\n",
            "       Unique_ID     Harvested\n",
            "0         74031  0.000000e+00\n",
            "1         75559  0.000000e+00\n",
            "2         86608  0.000000e+00\n",
            "3         68554  0.000000e+00\n",
            "4         68082  0.000000e+00\n",
            "...         ...           ...\n",
            "7758      76917  0.000000e+00\n",
            "7759      61910  1.473207e-08\n",
            "7760      76697  0.000000e+00\n",
            "7761      75323  0.000000e+00\n",
            "7762      54749  2.268199e+06\n",
            "\n",
            "[7763 rows x 2 columns]\n",
            "Sum Harvested\n",
            " 129999998.88506861\n",
            "Cosechando Sawmill: 13\n"
          ],
          "name": "stdout"
        },
        {
          "output_type": "stream",
          "text": [
            "/usr/local/lib/python3.6/dist-packages/ipykernel_launcher.py:88: SettingWithCopyWarning: \n",
            "A value is trying to be set on a copy of a slice from a DataFrame.\n",
            "Try using .loc[row_indexer,col_indexer] = value instead\n",
            "\n",
            "See the caveats in the documentation: https://pandas.pydata.org/pandas-docs/stable/user_guide/indexing.html#returning-a-view-versus-a-copy\n",
            "/usr/local/lib/python3.6/dist-packages/ipykernel_launcher.py:33: DeprecationWarning: elementwise comparison failed; this will raise an error in the future.\n"
          ],
          "name": "stderr"
        },
        {
          "output_type": "stream",
          "text": [
            "Harvested[0]\n",
            "       Unique_ID     Harvested\n",
            "0         74031  0.000000e+00\n",
            "1         75559  0.000000e+00\n",
            "2         86608  0.000000e+00\n",
            "3         68554  0.000000e+00\n",
            "4         68082  0.000000e+00\n",
            "...         ...           ...\n",
            "7758      76917  0.000000e+00\n",
            "7759      61910  1.473207e-08\n",
            "7760      76697  0.000000e+00\n",
            "7761      75323  0.000000e+00\n",
            "7762      54749  2.268199e+06\n",
            "\n",
            "[7763 rows x 2 columns]\n",
            "Sum Harvested\n",
            " 139999998.79626852\n",
            "Cosechando Sawmill: 14\n"
          ],
          "name": "stdout"
        },
        {
          "output_type": "stream",
          "text": [
            "/usr/local/lib/python3.6/dist-packages/ipykernel_launcher.py:88: SettingWithCopyWarning: \n",
            "A value is trying to be set on a copy of a slice from a DataFrame.\n",
            "Try using .loc[row_indexer,col_indexer] = value instead\n",
            "\n",
            "See the caveats in the documentation: https://pandas.pydata.org/pandas-docs/stable/user_guide/indexing.html#returning-a-view-versus-a-copy\n",
            "/usr/local/lib/python3.6/dist-packages/ipykernel_launcher.py:33: DeprecationWarning: elementwise comparison failed; this will raise an error in the future.\n"
          ],
          "name": "stderr"
        },
        {
          "output_type": "stream",
          "text": [
            "Harvested[0]\n",
            "       Unique_ID     Harvested\n",
            "0         74031  0.000000e+00\n",
            "1         75559  0.000000e+00\n",
            "2         86608  0.000000e+00\n",
            "3         68554  0.000000e+00\n",
            "4         68082  0.000000e+00\n",
            "...         ...           ...\n",
            "7758      76917  0.000000e+00\n",
            "7759      61910  2.060220e-08\n",
            "7760      76697  0.000000e+00\n",
            "7761      75323  0.000000e+00\n",
            "7762      54749  2.268199e+06\n",
            "\n",
            "[7763 rows x 2 columns]\n",
            "Sum Harvested\n",
            " 149999998.70150933\n",
            "Cosechando Sawmill: 15\n"
          ],
          "name": "stdout"
        },
        {
          "output_type": "stream",
          "text": [
            "/usr/local/lib/python3.6/dist-packages/ipykernel_launcher.py:88: SettingWithCopyWarning: \n",
            "A value is trying to be set on a copy of a slice from a DataFrame.\n",
            "Try using .loc[row_indexer,col_indexer] = value instead\n",
            "\n",
            "See the caveats in the documentation: https://pandas.pydata.org/pandas-docs/stable/user_guide/indexing.html#returning-a-view-versus-a-copy\n",
            "/usr/local/lib/python3.6/dist-packages/ipykernel_launcher.py:33: DeprecationWarning: elementwise comparison failed; this will raise an error in the future.\n"
          ],
          "name": "stderr"
        },
        {
          "output_type": "stream",
          "text": [
            "Harvested[0]\n",
            "       Unique_ID     Harvested\n",
            "0         74031  0.000000e+00\n",
            "1         75559  0.000000e+00\n",
            "2         86608  0.000000e+00\n",
            "3         68554  0.000000e+00\n",
            "4         68082  0.000000e+00\n",
            "...         ...           ...\n",
            "7758      76917  0.000000e+00\n",
            "7759      61910  2.060220e-08\n",
            "7760      76697  0.000000e+00\n",
            "7761      75323  0.000000e+00\n",
            "7762      54749  2.268199e+06\n",
            "\n",
            "[7763 rows x 2 columns]\n",
            "Sum Harvested\n",
            " 159999998.61580965\n",
            "Cosechando Sawmill: 16\n"
          ],
          "name": "stdout"
        },
        {
          "output_type": "stream",
          "text": [
            "/usr/local/lib/python3.6/dist-packages/ipykernel_launcher.py:88: SettingWithCopyWarning: \n",
            "A value is trying to be set on a copy of a slice from a DataFrame.\n",
            "Try using .loc[row_indexer,col_indexer] = value instead\n",
            "\n",
            "See the caveats in the documentation: https://pandas.pydata.org/pandas-docs/stable/user_guide/indexing.html#returning-a-view-versus-a-copy\n",
            "/usr/local/lib/python3.6/dist-packages/ipykernel_launcher.py:33: DeprecationWarning: elementwise comparison failed; this will raise an error in the future.\n"
          ],
          "name": "stderr"
        },
        {
          "output_type": "stream",
          "text": [
            "Harvested[0]\n",
            "       Unique_ID     Harvested\n",
            "0         74031  0.000000e+00\n",
            "1         75559  0.000000e+00\n",
            "2         86608  0.000000e+00\n",
            "3         68554  0.000000e+00\n",
            "4         68082  0.000000e+00\n",
            "...         ...           ...\n",
            "7758      76917  0.000000e+00\n",
            "7759      61910  2.334858e-08\n",
            "7760      76697  0.000000e+00\n",
            "7761      75323  0.000000e+00\n",
            "7762      54749  2.268199e+06\n",
            "\n",
            "[7763 rows x 2 columns]\n",
            "Sum Harvested\n",
            " 169999998.53481025\n",
            "Cosechando Sawmill: 17\n"
          ],
          "name": "stdout"
        },
        {
          "output_type": "stream",
          "text": [
            "/usr/local/lib/python3.6/dist-packages/ipykernel_launcher.py:88: SettingWithCopyWarning: \n",
            "A value is trying to be set on a copy of a slice from a DataFrame.\n",
            "Try using .loc[row_indexer,col_indexer] = value instead\n",
            "\n",
            "See the caveats in the documentation: https://pandas.pydata.org/pandas-docs/stable/user_guide/indexing.html#returning-a-view-versus-a-copy\n",
            "/usr/local/lib/python3.6/dist-packages/ipykernel_launcher.py:33: DeprecationWarning: elementwise comparison failed; this will raise an error in the future.\n"
          ],
          "name": "stderr"
        },
        {
          "output_type": "stream",
          "text": [
            "Harvested[0]\n",
            "       Unique_ID     Harvested\n",
            "0         74031  0.000000e+00\n",
            "1         75559  0.000000e+00\n",
            "2         86608  0.000000e+00\n",
            "3         68554  0.000000e+00\n",
            "4         68082  0.000000e+00\n",
            "...         ...           ...\n",
            "7758      76917  0.000000e+00\n",
            "7759      61910  2.334858e-08\n",
            "7760      76697  0.000000e+00\n",
            "7761      75323  0.000000e+00\n",
            "7762      54749  2.268199e+06\n",
            "\n",
            "[7763 rows x 2 columns]\n",
            "Sum Harvested\n",
            " 179999998.44478083\n",
            "Cosechando Sawmill: 18\n"
          ],
          "name": "stdout"
        },
        {
          "output_type": "stream",
          "text": [
            "/usr/local/lib/python3.6/dist-packages/ipykernel_launcher.py:88: SettingWithCopyWarning: \n",
            "A value is trying to be set on a copy of a slice from a DataFrame.\n",
            "Try using .loc[row_indexer,col_indexer] = value instead\n",
            "\n",
            "See the caveats in the documentation: https://pandas.pydata.org/pandas-docs/stable/user_guide/indexing.html#returning-a-view-versus-a-copy\n",
            "/usr/local/lib/python3.6/dist-packages/ipykernel_launcher.py:33: DeprecationWarning: elementwise comparison failed; this will raise an error in the future.\n"
          ],
          "name": "stderr"
        },
        {
          "output_type": "stream",
          "text": [
            "Harvested[0]\n",
            "       Unique_ID     Harvested\n",
            "0         74031  0.000000e+00\n",
            "1         75559  0.000000e+00\n",
            "2         86608  0.000000e+00\n",
            "3         68554  0.000000e+00\n",
            "4         68082  0.000000e+00\n",
            "...         ...           ...\n",
            "7758      76917  0.000000e+00\n",
            "7759      61910  2.334858e-08\n",
            "7760      76697  0.000000e+00\n",
            "7761      75323  0.000000e+00\n",
            "7762      54749  2.268199e+06\n",
            "\n",
            "[7763 rows x 2 columns]\n",
            "Sum Harvested\n",
            " 189999998.3485011\n",
            "Cosechando Sawmill: 19\n"
          ],
          "name": "stdout"
        },
        {
          "output_type": "stream",
          "text": [
            "/usr/local/lib/python3.6/dist-packages/ipykernel_launcher.py:88: SettingWithCopyWarning: \n",
            "A value is trying to be set on a copy of a slice from a DataFrame.\n",
            "Try using .loc[row_indexer,col_indexer] = value instead\n",
            "\n",
            "See the caveats in the documentation: https://pandas.pydata.org/pandas-docs/stable/user_guide/indexing.html#returning-a-view-versus-a-copy\n",
            "/usr/local/lib/python3.6/dist-packages/ipykernel_launcher.py:33: DeprecationWarning: elementwise comparison failed; this will raise an error in the future.\n"
          ],
          "name": "stderr"
        },
        {
          "output_type": "stream",
          "text": [
            "Harvested[0]\n",
            "       Unique_ID     Harvested\n",
            "0         74031  0.000000e+00\n",
            "1         75559  0.000000e+00\n",
            "2         86608  0.000000e+00\n",
            "3         68554  0.000000e+00\n",
            "4         68082  0.000000e+00\n",
            "...         ...           ...\n",
            "7758      76917  0.000000e+00\n",
            "7759      61910  2.334858e-08\n",
            "7760      76697  0.000000e+00\n",
            "7761      75323  0.000000e+00\n",
            "7762      54749  2.268199e+06\n",
            "\n",
            "[7763 rows x 2 columns]\n",
            "Sum Harvested\n",
            " 199999998.26670185\n",
            "Cosechando Sawmill: 20\n"
          ],
          "name": "stdout"
        },
        {
          "output_type": "stream",
          "text": [
            "/usr/local/lib/python3.6/dist-packages/ipykernel_launcher.py:88: SettingWithCopyWarning: \n",
            "A value is trying to be set on a copy of a slice from a DataFrame.\n",
            "Try using .loc[row_indexer,col_indexer] = value instead\n",
            "\n",
            "See the caveats in the documentation: https://pandas.pydata.org/pandas-docs/stable/user_guide/indexing.html#returning-a-view-versus-a-copy\n",
            "/usr/local/lib/python3.6/dist-packages/ipykernel_launcher.py:33: DeprecationWarning: elementwise comparison failed; this will raise an error in the future.\n"
          ],
          "name": "stderr"
        },
        {
          "output_type": "stream",
          "text": [
            "Harvested[0]\n",
            "       Unique_ID     Harvested\n",
            "0         74031  0.000000e+00\n",
            "1         75559  0.000000e+00\n",
            "2         86608  0.000000e+00\n",
            "3         68554  0.000000e+00\n",
            "4         68082  0.000000e+00\n",
            "...         ...           ...\n",
            "7758      76917  0.000000e+00\n",
            "7759      61910  2.334858e-08\n",
            "7760      76697  0.000000e+00\n",
            "7761      75323  0.000000e+00\n",
            "7762      54749  2.268199e+06\n",
            "\n",
            "[7763 rows x 2 columns]\n",
            "Sum Harvested\n",
            " 209999998.19050184\n",
            "Cosechando Sawmill: 21\n"
          ],
          "name": "stdout"
        },
        {
          "output_type": "stream",
          "text": [
            "/usr/local/lib/python3.6/dist-packages/ipykernel_launcher.py:88: SettingWithCopyWarning: \n",
            "A value is trying to be set on a copy of a slice from a DataFrame.\n",
            "Try using .loc[row_indexer,col_indexer] = value instead\n",
            "\n",
            "See the caveats in the documentation: https://pandas.pydata.org/pandas-docs/stable/user_guide/indexing.html#returning-a-view-versus-a-copy\n",
            "/usr/local/lib/python3.6/dist-packages/ipykernel_launcher.py:33: DeprecationWarning: elementwise comparison failed; this will raise an error in the future.\n"
          ],
          "name": "stderr"
        },
        {
          "output_type": "stream",
          "text": [
            "Harvested[0]\n",
            "       Unique_ID     Harvested\n",
            "0         74031  0.000000e+00\n",
            "1         75559  0.000000e+00\n",
            "2         86608  0.000000e+00\n",
            "3         68554  0.000000e+00\n",
            "4         68082  0.000000e+00\n",
            "...         ...           ...\n",
            "7758      76917  0.000000e+00\n",
            "7759      61910  2.334858e-08\n",
            "7760      76697  0.000000e+00\n",
            "7761      75323  0.000000e+00\n",
            "7762      54749  2.268199e+06\n",
            "\n",
            "[7763 rows x 2 columns]\n",
            "Sum Harvested\n",
            " 219999998.09364235\n",
            "Cosechando Sawmill: 22\n"
          ],
          "name": "stdout"
        },
        {
          "output_type": "stream",
          "text": [
            "/usr/local/lib/python3.6/dist-packages/ipykernel_launcher.py:88: SettingWithCopyWarning: \n",
            "A value is trying to be set on a copy of a slice from a DataFrame.\n",
            "Try using .loc[row_indexer,col_indexer] = value instead\n",
            "\n",
            "See the caveats in the documentation: https://pandas.pydata.org/pandas-docs/stable/user_guide/indexing.html#returning-a-view-versus-a-copy\n",
            "/usr/local/lib/python3.6/dist-packages/ipykernel_launcher.py:33: DeprecationWarning: elementwise comparison failed; this will raise an error in the future.\n"
          ],
          "name": "stderr"
        },
        {
          "output_type": "stream",
          "text": [
            "Harvested[0]\n",
            "       Unique_ID     Harvested\n",
            "0         74031  0.000000e+00\n",
            "1         75559  0.000000e+00\n",
            "2         86608  0.000000e+00\n",
            "3         68554  0.000000e+00\n",
            "4         68082  0.000000e+00\n",
            "...         ...           ...\n",
            "7758      76917  0.000000e+00\n",
            "7759      61910  2.334858e-08\n",
            "7760      76697  0.000000e+00\n",
            "7761      75323  0.000000e+00\n",
            "7762      54749  2.268199e+06\n",
            "\n",
            "[7763 rows x 2 columns]\n",
            "Sum Harvested\n",
            " 229999997.99624237\n",
            "Cosechando Sawmill: 23\n"
          ],
          "name": "stdout"
        },
        {
          "output_type": "stream",
          "text": [
            "/usr/local/lib/python3.6/dist-packages/ipykernel_launcher.py:88: SettingWithCopyWarning: \n",
            "A value is trying to be set on a copy of a slice from a DataFrame.\n",
            "Try using .loc[row_indexer,col_indexer] = value instead\n",
            "\n",
            "See the caveats in the documentation: https://pandas.pydata.org/pandas-docs/stable/user_guide/indexing.html#returning-a-view-versus-a-copy\n",
            "/usr/local/lib/python3.6/dist-packages/ipykernel_launcher.py:33: DeprecationWarning: elementwise comparison failed; this will raise an error in the future.\n"
          ],
          "name": "stderr"
        },
        {
          "output_type": "stream",
          "text": [
            "Harvested[0]\n",
            "       Unique_ID     Harvested\n",
            "0         74031  0.000000e+00\n",
            "1         75559  0.000000e+00\n",
            "2         86608  0.000000e+00\n",
            "3         68554  0.000000e+00\n",
            "4         68082  0.000000e+00\n",
            "...         ...           ...\n",
            "7758      76917  0.000000e+00\n",
            "7759      61910  2.334858e-08\n",
            "7760      76697  0.000000e+00\n",
            "7761      75323  0.000000e+00\n",
            "7762      54749  2.268199e+06\n",
            "\n",
            "[7763 rows x 2 columns]\n",
            "Sum Harvested\n",
            " 239999997.89767238\n",
            "Cosechando Sawmill: 24\n"
          ],
          "name": "stdout"
        },
        {
          "output_type": "stream",
          "text": [
            "/usr/local/lib/python3.6/dist-packages/ipykernel_launcher.py:88: SettingWithCopyWarning: \n",
            "A value is trying to be set on a copy of a slice from a DataFrame.\n",
            "Try using .loc[row_indexer,col_indexer] = value instead\n",
            "\n",
            "See the caveats in the documentation: https://pandas.pydata.org/pandas-docs/stable/user_guide/indexing.html#returning-a-view-versus-a-copy\n",
            "/usr/local/lib/python3.6/dist-packages/ipykernel_launcher.py:33: DeprecationWarning: elementwise comparison failed; this will raise an error in the future.\n"
          ],
          "name": "stderr"
        },
        {
          "output_type": "stream",
          "text": [
            "Harvested[0]\n",
            "       Unique_ID     Harvested\n",
            "0         74031  0.000000e+00\n",
            "1         75559  0.000000e+00\n",
            "2         86608  0.000000e+00\n",
            "3         68554  0.000000e+00\n",
            "4         68082  0.000000e+00\n",
            "...         ...           ...\n",
            "7758      76917  0.000000e+00\n",
            "7759      61910  2.334858e-08\n",
            "7760      76697  0.000000e+00\n",
            "7761      75323  0.000000e+00\n",
            "7762      54749  2.268199e+06\n",
            "\n",
            "[7763 rows x 2 columns]\n",
            "Sum Harvested\n",
            " 249999997.8223724\n",
            "Cosechando Sawmill: 25\n"
          ],
          "name": "stdout"
        },
        {
          "output_type": "stream",
          "text": [
            "/usr/local/lib/python3.6/dist-packages/ipykernel_launcher.py:88: SettingWithCopyWarning: \n",
            "A value is trying to be set on a copy of a slice from a DataFrame.\n",
            "Try using .loc[row_indexer,col_indexer] = value instead\n",
            "\n",
            "See the caveats in the documentation: https://pandas.pydata.org/pandas-docs/stable/user_guide/indexing.html#returning-a-view-versus-a-copy\n",
            "/usr/local/lib/python3.6/dist-packages/ipykernel_launcher.py:33: DeprecationWarning: elementwise comparison failed; this will raise an error in the future.\n"
          ],
          "name": "stderr"
        },
        {
          "output_type": "stream",
          "text": [
            "Harvested[0]\n",
            "       Unique_ID     Harvested\n",
            "0         74031  0.000000e+00\n",
            "1         75559  0.000000e+00\n",
            "2         86608  0.000000e+00\n",
            "3         68554  0.000000e+00\n",
            "4         68082  0.000000e+00\n",
            "...         ...           ...\n",
            "7758      76917  0.000000e+00\n",
            "7759      61910  2.334858e-08\n",
            "7760      76697  0.000000e+00\n",
            "7761      75323  0.000000e+00\n",
            "7762      54749  2.268199e+06\n",
            "\n",
            "[7763 rows x 2 columns]\n",
            "Sum Harvested\n",
            " 259999997.74557292\n",
            "Cosechando Sawmill: 26\n"
          ],
          "name": "stdout"
        },
        {
          "output_type": "stream",
          "text": [
            "/usr/local/lib/python3.6/dist-packages/ipykernel_launcher.py:88: SettingWithCopyWarning: \n",
            "A value is trying to be set on a copy of a slice from a DataFrame.\n",
            "Try using .loc[row_indexer,col_indexer] = value instead\n",
            "\n",
            "See the caveats in the documentation: https://pandas.pydata.org/pandas-docs/stable/user_guide/indexing.html#returning-a-view-versus-a-copy\n",
            "/usr/local/lib/python3.6/dist-packages/ipykernel_launcher.py:33: DeprecationWarning: elementwise comparison failed; this will raise an error in the future.\n"
          ],
          "name": "stderr"
        },
        {
          "output_type": "stream",
          "text": [
            "Harvested[0]\n",
            "       Unique_ID     Harvested\n",
            "0         74031  0.000000e+00\n",
            "1         75559  0.000000e+00\n",
            "2         86608  0.000000e+00\n",
            "3         68554  0.000000e+00\n",
            "4         68082  0.000000e+00\n",
            "...         ...           ...\n",
            "7758      76917  0.000000e+00\n",
            "7759      61910  2.334858e-08\n",
            "7760      76697  0.000000e+00\n",
            "7761      75323  0.000000e+00\n",
            "7762      54749  2.268199e+06\n",
            "\n",
            "[7763 rows x 2 columns]\n",
            "Sum Harvested\n",
            " 269999997.66497296\n",
            "Cosechando Sawmill: 27\n"
          ],
          "name": "stdout"
        },
        {
          "output_type": "stream",
          "text": [
            "/usr/local/lib/python3.6/dist-packages/ipykernel_launcher.py:88: SettingWithCopyWarning: \n",
            "A value is trying to be set on a copy of a slice from a DataFrame.\n",
            "Try using .loc[row_indexer,col_indexer] = value instead\n",
            "\n",
            "See the caveats in the documentation: https://pandas.pydata.org/pandas-docs/stable/user_guide/indexing.html#returning-a-view-versus-a-copy\n"
          ],
          "name": "stderr"
        },
        {
          "output_type": "stream",
          "text": [
            "Harvested[0]\n",
            "       Unique_ID     Harvested\n",
            "0         74031  0.000000e+00\n",
            "1         75559  0.000000e+00\n",
            "2         86608  0.000000e+00\n",
            "3         68554  0.000000e+00\n",
            "4         68082  0.000000e+00\n",
            "...         ...           ...\n",
            "7758      76917  0.000000e+00\n",
            "7759      61910  2.334858e-08\n",
            "7760      76697  0.000000e+00\n",
            "7761      75323  0.000000e+00\n",
            "7762      54749  2.268199e+06\n",
            "\n",
            "[7763 rows x 2 columns]\n",
            "Sum Harvested\n",
            " 279999997.58707565\n",
            "Cosechando Sawmill: 28\n"
          ],
          "name": "stdout"
        },
        {
          "output_type": "stream",
          "text": [
            "/usr/local/lib/python3.6/dist-packages/ipykernel_launcher.py:33: DeprecationWarning: elementwise comparison failed; this will raise an error in the future.\n",
            "/usr/local/lib/python3.6/dist-packages/ipykernel_launcher.py:88: SettingWithCopyWarning: \n",
            "A value is trying to be set on a copy of a slice from a DataFrame.\n",
            "Try using .loc[row_indexer,col_indexer] = value instead\n",
            "\n",
            "See the caveats in the documentation: https://pandas.pydata.org/pandas-docs/stable/user_guide/indexing.html#returning-a-view-versus-a-copy\n",
            "/usr/local/lib/python3.6/dist-packages/ipykernel_launcher.py:33: DeprecationWarning: elementwise comparison failed; this will raise an error in the future.\n"
          ],
          "name": "stderr"
        },
        {
          "output_type": "stream",
          "text": [
            "Harvested[0]\n",
            "       Unique_ID     Harvested\n",
            "0         74031  0.000000e+00\n",
            "1         75559  0.000000e+00\n",
            "2         86608  0.000000e+00\n",
            "3         68554  0.000000e+00\n",
            "4         68082  0.000000e+00\n",
            "...         ...           ...\n",
            "7758      76917  0.000000e+00\n",
            "7759      61910  2.334858e-08\n",
            "7760      76697  0.000000e+00\n",
            "7761      75323  0.000000e+00\n",
            "7762      54749  2.268199e+06\n",
            "\n",
            "[7763 rows x 2 columns]\n",
            "Sum Harvested\n",
            " 289999997.49430746\n",
            "Cosechando Sawmill: 29\n"
          ],
          "name": "stdout"
        },
        {
          "output_type": "stream",
          "text": [
            "/usr/local/lib/python3.6/dist-packages/ipykernel_launcher.py:88: SettingWithCopyWarning: \n",
            "A value is trying to be set on a copy of a slice from a DataFrame.\n",
            "Try using .loc[row_indexer,col_indexer] = value instead\n",
            "\n",
            "See the caveats in the documentation: https://pandas.pydata.org/pandas-docs/stable/user_guide/indexing.html#returning-a-view-versus-a-copy\n",
            "/usr/local/lib/python3.6/dist-packages/ipykernel_launcher.py:33: DeprecationWarning: elementwise comparison failed; this will raise an error in the future.\n"
          ],
          "name": "stderr"
        },
        {
          "output_type": "stream",
          "text": [
            "Harvested[0]\n",
            "       Unique_ID     Harvested\n",
            "0         74031  0.000000e+00\n",
            "1         75559  0.000000e+00\n",
            "2         86608  0.000000e+00\n",
            "3         68554  0.000000e+00\n",
            "4         68082  0.000000e+00\n",
            "...         ...           ...\n",
            "7758      76917  0.000000e+00\n",
            "7759      61910  2.334858e-08\n",
            "7760      76697  0.000000e+00\n",
            "7761      75323  0.000000e+00\n",
            "7762      54749  2.268199e+06\n",
            "\n",
            "[7763 rows x 2 columns]\n",
            "Sum Harvested\n",
            " 299999997.3956876\n",
            "Cosechando Sawmill: 30\n"
          ],
          "name": "stdout"
        },
        {
          "output_type": "stream",
          "text": [
            "/usr/local/lib/python3.6/dist-packages/ipykernel_launcher.py:88: SettingWithCopyWarning: \n",
            "A value is trying to be set on a copy of a slice from a DataFrame.\n",
            "Try using .loc[row_indexer,col_indexer] = value instead\n",
            "\n",
            "See the caveats in the documentation: https://pandas.pydata.org/pandas-docs/stable/user_guide/indexing.html#returning-a-view-versus-a-copy\n",
            "/usr/local/lib/python3.6/dist-packages/ipykernel_launcher.py:33: DeprecationWarning: elementwise comparison failed; this will raise an error in the future.\n"
          ],
          "name": "stderr"
        },
        {
          "output_type": "stream",
          "text": [
            "Harvested[0]\n",
            "       Unique_ID     Harvested\n",
            "0         74031  0.000000e+00\n",
            "1         75559  0.000000e+00\n",
            "2         86608  0.000000e+00\n",
            "3         68554  0.000000e+00\n",
            "4         68082  0.000000e+00\n",
            "...         ...           ...\n",
            "7758      76917  0.000000e+00\n",
            "7759      61910  2.334858e-08\n",
            "7760      76697  0.000000e+00\n",
            "7761      75323  0.000000e+00\n",
            "7762      54749  2.268199e+06\n",
            "\n",
            "[7763 rows x 2 columns]\n",
            "Sum Harvested\n",
            " 309999997.2960156\n",
            "Cosechando Sawmill: 31\n"
          ],
          "name": "stdout"
        },
        {
          "output_type": "stream",
          "text": [
            "/usr/local/lib/python3.6/dist-packages/ipykernel_launcher.py:88: SettingWithCopyWarning: \n",
            "A value is trying to be set on a copy of a slice from a DataFrame.\n",
            "Try using .loc[row_indexer,col_indexer] = value instead\n",
            "\n",
            "See the caveats in the documentation: https://pandas.pydata.org/pandas-docs/stable/user_guide/indexing.html#returning-a-view-versus-a-copy\n",
            "/usr/local/lib/python3.6/dist-packages/ipykernel_launcher.py:33: DeprecationWarning: elementwise comparison failed; this will raise an error in the future.\n"
          ],
          "name": "stderr"
        },
        {
          "output_type": "stream",
          "text": [
            "Harvested[0]\n",
            "       Unique_ID     Harvested\n",
            "0         74031  0.000000e+00\n",
            "1         75559  0.000000e+00\n",
            "2         86608  0.000000e+00\n",
            "3         68554  0.000000e+00\n",
            "4         68082  0.000000e+00\n",
            "...         ...           ...\n",
            "7758      76917  0.000000e+00\n",
            "7759      61910  2.334858e-08\n",
            "7760      76697  0.000000e+00\n",
            "7761      75323  0.000000e+00\n",
            "7762      54749  2.268199e+06\n",
            "\n",
            "[7763 rows x 2 columns]\n",
            "Sum Harvested\n",
            " 319999997.21631575\n",
            "Cosechando Sawmill: 32\n"
          ],
          "name": "stdout"
        },
        {
          "output_type": "stream",
          "text": [
            "/usr/local/lib/python3.6/dist-packages/ipykernel_launcher.py:88: SettingWithCopyWarning: \n",
            "A value is trying to be set on a copy of a slice from a DataFrame.\n",
            "Try using .loc[row_indexer,col_indexer] = value instead\n",
            "\n",
            "See the caveats in the documentation: https://pandas.pydata.org/pandas-docs/stable/user_guide/indexing.html#returning-a-view-versus-a-copy\n",
            "/usr/local/lib/python3.6/dist-packages/ipykernel_launcher.py:33: DeprecationWarning: elementwise comparison failed; this will raise an error in the future.\n"
          ],
          "name": "stderr"
        },
        {
          "output_type": "stream",
          "text": [
            "Harvested[0]\n",
            "       Unique_ID     Harvested\n",
            "0         74031  0.000000e+00\n",
            "1         75559  0.000000e+00\n",
            "2         86608  0.000000e+00\n",
            "3         68554  0.000000e+00\n",
            "4         68082  0.000000e+00\n",
            "...         ...           ...\n",
            "7758      76917  0.000000e+00\n",
            "7759      61910  2.334858e-08\n",
            "7760      76697  0.000000e+00\n",
            "7761      75323  0.000000e+00\n",
            "7762      54749  2.268199e+06\n",
            "\n",
            "[7763 rows x 2 columns]\n",
            "Sum Harvested\n",
            " 329999997.12370557\n",
            "Cosechando Sawmill: 33\n"
          ],
          "name": "stdout"
        },
        {
          "output_type": "stream",
          "text": [
            "/usr/local/lib/python3.6/dist-packages/ipykernel_launcher.py:88: SettingWithCopyWarning: \n",
            "A value is trying to be set on a copy of a slice from a DataFrame.\n",
            "Try using .loc[row_indexer,col_indexer] = value instead\n",
            "\n",
            "See the caveats in the documentation: https://pandas.pydata.org/pandas-docs/stable/user_guide/indexing.html#returning-a-view-versus-a-copy\n",
            "/usr/local/lib/python3.6/dist-packages/ipykernel_launcher.py:33: DeprecationWarning: elementwise comparison failed; this will raise an error in the future.\n"
          ],
          "name": "stderr"
        },
        {
          "output_type": "stream",
          "text": [
            "Harvested[0]\n",
            "       Unique_ID     Harvested\n",
            "0         74031  0.000000e+00\n",
            "1         75559  0.000000e+00\n",
            "2         86608  0.000000e+00\n",
            "3         68554  0.000000e+00\n",
            "4         68082  0.000000e+00\n",
            "...         ...           ...\n",
            "7758      76917  0.000000e+00\n",
            "7759      61910  2.334858e-08\n",
            "7760      76697  0.000000e+00\n",
            "7761      75323  0.000000e+00\n",
            "7762      54749  2.268199e+06\n",
            "\n",
            "[7763 rows x 2 columns]\n",
            "Sum Harvested\n",
            " 339999997.03355545\n",
            "Cosechando Sawmill: 34\n"
          ],
          "name": "stdout"
        },
        {
          "output_type": "stream",
          "text": [
            "/usr/local/lib/python3.6/dist-packages/ipykernel_launcher.py:88: SettingWithCopyWarning: \n",
            "A value is trying to be set on a copy of a slice from a DataFrame.\n",
            "Try using .loc[row_indexer,col_indexer] = value instead\n",
            "\n",
            "See the caveats in the documentation: https://pandas.pydata.org/pandas-docs/stable/user_guide/indexing.html#returning-a-view-versus-a-copy\n",
            "/usr/local/lib/python3.6/dist-packages/ipykernel_launcher.py:33: DeprecationWarning: elementwise comparison failed; this will raise an error in the future.\n"
          ],
          "name": "stderr"
        },
        {
          "output_type": "stream",
          "text": [
            "Harvested[0]\n",
            "       Unique_ID     Harvested\n",
            "0         74031  0.000000e+00\n",
            "1         75559  0.000000e+00\n",
            "2         86608  0.000000e+00\n",
            "3         68554  0.000000e+00\n",
            "4         68082  0.000000e+00\n",
            "...         ...           ...\n",
            "7758      76917  0.000000e+00\n",
            "7759      61910  2.334858e-08\n",
            "7760      76697  0.000000e+00\n",
            "7761      75323  0.000000e+00\n",
            "7762      54749  2.268199e+06\n",
            "\n",
            "[7763 rows x 2 columns]\n",
            "Sum Harvested\n",
            " 349999996.93460596\n",
            "Cosechando Sawmill: 35\n"
          ],
          "name": "stdout"
        },
        {
          "output_type": "stream",
          "text": [
            "/usr/local/lib/python3.6/dist-packages/ipykernel_launcher.py:88: SettingWithCopyWarning: \n",
            "A value is trying to be set on a copy of a slice from a DataFrame.\n",
            "Try using .loc[row_indexer,col_indexer] = value instead\n",
            "\n",
            "See the caveats in the documentation: https://pandas.pydata.org/pandas-docs/stable/user_guide/indexing.html#returning-a-view-versus-a-copy\n",
            "/usr/local/lib/python3.6/dist-packages/ipykernel_launcher.py:33: DeprecationWarning: elementwise comparison failed; this will raise an error in the future.\n"
          ],
          "name": "stderr"
        },
        {
          "output_type": "stream",
          "text": [
            "Harvested[0]\n",
            "       Unique_ID     Harvested\n",
            "0         74031  0.000000e+00\n",
            "1         75559  0.000000e+00\n",
            "2         86608  0.000000e+00\n",
            "3         68554  0.000000e+00\n",
            "4         68082  0.000000e+00\n",
            "...         ...           ...\n",
            "7758      76917  0.000000e+00\n",
            "7759      61910  2.334858e-08\n",
            "7760      76697  0.000000e+00\n",
            "7761      75323  0.000000e+00\n",
            "7762      54749  2.268199e+06\n",
            "\n",
            "[7763 rows x 2 columns]\n",
            "Sum Harvested\n",
            " 359999996.8412161\n",
            "Cosechando Sawmill: 36\n"
          ],
          "name": "stdout"
        },
        {
          "output_type": "stream",
          "text": [
            "/usr/local/lib/python3.6/dist-packages/ipykernel_launcher.py:88: SettingWithCopyWarning: \n",
            "A value is trying to be set on a copy of a slice from a DataFrame.\n",
            "Try using .loc[row_indexer,col_indexer] = value instead\n",
            "\n",
            "See the caveats in the documentation: https://pandas.pydata.org/pandas-docs/stable/user_guide/indexing.html#returning-a-view-versus-a-copy\n",
            "/usr/local/lib/python3.6/dist-packages/ipykernel_launcher.py:33: DeprecationWarning: elementwise comparison failed; this will raise an error in the future.\n"
          ],
          "name": "stderr"
        },
        {
          "output_type": "stream",
          "text": [
            "Harvested[0]\n",
            "       Unique_ID     Harvested\n",
            "0         74031  0.000000e+00\n",
            "1         75559  0.000000e+00\n",
            "2         86608  0.000000e+00\n",
            "3         68554  0.000000e+00\n",
            "4         68082  0.000000e+00\n",
            "...         ...           ...\n",
            "7758      76917  0.000000e+00\n",
            "7759      61910  2.334858e-08\n",
            "7760      76697  0.000000e+00\n",
            "7761      75323  0.000000e+00\n",
            "7762      54749  2.268199e+06\n",
            "\n",
            "[7763 rows x 2 columns]\n",
            "Sum Harvested\n",
            " 369999996.75741595\n",
            "Cosechando Sawmill: 37\n"
          ],
          "name": "stdout"
        },
        {
          "output_type": "stream",
          "text": [
            "/usr/local/lib/python3.6/dist-packages/ipykernel_launcher.py:88: SettingWithCopyWarning: \n",
            "A value is trying to be set on a copy of a slice from a DataFrame.\n",
            "Try using .loc[row_indexer,col_indexer] = value instead\n",
            "\n",
            "See the caveats in the documentation: https://pandas.pydata.org/pandas-docs/stable/user_guide/indexing.html#returning-a-view-versus-a-copy\n",
            "/usr/local/lib/python3.6/dist-packages/ipykernel_launcher.py:33: DeprecationWarning: elementwise comparison failed; this will raise an error in the future.\n"
          ],
          "name": "stderr"
        }
      ]
    }
  ]
}