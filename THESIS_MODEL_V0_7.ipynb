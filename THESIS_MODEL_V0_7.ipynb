{
  "nbformat": 4,
  "nbformat_minor": 0,
  "metadata": {
    "colab": {
      "name": "THESIS_MODEL V0.7.ipynb",
      "provenance": [],
      "authorship_tag": "ABX9TyPFvb3hQAOaEymAbBFirb8M",
      "include_colab_link": true
    },
    "kernelspec": {
      "name": "python3",
      "display_name": "Python 3"
    }
  },
  "cells": [
    {
      "cell_type": "markdown",
      "metadata": {
        "id": "view-in-github",
        "colab_type": "text"
      },
      "source": [
        "<a href=\"https://colab.research.google.com/github/vizcayal/Thesis_UT/blob/V1/THESIS_MODEL_V0_7.ipynb\" target=\"_parent\"><img src=\"https://colab.research.google.com/assets/colab-badge.svg\" alt=\"Open In Colab\"/></a>"
      ]
    },
    {
      "cell_type": "markdown",
      "metadata": {
        "id": "BbmhtvgnZUe0"
      },
      "source": [
        "**Installing packages needed**"
      ]
    },
    {
      "cell_type": "code",
      "metadata": {
        "id": "9PbaQG2oYXd5",
        "colab": {
          "base_uri": "https://localhost:8080/"
        },
        "outputId": "9f230775-f0cd-4df3-cd02-31858d451366"
      },
      "source": [
        "!pip install gekko\r\n",
        "!pip install ipynb\r\n"
      ],
      "execution_count": 73,
      "outputs": [
        {
          "output_type": "stream",
          "text": [
            "Requirement already satisfied: gekko in /usr/local/lib/python3.6/dist-packages (0.2.8)\n",
            "Requirement already satisfied: numpy>=1.8 in /usr/local/lib/python3.6/dist-packages (from gekko) (1.19.4)\n",
            "Requirement already satisfied: flask-cors in /usr/local/lib/python3.6/dist-packages (from gekko) (3.0.9)\n",
            "Requirement already satisfied: flask in /usr/local/lib/python3.6/dist-packages (from gekko) (1.1.2)\n",
            "Requirement already satisfied: Six in /usr/local/lib/python3.6/dist-packages (from flask-cors->gekko) (1.15.0)\n",
            "Requirement already satisfied: itsdangerous>=0.24 in /usr/local/lib/python3.6/dist-packages (from flask->gekko) (1.1.0)\n",
            "Requirement already satisfied: click>=5.1 in /usr/local/lib/python3.6/dist-packages (from flask->gekko) (7.1.2)\n",
            "Requirement already satisfied: Werkzeug>=0.15 in /usr/local/lib/python3.6/dist-packages (from flask->gekko) (1.0.1)\n",
            "Requirement already satisfied: Jinja2>=2.10.1 in /usr/local/lib/python3.6/dist-packages (from flask->gekko) (2.11.2)\n",
            "Requirement already satisfied: MarkupSafe>=0.23 in /usr/local/lib/python3.6/dist-packages (from Jinja2>=2.10.1->flask->gekko) (1.1.1)\n",
            "Requirement already satisfied: ipynb in /usr/local/lib/python3.6/dist-packages (0.5.1)\n"
          ],
          "name": "stdout"
        }
      ]
    },
    {
      "cell_type": "markdown",
      "metadata": {
        "id": "PfDtY5HjUWbs"
      },
      "source": [
        "**Importing libraries needed**"
      ]
    },
    {
      "cell_type": "code",
      "metadata": {
        "id": "-Uhaf81oUfRp",
        "colab": {
          "base_uri": "https://localhost:8080/"
        },
        "outputId": "4432b8e7-a9f2-4bba-aa76-2db5e09998e5"
      },
      "source": [
        "import numpy as np\r\n",
        "import time\r\n",
        "from multiprocessing import *\r\n",
        "from gekko import GEKKO\r\n",
        "import pandas as pd\r\n",
        "import os\r\n",
        "from google.colab import files\r\n",
        "from google.colab import drive\r\n",
        "drive.mount(\"/content/drive\")\r\n",
        "import sys\r\n",
        "sys.path.append('/content/drive/My Drive/Colab Notebooks/')\r\n",
        "from library import *\r\n",
        "#Initialize Model\r\n",
        "m = GEKKO(remote=True) \r\n",
        "#Set global options\r\n",
        "m.options.solver = 3\r\n",
        "m.options.IMODE = 3 #steady state optimization\r\n",
        "\r\n"
      ],
      "execution_count": 74,
      "outputs": [
        {
          "output_type": "stream",
          "text": [
            "Drive already mounted at /content/drive; to attempt to forcibly remount, call drive.mount(\"/content/drive\", force_remount=True).\n"
          ],
          "name": "stdout"
        }
      ]
    },
    {
      "cell_type": "code",
      "metadata": {
        "id": "0JmzGQGEN96m"
      },
      "source": [
        "#Upload distances from each hexagon to other\r\n",
        "Dist_Data = pd.read_csv(\"/content/drive/My Drive/Colab Notebooks/Distance_TN.csv\")\r\n",
        "Mills_Data = pd.read_csv(\"/content/drive/My Drive/Colab Notebooks/Mills_TN.csv\")\r\n",
        "Hardwood_Sawlog_Data = pd.read_csv(\"/content/drive/My Drive/Colab Notebooks/Hardwood_Sawlog.csv\")\r\n",
        "#print(Hardwood_Sawlog_Data)"
      ],
      "execution_count": 75,
      "outputs": []
    },
    {
      "cell_type": "markdown",
      "metadata": {
        "id": "R0nJnGd5CiEw"
      },
      "source": [
        "**SAWMILL CLASS**"
      ]
    },
    {
      "cell_type": "code",
      "metadata": {
        "id": "V0N_36t4-S0e"
      },
      "source": [
        "#SawMill Object\r\n",
        "class Mill:\r\n",
        "  m = GEKKO(remote=True)\r\n",
        "\r\n",
        "  def __init__(self, Id, Wood, Prod, Dis, Dem=0, Radio = 20):\r\n",
        "    self.Id = Id\r\n",
        "    self.Wood_type =Wood\r\n",
        "    self.Prod_type = Prod\r\n",
        "    self.Dist = Dis\r\n",
        "    self.Demand = Dem\r\n",
        "    self.Radio = Radio\r\n",
        "\r\n",
        "\r\n",
        "  def Harvest_Close(self, Available, Dem = 0):\r\n",
        "    if (Dem>0):\r\n",
        "      self.Demand = Dem\r\n",
        "    \r\n",
        "    Num = len(self.Dist)\r\n",
        "  \r\n",
        "    H = m.Array(m.Var,(Num),value = 0)\r\n",
        "\r\n",
        "    for i in range(Num):\r\n",
        "      H[i].lower = 0\r\n",
        "      H[i].upper = int(Available[i])\r\n",
        "      \r\n",
        "    prod0 = m.Intermediate(m.sum([self.Dist.loc[i,('DIST')]*H[i] for i in range(0,len(H))]))\r\n",
        "    \r\n",
        "    m.Equation(self.Demand==m.sum([H[i] for i in range(0,len(H))]))\r\n",
        "    m.Obj(prod0) \r\n",
        "    m.solve(disp=False,debug=True)\r\n",
        "    a = self.Dist\r\n",
        "    flat = [item for l in H for item in l]\r\n",
        "    a['HARVESTED'] = flat \r\n",
        "    return(a)\r\n",
        "    "
      ],
      "execution_count": 76,
      "outputs": []
    },
    {
      "cell_type": "code",
      "metadata": {
        "id": "IqS4uwxiCgh6"
      },
      "source": [
        "class Inventory:\r\n",
        "  def __init__(self, Av, Dist):\r\n",
        "    self.Available = []\r\n",
        "    self.Available.append(Av)\r\n",
        "    self.Dist = Dist\r\n",
        "    self.Mills = []\r\n",
        "\r\n",
        "\r\n",
        "  def Add_Mill2(self, Id, Wood, Prod, Dem=0):\r\n",
        "\r\n",
        "    a =self.Cell_Less(Id,0,20)\r\n",
        "    D2 = a.loc[:, ('DEST','DIST')]\r\n",
        "    mil= Mill(id,Wood,Prod,D2,Dem)\r\n",
        "    self.Mills.append(mil)\r\n",
        "  \r\n",
        "  def Harvest_Mill(self,t, j):\r\n",
        "    #Given a period t and a Mill j the function provide the harvested wood and substract it from available inventory\r\n",
        "    ans = self.Mills[j].Harvest_Close(self.Available[t].SumOfTotal,self.Mills[j].Demand)\r\n",
        "    print(\"SawMill \",j,ans)\r\n",
        "    #print(\"Tipo de variable Available\", type(self.Available[0]))\r\n",
        "    #print(\"Available\\r\",self.Available)\r\n",
        "    \r\n",
        "    for j in range(len(ans)):                                                                         \r\n",
        "      if not(self.Available[0][self.Available[0][\"Unique_ID\"]==ans.loc[j,('DEST')]].empty):\r\n",
        "        a1 = self.Available[0][\"Unique_ID\"]==ans.loc[j,('DEST')]\r\n",
        "        a2 = int(np.where(a1)[0])\r\n",
        "        #print(\"Available in position a2:\\r\",self.Available[0].loc[a2,(\"SumOfTotal\")])\r\n",
        "        self.Available[0].loc[a2,(\"SumOfTotal\")] = self.Available[0].loc[a2,(\"SumOfTotal\")] - ans.loc[j,('HARVESTED')]\r\n",
        "      else:\r\n",
        "        print('Elemento no Hallado: ',ans.loc[j,('DEST')])\r\n",
        "   \r\n",
        "  \r\n",
        "  def Harvest_All_Mills(self):\r\n",
        "    for k in range(len(self.Mills)):\r\n",
        "      Hardwood_Sawlog.Harvest_Mill(0,k)\r\n",
        "    \r\n",
        "  \r\n",
        "  def Cell_Less(self, Id_Mill, Time, Radio=20):\r\n",
        "    #Given a Time and Radio and a Mill ID this function returns a list of cells with Distance and Availability\r\n",
        "    Ans = self.Dist[(self.Dist['ORIG'] == Id_Mill)&(self.Dist['DIST'] <= Radio)] #CELLS EQUAL ID_MILL AND CLOSER THAN RADIO\r\n",
        "    rows = Ans.shape[0]\r\n",
        "    ind = [i for i in range(rows)]\r\n",
        "    Ans.index=ind    \r\n",
        "    Disp =[]\r\n",
        "\r\n",
        "    for j in range(len(Ans)):                                                                         \r\n",
        "      if self.Available[0][self.Available[0][\"Unique_ID\"]==Ans.loc[j,('DEST')]].empty:\r\n",
        "        Disp.append(0)\r\n",
        "      else:\r\n",
        "        Disp.append(int(self.Available[0][self.Available[0][\"Unique_ID\"]==Ans.loc[j,('DEST')]].SumOfTotal))\r\n",
        "\r\n",
        "    Ans[\"AVAIL\"] = Disp \r\n",
        "    return(Ans)\r\n",
        "  \r\n",
        "\r\n",
        "  def Num_Cell(self, Id_Mill, Radio=10):\r\n",
        "    #Given a Radio and a Mill ID this function returns cell among the radio distance\r\n",
        "    Ans = self.Dist[(self.Dist['ORIG'] == Id_Mill)&(self.Dist['DIST'] <= Radio)]\r\n",
        "    #print(\"Numero de celdas \",len(Ans))\r\n",
        "    return(len(Ans))\r\n",
        "    \r\n",
        "  \r\n",
        "\r\n",
        "\r\n"
      ],
      "execution_count": 77,
      "outputs": []
    },
    {
      "cell_type": "markdown",
      "metadata": {
        "id": "dBG0GVk9Y81m"
      },
      "source": [
        "**UPLOADING FOREST INVENTORY DATA**"
      ]
    },
    {
      "cell_type": "markdown",
      "metadata": {
        "id": "2XCJBkIx2Oed"
      },
      "source": [
        "**1ST PHASE - MILLS DEMAND - SHORTEST DISTANCE CRITERIA**"
      ]
    },
    {
      "cell_type": "code",
      "metadata": {
        "id": "oDXsRJhXSWKd",
        "colab": {
          "base_uri": "https://localhost:8080/"
        },
        "outputId": "a99b664a-39ab-4d31-8223-5afe5a5ee290"
      },
      "source": [
        "# Main Program\r\n",
        "start_time = time.time()\r\n",
        "#Num_Cell= 10000\r\n",
        "#D = np.zeros(Num_Cell)\r\n",
        "#Demand = 20000000 \r\n",
        "\r\n",
        "#for i in range(Num_Cell):\r\n",
        "#  D[i] = i\r\n",
        "\r\n",
        "Hardwood_Sawlog = Inventory(Hardwood_Sawlog_Data,Dist_Data)\r\n",
        "#print(\"Hardwood Negativo\",Hardwood_Sawlog_Data[Hardwood_Sawlog_Data['SumOfTotal']==0])\r\n",
        "#a =Hardwood_Sawlog_Data.duplicated()\r\n",
        "#print(a.describe())\r\n",
        "#print(Hardwood_Sawlog.Available[0][\"Unique_ID\"]==74031)\r\n",
        "\r\n",
        "#Hardwood_Sawlog.Cell_Less(54549,0,10)\r\n",
        "ma = Dist_Data['ORIG'].unique()\r\n",
        "#print('Ma', ma[0])\r\n",
        "#print(Hardwood_Sawlog_Data)\r\n",
        "\r\n",
        "#a = Mill(74031,0,0,Hardwood_Sawlog.Dist.DIST,1000000)\r\n",
        "#a = Mill(Mills_Data['Unique_ID'][0],Mills_Data['plant'][0],Mills_Data['s_h'][0],Hardwood_Sawlog.Dist.DIST,Mills_Data['Demand'][0])\r\n",
        "#a.Harvest_Close(Hardwood_Sawlog_Data.SumOfTotal, 10, 1000000)\r\n",
        "#print(Hardwood_Sawlog.Dist.loc[:, ('DIST')])\r\n",
        "\r\n",
        "#Mills_Data.loc[0, ('Unique_ID')]\r\n",
        "\r\n",
        "for k in range(1):\r\n",
        "  \r\n",
        "  #Hardwood_Sawlog.Mills.append(Mill(Mills_Data['Unique_ID'][k],Mills_Data['plant'][k],Mills_Data['s_h'][k],Hardwood_Sawlog.Dist.DIST,Mills_Data['Demand'][k]))\r\n",
        "  #mi= Mill(Mills_Data.loc[k, ('Unique_ID')],Mills_Data.loc[k,('plant')],Mills_Data.loc[k,('s_h')],Hardwood_Sawlog.Dist.loc[:, ('DIST')],Mills_Data.loc[k,('Demand')])\r\n",
        "  #Hardwood_Sawlog.Add_Mill(mi)\r\n",
        "  #Hardwood_Sawlog.Add_Mill2(Mills_Data.loc[k, ('Unique_ID')],Mills_Data.loc[k,('plant')],Mills_Data.loc[k,('s_h')],Mills_Data.loc[k,('Demand')])\r\n",
        "  Hardwood_Sawlog.Add_Mill2(ma[k],Mills_Data.loc[k,('plant')],Mills_Data.loc[k,('s_h')],Mills_Data.loc[k,('Demand')])\r\n",
        "  #print(\"Cosechando Aserradero \", k)\r\n",
        "  #Hardwood_Sawlog.Harvest_Mill(0,k)\r\n",
        "\r\n",
        "Hardwood_Sawlog.Harvest_All_Mills()\r\n",
        "print (\"My program took\", time.time() - start_time, \"to run\")"
      ],
      "execution_count": 78,
      "outputs": [
        {
          "output_type": "stream",
          "text": [
            "/usr/local/lib/python3.6/dist-packages/ipykernel_launcher.py:52: SettingWithCopyWarning: \n",
            "A value is trying to be set on a copy of a slice from a DataFrame.\n",
            "Try using .loc[row_indexer,col_indexer] = value instead\n",
            "\n",
            "See the caveats in the documentation: https://pandas.pydata.org/pandas-docs/stable/user_guide/indexing.html#returning-a-view-versus-a-copy\n",
            "/usr/local/lib/python3.6/dist-packages/ipykernel_launcher.py:28: DeprecationWarning: elementwise comparison failed; this will raise an error in the future.\n"
          ],
          "name": "stderr"
        },
        {
          "output_type": "stream",
          "text": [
            "SawMill  0       DEST       DIST     HARVESTED\n",
            "0    54549   0.000000  6.800000e+04\n",
            "1    54749   2.829784  9.951995e-08\n",
            "2    54150   2.938933  9.651872e-08\n",
            "3    54949   3.067795  9.086942e-08\n",
            "4    54748   3.524870  7.800959e-08\n",
            "..     ...        ...           ...\n",
            "166  52352  19.726610  5.677814e-09\n",
            "167  55759  19.762639  5.664160e-09\n",
            "168  56156  19.772028  5.646188e-09\n",
            "169  54953  19.828987  5.596670e-09\n",
            "170  55347  19.982425  5.478057e-09\n",
            "\n",
            "[171 rows x 3 columns]\n",
            "Available in position a2:\r 2287844.7\n",
            "Available in position a2:\r 2268199.6119999997\n",
            "Available in position a2:\r 2280210.589\n",
            "Available in position a2:\r 2287724.078\n",
            "Available in position a2:\r 2294929.5\n",
            "Available in position a2:\r 2196091.636\n",
            "Available in position a2:\r 2294260.518\n",
            "Available in position a2:\r 2155774.259\n",
            "Elemento no Hallado:  53950\n",
            "Available in position a2:\r 2298647.5\n",
            "Available in position a2:\r 2295427.991\n",
            "Available in position a2:\r 2279530.063\n",
            "Available in position a2:\r 2219389.31\n",
            "Elemento no Hallado:  54149\n",
            "Available in position a2:\r 2293918.667\n",
            "Available in position a2:\r 2287595.086\n",
            "Elemento no Hallado:  54151\n",
            "Elemento no Hallado:  53749\n",
            "Available in position a2:\r 2300877.9080000003\n",
            "Elemento no Hallado:  53550\n",
            "Available in position a2:\r 2173385.607\n",
            "Available in position a2:\r 2362789.518\n",
            "Available in position a2:\r 2314771.143\n",
            "Available in position a2:\r 2148396.625\n",
            "Elemento no Hallado:  54348\n",
            "Elemento no Hallado:  53750\n",
            "Available in position a2:\r 2278208.339\n",
            "Available in position a2:\r 2270021.121\n",
            "Available in position a2:\r 2208712.379\n",
            "Elemento no Hallado:  53951\n",
            "Elemento no Hallado:  53948\n",
            "Elemento no Hallado:  53748\n",
            "Elemento no Hallado:  53549\n",
            "Available in position a2:\r 2287189.429\n",
            "Elemento no Hallado:  53349\n",
            "Elemento no Hallado:  54747\n",
            "Elemento no Hallado:  55149\n",
            "Available in position a2:\r 2392038.304\n",
            "Available in position a2:\r 2378180.884\n",
            "Elemento no Hallado:  53350\n",
            "Available in position a2:\r 2263843.222\n",
            "Elemento no Hallado:  54152\n",
            "Available in position a2:\r 2395996.536\n",
            "Available in position a2:\r 2261314.142\n",
            "Elemento no Hallado:  54547\n",
            "Elemento no Hallado:  54148\n",
            "Elemento no Hallado:  53751\n",
            "Available in position a2:\r 2267843.389\n",
            "Elemento no Hallado:  54947\n",
            "Available in position a2:\r 2262769.183\n",
            "Elemento no Hallado:  53747\n",
            "Elemento no Hallado:  53150\n",
            "Elemento no Hallado:  55349\n",
            "Elemento no Hallado:  53348\n",
            "Elemento no Hallado:  53551\n",
            "Elemento no Hallado:  52951\n",
            "Elemento no Hallado:  53149\n",
            "Elemento no Hallado:  54347\n",
            "Elemento no Hallado:  53548\n",
            "Available in position a2:\r 2252419.853\n",
            "Available in position a2:\r 2249340.716\n",
            "Elemento no Hallado:  52950\n",
            "Available in position a2:\r 2393025.078\n",
            "Available in position a2:\r 2258948.836\n",
            "Available in position a2:\r 2398536.444\n",
            "Available in position a2:\r 2329011.363\n",
            "Elemento no Hallado:  53947\n",
            "Available in position a2:\r 2384037.3019999997\n",
            "Elemento no Hallado:  53952\n",
            "Elemento no Hallado:  53151\n",
            "Elemento no Hallado:  54352\n",
            "Elemento no Hallado:  55753\n",
            "Elemento no Hallado:  53547\n",
            "Available in position a2:\r 2276705.767\n",
            "Elemento no Hallado:  52553\n",
            "Available in position a2:\r 2286946.871\n",
            "Elemento no Hallado:  52751\n",
            "Available in position a2:\r 2256814.483\n",
            "Elemento no Hallado:  55550\n",
            "Elemento no Hallado:  54746\n",
            "Available in position a2:\r 2256799.848\n",
            "Elemento no Hallado:  53351\n",
            "Available in position a2:\r 2265424.9480000003\n",
            "Elemento no Hallado:  54147\n",
            "Elemento no Hallado:  53347\n",
            "Elemento no Hallado:  52949\n",
            "Elemento no Hallado:  55148\n",
            "Elemento no Hallado:  53552\n",
            "Elemento no Hallado:  53148\n",
            "Available in position a2:\r 2401206.306\n",
            "Available in position a2:\r 2240541.636\n",
            "Available in position a2:\r 2246756.664\n",
            "Elemento no Hallado:  53752\n",
            "Available in position a2:\r 2373163.069\n",
            "Available in position a2:\r 2237643.58\n",
            "Available in position a2:\r 2393533.517\n",
            "Elemento no Hallado:  52752\n",
            "Elemento no Hallado:  54153\n",
            "Available in position a2:\r 2382677.224\n",
            "Elemento no Hallado:  54552\n",
            "Elemento no Hallado:  52552\n",
            "Elemento no Hallado:  52750\n",
            "Available in position a2:\r 2335616.5\n",
            "Elemento no Hallado:  53746\n",
            "Elemento no Hallado:  56157\n",
            "Elemento no Hallado:  52354\n",
            "Elemento no Hallado:  55348\n",
            "Elemento no Hallado:  53152\n",
            "Available in position a2:\r 2243754.083\n",
            "Available in position a2:\r 2403003.871\n",
            "Available in position a2:\r 2253545.095\n",
            "Elemento no Hallado:  52952\n",
            "Available in position a2:\r 2251001.328\n",
            "Elemento no Hallado:  52156\n",
            "Elemento no Hallado:  54546\n",
            "Available in position a2:\r 2392513.414\n",
            "Available in position a2:\r 2262503.741\n",
            "Elemento no Hallado:  52948\n",
            "Elemento no Hallado:  54353\n",
            "Elemento no Hallado:  52355\n",
            "Elemento no Hallado:  54946\n",
            "Elemento no Hallado:  55954\n",
            "Available in position a2:\r 2407123.25\n",
            "Available in position a2:\r 2229357.647\n",
            "Elemento no Hallado:  53553\n",
            "Elemento no Hallado:  52749\n",
            "Available in position a2:\r 2370774.758\n",
            "Elemento no Hallado:  52551\n",
            "Elemento no Hallado:  54752\n",
            "Elemento no Hallado:  52753\n",
            "Available in position a2:\r 2225729.853\n",
            "Elemento no Hallado:  55752\n",
            "Elemento no Hallado:  52353\n",
            "Available in position a2:\r 2234264.981\n",
            "Available in position a2:\r 2380491.06\n",
            "Elemento no Hallado:  52748\n",
            "Available in position a2:\r 2288386.214\n",
            "Elemento no Hallado:  53352\n",
            "Available in position a2:\r 2358333.75\n",
            "Elemento no Hallado:  51958\n",
            "Elemento no Hallado:  55147\n",
            "Elemento no Hallado:  53147\n",
            "Elemento no Hallado:  52953\n",
            "Elemento no Hallado:  51957\n",
            "Elemento no Hallado:  56358\n",
            "Elemento no Hallado:  52554\n",
            "Elemento no Hallado:  53346\n",
            " 2250200.116\n",
            "Elemento no Hallado:  55549\n",
            " 2249468.669\n",
            "Elemento no Hallado:  53353\n",
            "Elemento no Hallado:  52550\n",
            " 2390305.518\n",
            "Elemento no Hallado:  51759\n",
            "Elemento no Hallado:  52157\n",
            " 2221723.242\n",
            "Elemento no Hallado:  52351\n",
            " 2402974.9\n",
            "Elemento no Hallado:  56764\n",
            " 2240808.957\n",
            "Elemento no Hallado:  51562\n",
            "Elemento no Hallado:  54553\n",
            " 2246890.608\n",
            "Elemento no Hallado:  52155\n",
            "Elemento no Hallado:  53153\n",
            "Elemento no Hallado:  54745\n",
            "Elemento no Hallado:  52352\n",
            " 2184440.742\n",
            "Elemento no Hallado:  56156\n",
            " 2220668.625\n",
            "Elemento no Hallado:  55347\n",
            "My program took 3.5645546913146973 to run\n"
          ],
          "name": "stdout"
        }
      ]
    }
  ]
}