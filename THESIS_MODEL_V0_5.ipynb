{
  "nbformat": 4,
  "nbformat_minor": 0,
  "metadata": {
    "colab": {
      "name": "THESIS_MODEL V0.5.ipynb",
      "provenance": [],
      "authorship_tag": "ABX9TyMHiHQxIrOJbjHHMhWx5Y0Y",
      "include_colab_link": true
    },
    "kernelspec": {
      "name": "python3",
      "display_name": "Python 3"
    }
  },
  "cells": [
    {
      "cell_type": "markdown",
      "metadata": {
        "id": "view-in-github",
        "colab_type": "text"
      },
      "source": [
        "<a href=\"https://colab.research.google.com/github/vizcayal/Thesis_UT/blob/V1/THESIS_MODEL_V0_5.ipynb\" target=\"_parent\"><img src=\"https://colab.research.google.com/assets/colab-badge.svg\" alt=\"Open In Colab\"/></a>"
      ]
    },
    {
      "cell_type": "markdown",
      "metadata": {
        "id": "BbmhtvgnZUe0"
      },
      "source": [
        "**Installing packages needed**"
      ]
    },
    {
      "cell_type": "code",
      "metadata": {
        "id": "9PbaQG2oYXd5"
      },
      "source": [
        "!pip install gekko\r\n",
        "!pip install ipynb\r\n"
      ],
      "execution_count": null,
      "outputs": []
    },
    {
      "cell_type": "markdown",
      "metadata": {
        "id": "PfDtY5HjUWbs"
      },
      "source": [
        "**Importing libraries needed**"
      ]
    },
    {
      "cell_type": "code",
      "metadata": {
        "id": "-Uhaf81oUfRp",
        "colab": {
          "base_uri": "https://localhost:8080/"
        },
        "outputId": "9b5e9d1d-6068-4125-bd51-94a2351fea60"
      },
      "source": [
        "import numpy as np\r\n",
        "from multiprocessing import *\r\n",
        "from gekko import GEKKO\r\n",
        "import pandas as pd\r\n",
        "import os\r\n",
        "from google.colab import files\r\n",
        "from google.colab import drive\r\n",
        "drive.mount(\"/content/drive\")\r\n",
        "import sys\r\n",
        "sys.path.append('/content/drive/My Drive/Colab Notebooks/')\r\n",
        "from library import *\r\n",
        "#Initialize Model\r\n",
        "m = GEKKO(remote=True) \r\n",
        "#Set global options\r\n",
        "m.options.solver = 3\r\n",
        "m.options.IMODE = 3 #steady state optimization\r\n",
        "\r\n"
      ],
      "execution_count": 2,
      "outputs": [
        {
          "output_type": "stream",
          "text": [
            "Mounted at /content/drive\n"
          ],
          "name": "stdout"
        }
      ]
    },
    {
      "cell_type": "code",
      "metadata": {
        "id": "0JmzGQGEN96m"
      },
      "source": [
        "#Upload distances from each hexagon to other\r\n",
        "Dist_Data = pd.read_csv(\"/content/drive/My Drive/Colab Notebooks/Distance_TN.csv\")\r\n",
        "Mills_Data = pd.read_csv(\"/content/drive/My Drive/Colab Notebooks/Mills_TN.csv\")\r\n",
        "Hardwood_Sawlog_Data = pd.read_csv(\"/content/drive/My Drive/Colab Notebooks/Hardwood_Sawlog.csv\")\r\n",
        "#print(Hardwood_Sawlog_Data)"
      ],
      "execution_count": 3,
      "outputs": []
    },
    {
      "cell_type": "markdown",
      "metadata": {
        "id": "R0nJnGd5CiEw"
      },
      "source": [
        "**SAWMILL CLASS**"
      ]
    },
    {
      "cell_type": "code",
      "metadata": {
        "id": "V0N_36t4-S0e"
      },
      "source": [
        "#SawMill Object\r\n",
        "class Mill:\r\n",
        "  m = GEKKO(remote=True)\r\n",
        "\r\n",
        "  def __init__(self, Id, Wood, Prod, Dis, Dem=0):\r\n",
        "    self.Id = Id\r\n",
        "    self.Wood_type =Wood\r\n",
        "    self.Prod_type = Prod\r\n",
        "    self.Dist = Dis\r\n",
        "    self.Demand = Dem\r\n",
        "\r\n",
        "    #print(\"Mill: \",self.Id, \" Created\")\r\n",
        "\r\n",
        "  def Harvest_Close(self, Available, radio, Dem = 0):\r\n",
        "    if (Dem>0):\r\n",
        "      self.Demand = Dem\r\n",
        "    \r\n",
        "    Num = len(self.Dist)\r\n",
        "    print(\"****Disponible: \",len(self.Dist))\r\n",
        "  \r\n",
        "    H = m.Array(m.Var,(Num),value = 0)\r\n",
        "\r\n",
        "    for i in range(Num):\r\n",
        "      H[i].lower = 0\r\n",
        "      H[i].upper = int(Available[i])\r\n",
        "      \r\n",
        "    prod0 = m.Intermediate(m.sum([self.Dist.loc[i,('DIST')]*H[i] for i in range(0,len(H))]))\r\n",
        "    \r\n",
        "    m.Equation(self.Demand==m.sum([H[i] for i in range(0,len(H))]))\r\n",
        "    m.Obj(prod0) \r\n",
        "    m.solve(disp=True,debug=True)\r\n",
        "    a = self.Dist\r\n",
        "    a['Harvested'] = H\r\n",
        "    \r\n",
        "    \r\n",
        "    print(a)\r\n",
        "    return(H)\r\n",
        "    "
      ],
      "execution_count": 134,
      "outputs": []
    },
    {
      "cell_type": "code",
      "metadata": {
        "id": "IqS4uwxiCgh6"
      },
      "source": [
        "class Inventory:\r\n",
        "  def __init__(self, Av, Dist):\r\n",
        "    self.Available = []\r\n",
        "    self.Available.append(Av)\r\n",
        "    #print(self.Available)\r\n",
        "    self.Dist = Dist\r\n",
        "    self.Mills = []\r\n",
        "\r\n",
        "\r\n",
        "  def Add_Mill2(self, Id, Wood, Prod, Dem=0):\r\n",
        "    a =self.Cell_Less( Id,0,20)\r\n",
        "#    print(a)\r\n",
        "#    print(self.Num_Cell( Id,10))\r\n",
        "        \r\n",
        "    #D2 = a.loc[:, (DIST')]\r\n",
        "    D2 = a.loc[:, ('DEST','DIST')]\r\n",
        "    mil= Mill(id,Wood,Prod,D2,Dem)\r\n",
        "    self.Mills.append(mil)\r\n",
        "  \r\n",
        "  def Harvest_Mill(self,t, j, Radio =10):\r\n",
        "    ans = self.Mills[j].Harvest_Close(self.Available[t].SumOfTotal,Radio,self.Mills[j].Demand)\r\n",
        "    #print(ans)\r\n",
        "  \r\n",
        "  \r\n",
        "  def Harvest_All_Mills(self, Radio =10):\r\n",
        "    for k in range(len(self.Mills)):\r\n",
        "      Hardwood_Sawlog.Harvest_Mill(0,k,Radio)\r\n",
        "    \r\n",
        "  \r\n",
        "  def Cell_Less(self, Id_Mill, Time, Radio=10):\r\n",
        "    #Given a Time and Radio and a Mill ID this function returns a list of cells with Distance and Availability\r\n",
        "    Ans = self.Dist[(self.Dist['ORIG'] == Id_Mill)&(self.Dist['DIST'] <= Radio)]\r\n",
        "    Disp =[]\r\n",
        "    for j in range(len(Ans)):\r\n",
        "      if not(self.Available[0][self.Available[0][\"Unique_ID\"]==Ans['DEST'][j]].empty):\r\n",
        "        Disp.append(int(self.Available[0][self.Available[0][\"Unique_ID\"]==Ans['DEST'][j]].SumOfTotal))\r\n",
        "      else:\r\n",
        "        Disp.append(0)\r\n",
        "    Ans[\"AVAIL\"] = Disp \r\n",
        "    return(Ans)\r\n",
        "  \r\n",
        "  def Num_Cell(self, Id_Mill, Radio=10):\r\n",
        "    #Given a Radio and a Mill ID this function returns cell among the radio distance\r\n",
        "    Ans = self.Dist[(self.Dist['ORIG'] == Id_Mill)&(self.Dist['DIST'] <= Radio)]\r\n",
        "    #print(\"Numero de celdas \",len(Ans))\r\n",
        "    return(len(Ans))\r\n",
        "    \r\n",
        "  \r\n",
        "  def runInParallel(*fns):\r\n",
        "    proc = []\r\n",
        "    for fn in fns:\r\n",
        "      p = Process(target=fn)\r\n",
        "      p.start()\r\n",
        "      proc.append(p)\r\n",
        "    for p in proc:\r\n",
        "      p.join()\r\n",
        "\r\n"
      ],
      "execution_count": 135,
      "outputs": []
    },
    {
      "cell_type": "markdown",
      "metadata": {
        "id": "dBG0GVk9Y81m"
      },
      "source": [
        "**UPLOADING FOREST INVENTORY DATA**"
      ]
    },
    {
      "cell_type": "markdown",
      "metadata": {
        "id": "2XCJBkIx2Oed"
      },
      "source": [
        "**1ST PHASE - MILLS DEMAND - SHORTEST DISTANCE CRITERIA**"
      ]
    },
    {
      "cell_type": "code",
      "metadata": {
        "id": "oDXsRJhXSWKd",
        "colab": {
          "base_uri": "https://localhost:8080/"
        },
        "outputId": "b0a8de53-de61-446d-dd98-874511ac286a"
      },
      "source": [
        "# Main Program\r\n",
        "Num_Cell= 10000\r\n",
        "D = np.zeros(Num_Cell)\r\n",
        "Demand = 20000000 \r\n",
        "\r\n",
        "for i in range(Num_Cell):\r\n",
        "  D[i] = i\r\n",
        "\r\n",
        "Hardwood_Sawlog = Inventory(Hardwood_Sawlog_Data,Dist_Data)\r\n",
        "#print(Hardwood_Sawlog.Available[0][\"Unique_ID\"]==74031)\r\n",
        "\r\n",
        "Hardwood_Sawlog.Cell_Less(54549,0,10)\r\n",
        "ma = Hardwood_Sawlog_Data['Unique_ID'].unique()\r\n",
        "#print(Hardwood_Sawlog_Data)\r\n",
        "\r\n",
        "#a = Mill(74031,0,0,Hardwood_Sawlog.Dist.DIST,1000000)\r\n",
        "#a = Mill(Mills_Data['Unique_ID'][0],Mills_Data['plant'][0],Mills_Data['s_h'][0],Hardwood_Sawlog.Dist.DIST,Mills_Data['Demand'][0])\r\n",
        "#a.Harvest_Close(Hardwood_Sawlog_Data.SumOfTotal, 10, 1000000)\r\n",
        "#print(Hardwood_Sawlog.Dist.loc[:, ('DIST')])\r\n",
        "\r\n",
        "#Mills_Data.loc[0, ('Unique_ID')]\r\n",
        "\r\n",
        "for k in range(1):\r\n",
        "  \r\n",
        "  #Hardwood_Sawlog.Mills.append(Mill(Mills_Data['Unique_ID'][k],Mills_Data['plant'][k],Mills_Data['s_h'][k],Hardwood_Sawlog.Dist.DIST,Mills_Data['Demand'][k]))\r\n",
        "  #mi= Mill(Mills_Data.loc[k, ('Unique_ID')],Mills_Data.loc[k,('plant')],Mills_Data.loc[k,('s_h')],Hardwood_Sawlog.Dist.loc[:, ('DIST')],Mills_Data.loc[k,('Demand')])\r\n",
        "  #Hardwood_Sawlog.Add_Mill(mi)\r\n",
        "  #Hardwood_Sawlog.Add_Mill2(Mills_Data.loc[k, ('Unique_ID')],Mills_Data.loc[k,('plant')],Mills_Data.loc[k,('s_h')],Mills_Data.loc[k,('Demand')])\r\n",
        "  Hardwood_Sawlog.Add_Mill2(54549,Mills_Data.loc[k,('plant')],Mills_Data.loc[k,('s_h')],Mills_Data.loc[k,('Demand')])\r\n",
        "  #print(\"Cosechando Aserradero \", k)\r\n",
        "  #Hardwood_Sawlog.Harvest_Mill(0,k)\r\n",
        "\r\n",
        "Hardwood_Sawlog.Harvest_All_Mills()"
      ],
      "execution_count": 136,
      "outputs": [
        {
          "output_type": "stream",
          "text": [
            "/usr/local/lib/python3.6/dist-packages/ipykernel_launcher.py:41: SettingWithCopyWarning: \n",
            "A value is trying to be set on a copy of a slice from a DataFrame.\n",
            "Try using .loc[row_indexer,col_indexer] = value instead\n",
            "\n",
            "See the caveats in the documentation: https://pandas.pydata.org/pandas-docs/stable/user_guide/indexing.html#returning-a-view-versus-a-copy\n",
            "/usr/local/lib/python3.6/dist-packages/ipykernel_launcher.py:41: SettingWithCopyWarning: \n",
            "A value is trying to be set on a copy of a slice from a DataFrame.\n",
            "Try using .loc[row_indexer,col_indexer] = value instead\n",
            "\n",
            "See the caveats in the documentation: https://pandas.pydata.org/pandas-docs/stable/user_guide/indexing.html#returning-a-view-versus-a-copy\n",
            "/usr/local/lib/python3.6/dist-packages/ipykernel_launcher.py:29: DeprecationWarning: elementwise comparison failed; this will raise an error in the future.\n"
          ],
          "name": "stderr"
        },
        {
          "output_type": "stream",
          "text": [
            "D2*******\n",
            "      DEST       DIST\n",
            "0    54549   0.000000\n",
            "1    54749   2.829784\n",
            "2    54150   2.938933\n",
            "3    54949   3.067795\n",
            "4    54748   3.524870\n",
            "..     ...        ...\n",
            "166  52352  19.726610\n",
            "167  55759  19.762639\n",
            "168  56156  19.772028\n",
            "169  54953  19.828987\n",
            "170  55347  19.982425\n",
            "\n",
            "[171 rows x 2 columns]\n",
            "****Disponible:  171\n",
            "apm 35.234.57.49_gk_model0 <br><pre> ----------------------------------------------------------------\n",
            " APMonitor, Version 1.0.0\n",
            " APMonitor Optimization Suite\n",
            " ----------------------------------------------------------------\n",
            " \n",
            " \n",
            " --------- APM Model Size ------------\n",
            " Each time step contains\n",
            "   Objects      :           66\n",
            "   Constants    :            0\n",
            "   Variables    :         8050\n",
            "   Intermediates:           33\n",
            "   Connections  :         6950\n",
            "   Equations    :         3541\n",
            "   Residuals    :         3508\n",
            " \n",
            " Number of state variables:           8050\n",
            " Number of total equations: -         3541\n",
            " Number of slack variables: -            0\n",
            " ---------------------------------------\n",
            " Degrees of freedom       :           4509\n",
            " \n",
            " **********************************************\n",
            " Steady State Optimization with Interior Point Solver\n",
            " **********************************************\n",
            "  \n",
            "  \n",
            " Info: Exact Hessian\n",
            "\n",
            "******************************************************************************\n",
            "This program contains Ipopt, a library for large-scale nonlinear optimization.\n",
            " Ipopt is released as open source code under the Eclipse Public License (EPL).\n",
            "         For more information visit http://projects.coin-or.org/Ipopt\n",
            "******************************************************************************\n",
            "\n",
            "This is Ipopt version 3.12.10, running with linear solver ma57.\n",
            "\n",
            "Number of nonzeros in equality constraint Jacobian...:    13867\n",
            "Number of nonzeros in inequality constraint Jacobian.:        0\n",
            "Number of nonzeros in Lagrangian Hessian.............:        0\n",
            "\n",
            "Total number of variables............................:     8050\n",
            "                     variables with only lower bounds:        3\n",
            "                variables with lower and upper bounds:     4242\n",
            "                     variables with only upper bounds:        0\n",
            "Total number of equality constraints.................:     3541\n",
            "Total number of inequality constraints...............:        0\n",
            "        inequality constraints with only lower bounds:        0\n",
            "   inequality constraints with lower and upper bounds:        0\n",
            "        inequality constraints with only upper bounds:        0\n",
            "\n",
            "iter    objective    inf_pr   inf_du lg(mu)  ||d||  lg(rg) alpha_du alpha_pr  ls\n",
            "   0 -3.3816413e-04 6.80e+04 1.00e+00   0.0 0.00e+00    -  0.00e+00 0.00e+00   0\n",
            "   1  9.4916318e+05 2.46e-10 4.08e+04   0.2 9.02e+05  -4.0 2.42e-05 1.00e+00h  1\n",
            "   2  1.9457832e+07 6.10e-10 3.79e+04   4.1 1.11e+07  -4.5 5.07e-01 7.10e-02f  1\n",
            "   3  2.0048133e+07 5.27e-10 3.86e+04   5.9 5.74e+05  -5.0 1.00e+00 3.52e-02f  1\n",
            "   4  2.4002231e+07 2.29e-10 1.29e+04   5.2 1.65e+06  -5.4 9.75e-01 6.52e-01f  1\n",
            "   5  2.4128090e+07 6.26e-10 3.42e-01   4.5 1.80e+05  -5.9 1.00e+00 1.00e+00f  1\n",
            "   6  2.3074828e+07 2.52e-10 2.40e-01   3.8 5.83e+05  -6.4 9.97e-01 1.00e+00f  1\n",
            "   7  1.6672335e+07 3.36e-10 1.18e+01   3.1 1.21e+06  -6.9 7.15e-02 1.00e+00f  1\n",
            "   8  2.3079949e+06 2.87e-10 9.05e+00   2.4 4.69e+05  -7.3 2.87e-01 1.00e+00f  1\n",
            "   9  1.2685333e+06 3.21e-10 4.82e+00   2.4 5.60e+05  -7.8 6.13e-02 1.00e+00f  1\n",
            "iter    objective    inf_pr   inf_du lg(mu)  ||d||  lg(rg) alpha_du alpha_pr  ls\n",
            "  10  9.7836844e+05 1.34e-10 1.46e+00   2.4 2.52e+05  -8.3 3.94e-01 1.00e+00f  1\n",
            "  11  9.3254998e+05 1.94e-11 2.74e-03   2.4 4.82e+04  -8.8 1.00e+00 1.00e+00f  1\n",
            "  12  9.7589724e+03 5.78e-11 3.04e-04  -3.6 4.65e+04  -9.2 9.29e-01 9.90e-01f  1\n",
            "  13  9.7820404e+01 5.45e-11 2.76e-06  -4.9 4.84e+02  -9.7 9.89e-01 9.90e-01f  1\n",
            "  14  9.7790101e-01 3.66e-11 2.76e-08  -6.9 4.85e+00 -10.2 9.90e-01 9.90e-01f  1\n",
            "  15  1.8960433e-03 2.00e-11 6.38e-11  -8.9 4.85e-02 -10.7 9.98e-01 9.98e-01f  1\n",
            "  16 -3.6136013e-04 7.13e-12 3.57e-15 -11.0 1.12e-04 -11.2 1.00e+00 1.00e+00f  1\n",
            "\n",
            "Number of Iterations....: 16\n",
            "\n",
            "                                   (scaled)                 (unscaled)\n",
            "Objective...............:  -3.6136013237306934e-04   -3.6136013237306934e-04\n",
            "Dual infeasibility......:   3.5741202411040335e-15    3.5741202411040335e-15\n",
            "Constraint violation....:   7.1324156137790364e-12    7.1324156137790364e-12\n",
            "Complementarity.........:   2.8333979799934805e-11    2.8333979799934805e-11\n",
            "Overall NLP error.......:   2.8333979799934805e-11    2.8333979799934805e-11\n",
            "\n",
            "\n",
            "Number of objective function evaluations             = 17\n",
            "Number of objective gradient evaluations             = 17\n",
            "Number of equality constraint evaluations            = 17\n",
            "Number of inequality constraint evaluations          = 0\n",
            "Number of equality constraint Jacobian evaluations   = 17\n",
            "Number of inequality constraint Jacobian evaluations = 0\n",
            "Number of Lagrangian Hessian evaluations             = 16\n",
            "Total CPU secs in IPOPT (w/o function evaluations)   =      0.162\n",
            "Total CPU secs in NLP function evaluations           =      0.309\n",
            "\n",
            "EXIT: Optimal Solution Found.\n",
            " \n",
            " The solution was found.\n",
            " \n",
            " The final value of the objective function is  -3.613601323730693E-004\n",
            " \n",
            " ---------------------------------------------------\n",
            " Solver         :  IPOPT (v3.12)\n",
            " Solution time  :   0.499000000003434      sec\n",
            " Objective      :  -3.613601323730693E-004\n",
            " Successful solution\n",
            " ---------------------------------------------------\n",
            " \n",
            "      DEST       DIST       Harvested\n",
            "0    54549   0.000000  [68000.000002]\n",
            "1    54749   2.829784           [0.0]\n",
            "2    54150   2.938933           [0.0]\n",
            "3    54949   3.067795           [0.0]\n",
            "4    54748   3.524870           [0.0]\n",
            "..     ...        ...             ...\n",
            "166  52352  19.726610           [0.0]\n",
            "167  55759  19.762639           [0.0]\n",
            "168  56156  19.772028           [0.0]\n",
            "169  54953  19.828987           [0.0]\n",
            "170  55347  19.982425           [0.0]\n",
            "\n",
            "[171 rows x 3 columns]\n"
          ],
          "name": "stdout"
        }
      ]
    }
  ]
}