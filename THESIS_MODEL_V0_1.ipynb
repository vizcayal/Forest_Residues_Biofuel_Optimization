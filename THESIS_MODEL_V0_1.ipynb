{
  "nbformat": 4,
  "nbformat_minor": 0,
  "metadata": {
    "colab": {
      "name": "THESIS_MODEL V0.1.ipynb",
      "provenance": [],
      "authorship_tag": "ABX9TyM6lBSx+z8OXow8BqPWTeOn",
      "include_colab_link": true
    },
    "kernelspec": {
      "name": "python3",
      "display_name": "Python 3"
    }
  },
  "cells": [
    {
      "cell_type": "markdown",
      "metadata": {
        "id": "view-in-github",
        "colab_type": "text"
      },
      "source": [
        "<a href=\"https://colab.research.google.com/github/vizcayal/Thesis_UT/blob/V1/THESIS_MODEL_V0_1.ipynb\" target=\"_parent\"><img src=\"https://colab.research.google.com/assets/colab-badge.svg\" alt=\"Open In Colab\"/></a>"
      ]
    },
    {
      "cell_type": "markdown",
      "metadata": {
        "id": "BbmhtvgnZUe0"
      },
      "source": [
        "**Installing packages needed**"
      ]
    },
    {
      "cell_type": "code",
      "metadata": {
        "id": "9PbaQG2oYXd5"
      },
      "source": [
        "!pip install gekko\r\n",
        "!pip install ipynb\r\n"
      ],
      "execution_count": null,
      "outputs": []
    },
    {
      "cell_type": "markdown",
      "metadata": {
        "id": "PfDtY5HjUWbs"
      },
      "source": [
        "**Importing libraries needed**"
      ]
    },
    {
      "cell_type": "code",
      "metadata": {
        "id": "-Uhaf81oUfRp",
        "colab": {
          "base_uri": "https://localhost:8080/"
        },
        "outputId": "56058369-bd96-4a24-bcd8-9e78de1d4011"
      },
      "source": [
        "import numpy as np\r\n",
        "from multiprocessing import *\r\n",
        "from gekko import GEKKO\r\n",
        "import pandas as pd\r\n",
        "import os\r\n",
        "from google.colab import files\r\n",
        "from google.colab import drive\r\n",
        "drive.mount(\"/content/drive\")\r\n",
        "import sys\r\n",
        "sys.path.append('/content/drive/My Drive/Colab Notebooks/')\r\n",
        "from library import *\r\n",
        "#Initialize Model\r\n",
        "m = GEKKO(remote=True) \r\n",
        "#Set global options\r\n",
        "m.options.solver = 3\r\n",
        "m.options.IMODE = 3 #steady state optimization\r\n",
        "\r\n"
      ],
      "execution_count": 12,
      "outputs": [
        {
          "output_type": "stream",
          "text": [
            "Drive already mounted at /content/drive; to attempt to forcibly remount, call drive.mount(\"/content/drive\", force_remount=True).\n"
          ],
          "name": "stdout"
        }
      ]
    },
    {
      "cell_type": "code",
      "metadata": {
        "id": "0JmzGQGEN96m"
      },
      "source": [
        "#Upload distances from each hexagon to other\r\n",
        "Dist_Data = pd.read_csv(\"/content/drive/My Drive/Colab Notebooks/Distance_TN.csv\")\r\n",
        "Mills_Data = pd.read_csv(\"/content/drive/My Drive/Colab Notebooks/Mills_TN.csv\")\r\n",
        "Hardwood_Sawlog_Data = pd.read_csv(\"/content/drive/My Drive/Colab Notebooks/Hardwood_Sawlog.csv\")\r\n",
        "print(Hardwood_Sawlog_Data)"
      ],
      "execution_count": null,
      "outputs": []
    },
    {
      "cell_type": "markdown",
      "metadata": {
        "id": "R0nJnGd5CiEw"
      },
      "source": [
        "**SAWMILL CLASS**"
      ]
    },
    {
      "cell_type": "code",
      "metadata": {
        "id": "V0N_36t4-S0e"
      },
      "source": [
        "#SawMill Object\r\n",
        "class Mill:\r\n",
        "  m = GEKKO(remote=True)\r\n",
        "\r\n",
        "  def __init__(self, Id, Wood, Prod, Dis, Dem=0):\r\n",
        "    self.Id = Id\r\n",
        "    self.Wood_type =Wood\r\n",
        "    self.Prod_type = Prod\r\n",
        "    self.Dist = Dis\r\n",
        "    self.Demand = Dem\r\n",
        "    #print(\"Mill: \",self.Id, \" Created\")\r\n",
        "\r\n",
        "  def Harvest_Close(self, Available, radio, Dem = 0):\r\n",
        "    if (Dem>0):\r\n",
        "      self.Demand = Dem\r\n",
        "    \r\n",
        "    Num = int(radio*radio*3.14/5)\r\n",
        "    if Num <= len(Available):\r\n",
        "      H = m.Array(m.Var,(Num),value = 0)\r\n",
        "      for i in range(Num):\r\n",
        "        H[i].lower = 0\r\n",
        "        H[i].upper = Available[i]\r\n",
        "        \r\n",
        "      prod0 = m.Intermediate(m.sum([self.Dist[i]*H[i] for i in range(0,len(H))]))\r\n",
        "      m.Equation(self.Demand==m.sum([H[i] for i in range(0,len(H))]))\r\n",
        "      m.Obj(prod0) \r\n",
        "      m.solve(disp=True,debug=True)\r\n",
        "      print(H)\r\n",
        "      return(H)\r\n"
      ],
      "execution_count": 14,
      "outputs": []
    },
    {
      "cell_type": "code",
      "metadata": {
        "id": "IqS4uwxiCgh6"
      },
      "source": [
        "class Inventory:\r\n",
        "  def __init__(self, Available, Dist):\r\n",
        "    self.Available = Available\r\n",
        "    self.Dist = Dist\r\n",
        "    self.Mills = []\r\n",
        "  \r\n",
        "  def Add_Mill(self, m):\r\n",
        "    self.Mills.append(m)\r\n",
        "  \r\n",
        "  def Harvest_Mill(self, j, radio =10):\r\n",
        "    ans = self.Mills[j].Harvest_Close(self.Available.SumOfTotal,radio,self.Mills[j].Demand)\r\n",
        "  \r\n",
        "  def Harvest_All_Mills(self, radio =10):\r\n",
        "    ans = self.Mills[j].Harvest_Close(self.Available,radio,self.Mills[j].Demand)\r\n",
        "  \r\n",
        "  def Cell_Less(Id_Mill, Radio):\r\n",
        "    ans = Self.Dist[(Dist['ORIG'] == Id_Mill)&(Dist_Data['DIST'] <= Radio)]\r\n",
        "    return(ans)\r\n",
        "  \r\n",
        "  def runInParallel(*fns):\r\n",
        "    proc = []\r\n",
        "    for fn in fns:\r\n",
        "      p = Process(target=fn)\r\n",
        "      p.start()\r\n",
        "      proc.append(p)\r\n",
        "    for p in proc:\r\n",
        "      p.join()\r\n",
        "\r\n"
      ],
      "execution_count": 15,
      "outputs": []
    },
    {
      "cell_type": "markdown",
      "metadata": {
        "id": "dBG0GVk9Y81m"
      },
      "source": [
        "**UPLOADING FOREST INVENTORY DATA**"
      ]
    },
    {
      "cell_type": "markdown",
      "metadata": {
        "id": "2XCJBkIx2Oed"
      },
      "source": [
        "**1ST PHASE - MILLS DEMAND - SHORTEST DISTANCE CRITERIA**"
      ]
    },
    {
      "cell_type": "code",
      "metadata": {
        "id": "oDXsRJhXSWKd",
        "colab": {
          "base_uri": "https://localhost:8080/"
        },
        "outputId": "842d5bb4-9d6d-41e4-c0dd-5bef190e229f"
      },
      "source": [
        "# Main Program\r\n",
        "Num_Cell= 10000\r\n",
        "D = np.zeros(Num_Cell)\r\n",
        "Demand = 20000000 \r\n",
        "\r\n",
        "for i in range(Num_Cell):\r\n",
        "  D[i] = i\r\n",
        "\r\n",
        "Hardwood_Sawlog = Inventory(Hardwood_Sawlog_Data,Dist_Data)\r\n",
        "len(Dist_Data.ORIG.unique())\r\n",
        "\r\n",
        "for k in range(len(Mills_Data)):\r\n",
        "  Hardwood_Sawlog.Mills.append(Mill(Mills_Data['Unique_ID'][k],Mills_Data['plant'][k],Mills_Data['s_h'][k],Hardwood_Sawlog.Dist.DIST,Mills_Data['Demand'][k]))\r\n",
        "\r\n",
        "#Hardwood_Sawlog.runInParallel(Hardwood_Sawlog.Harvest_Mill(0),Hardwood_Sawlog.Harvest_Mill(1),Hardwood_Sawlog.Harvest_Mill(2))\r\n",
        "Hardwood_Sawlog.Harvest_Mill(0)\r\n"
      ],
      "execution_count": 17,
      "outputs": [
        {
          "output_type": "stream",
          "text": [
            "/usr/local/lib/python3.6/dist-packages/ipykernel_launcher.py:25: DeprecationWarning: elementwise comparison failed; this will raise an error in the future.\n"
          ],
          "name": "stderr"
        },
        {
          "output_type": "stream",
          "text": [
            "apm 34.82.112.180_gk_model2 <br><pre> ----------------------------------------------------------------\n",
            " APMonitor, Version 1.0.0\n",
            " APMonitor Optimization Suite\n",
            " ----------------------------------------------------------------\n",
            " \n",
            " \n",
            " --------- APM Model Size ------------\n",
            " Each time step contains\n",
            "   Objects      :            4\n",
            "   Constants    :            0\n",
            "   Variables    :          252\n",
            "   Intermediates:            2\n",
            "   Connections  :          252\n",
            "   Equations    :          130\n",
            "   Residuals    :          128\n",
            " \n",
            " Number of state variables:            252\n",
            " Number of total equations: -          130\n",
            " Number of slack variables: -            0\n",
            " ---------------------------------------\n",
            " Degrees of freedom       :            122\n",
            " \n",
            " **********************************************\n",
            " Steady State Optimization with Interior Point Solver\n",
            " **********************************************\n",
            "  \n",
            "  \n",
            " Info: Exact Hessian\n",
            "\n",
            "******************************************************************************\n",
            "This program contains Ipopt, a library for large-scale nonlinear optimization.\n",
            " Ipopt is released as open source code under the Eclipse Public License (EPL).\n",
            "         For more information visit http://projects.coin-or.org/Ipopt\n",
            "******************************************************************************\n",
            "\n",
            "This is Ipopt version 3.12.10, running with linear solver ma57.\n",
            "\n",
            "Number of nonzeros in equality constraint Jacobian...:      502\n",
            "Number of nonzeros in inequality constraint Jacobian.:        0\n",
            "Number of nonzeros in Lagrangian Hessian.............:        0\n",
            "\n",
            "Total number of variables............................:      252\n",
            "                     variables with only lower bounds:        0\n",
            "                variables with lower and upper bounds:      124\n",
            "                     variables with only upper bounds:        0\n",
            "Total number of equality constraints.................:      130\n",
            "Total number of inequality constraints...............:        0\n",
            "        inequality constraints with only lower bounds:        0\n",
            "   inequality constraints with lower and upper bounds:        0\n",
            "        inequality constraints with only upper bounds:        0\n",
            "\n",
            "iter    objective    inf_pr   inf_du lg(mu)  ||d||  lg(rg) alpha_du alpha_pr  ls\n",
            "   0 -4.9952629e-06 6.80e+04 9.69e-01   0.0 0.00e+00    -  0.00e+00 0.00e+00   0\n",
            "   1  5.5485683e+05 6.80e+04 2.53e+06   7.3 1.03e+10    -  1.29e-03 5.40e-05f  1\n",
            "   2  1.0866585e+06 2.11e-10 4.18e+10   0.2 5.51e+05    -  6.25e-05 1.00e+00h  1\n",
            "   3  1.1089599e+06 1.82e-10 3.55e+10   5.5 1.48e+05    -  1.00e+00 1.51e-01f  3\n",
            "   4  1.1000987e+06 1.51e-10 1.30e-05   5.4 6.91e+03    -  1.00e+00 1.00e+00f  1\n",
            "   5  1.0956917e+06 1.27e-10 4.38e-14   4.7 2.33e+03    -  1.00e+00 1.00e+00f  1\n",
            "   6  1.0712827e+06 1.36e-10 1.17e-14   4.0 1.23e+04    -  1.00e+00 1.00e+00f  1\n",
            "   7  8.4987261e+05 1.12e-10 1.86e-02   3.8 1.11e+05    -  9.79e-01 1.00e+00f  1\n",
            "   8  1.1901936e+05 9.91e-11 1.55e-15   3.0 3.68e+05    -  1.00e+00 1.00e+00f  1\n",
            "   9  1.7401754e+03 2.84e-11 8.05e-03   0.9 6.09e+04    -  8.77e-01 9.98e-01f  1\n",
            "iter    objective    inf_pr   inf_du lg(mu)  ||d||  lg(rg) alpha_du alpha_pr  ls\n",
            "  10  7.0732949e+01 9.01e-13 3.07e-06  -0.2 1.08e+03    -  9.94e-01 1.00e+00f  1\n",
            "  11  7.0736288e-01 6.59e-12 3.14e-08  -6.0 3.54e+01    -  9.90e-01 9.90e-01f  1\n",
            "  12  7.0636776e-03 7.19e-12 3.14e-10  -8.0 3.54e-01    -  9.90e-01 9.90e-01f  1\n",
            "  13 -8.9443768e-06 4.85e-12 5.08e-14 -10.0 3.54e-03    -  1.00e+00 1.00e+00f  1\n",
            "\n",
            "Number of Iterations....: 13\n",
            "\n",
            "                                   (scaled)                 (unscaled)\n",
            "Objective...............:  -8.9443768359754976e-06   -8.9443768359754976e-06\n",
            "Dual infeasibility......:   5.0826079463384445e-14    5.0826079463384445e-14\n",
            "Constraint violation....:   4.8527138372527227e-12    4.8527138372527227e-12\n",
            "Complementarity.........:   2.4637323222795345e-08    2.4637323222795345e-08\n",
            "Overall NLP error.......:   2.4637323222795345e-08    2.4637323222795345e-08\n",
            "\n",
            "\n",
            "Number of objective function evaluations             = 16\n",
            "Number of objective gradient evaluations             = 14\n",
            "Number of equality constraint evaluations            = 16\n",
            "Number of inequality constraint evaluations          = 0\n",
            "Number of equality constraint Jacobian evaluations   = 14\n",
            "Number of inequality constraint Jacobian evaluations = 0\n",
            "Number of Lagrangian Hessian evaluations             = 13\n",
            "Total CPU secs in IPOPT (w/o function evaluations)   =      0.013\n",
            "Total CPU secs in NLP function evaluations           =      0.006\n",
            "\n",
            "EXIT: Optimal Solution Found.\n",
            " \n",
            " The solution was found.\n",
            " \n",
            " The final value of the objective function is  -8.944376835975498E-006\n",
            " \n",
            " ---------------------------------------------------\n",
            " Solver         :  IPOPT (v3.12)\n",
            " Solution time  :   2.569999999832362E-002 sec\n",
            " Objective      :  -8.944376835975498E-006\n",
            " Successful solution\n",
            " ---------------------------------------------------\n",
            " \n",
            "[[68000.000001] [0.0] [0.0] [0.0] [0.0] [0.0] [0.0] [0.0] [0.0] [0.0]\n",
            " [0.0] [0.0] [0.0] [0.0] [0.0] [0.0] [0.0] [0.0] [0.0] [0.0] [0.0] [0.0]\n",
            " [0.0] [0.0] [0.0] [0.0] [0.0] [0.0] [0.0] [0.0] [0.0] [0.0] [0.0] [0.0]\n",
            " [0.0] [0.0] [0.0] [0.0] [0.0] [0.0] [0.0] [0.0] [0.0] [0.0] [0.0] [0.0]\n",
            " [0.0] [0.0] [0.0] [0.0] [0.0] [0.0] [0.0] [0.0] [0.0] [0.0] [0.0] [0.0]\n",
            " [0.0] [0.0] [0.0] [0.0]]\n"
          ],
          "name": "stdout"
        }
      ]
    }
  ]
}