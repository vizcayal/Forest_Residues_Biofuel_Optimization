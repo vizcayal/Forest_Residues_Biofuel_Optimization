{
  "nbformat": 4,
  "nbformat_minor": 0,
  "metadata": {
    "colab": {
      "name": "THESIS_MODEL V1.5.ipynb",
      "provenance": [],
      "collapsed_sections": [],
      "authorship_tag": "ABX9TyPx45ogyfpldQ7b0lxtY5TM",
      "include_colab_link": true
    },
    "kernelspec": {
      "name": "python3",
      "display_name": "Python 3"
    }
  },
  "cells": [
    {
      "cell_type": "markdown",
      "metadata": {
        "id": "view-in-github",
        "colab_type": "text"
      },
      "source": [
        "<a href=\"https://colab.research.google.com/github/vizcayal/Thesis_UT/blob/V1/THESIS_MODEL_V1_5.ipynb\" target=\"_parent\"><img src=\"https://colab.research.google.com/assets/colab-badge.svg\" alt=\"Open In Colab\"/></a>"
      ]
    },
    {
      "cell_type": "markdown",
      "metadata": {
        "id": "BbmhtvgnZUe0"
      },
      "source": [
        "**Installing packages needed**"
      ]
    },
    {
      "cell_type": "code",
      "metadata": {
        "id": "9PbaQG2oYXd5",
        "colab": {
          "base_uri": "https://localhost:8080/"
        },
        "outputId": "514cea81-76a7-49d3-b49a-d0bc747fa5a8"
      },
      "source": [
        "!pip install gekko\r\n",
        "!pip install ipynb\r\n"
      ],
      "execution_count": 60,
      "outputs": [
        {
          "output_type": "stream",
          "text": [
            "Requirement already satisfied: gekko in /usr/local/lib/python3.6/dist-packages (0.2.8)\n",
            "Requirement already satisfied: flask in /usr/local/lib/python3.6/dist-packages (from gekko) (1.1.2)\n",
            "Requirement already satisfied: numpy>=1.8 in /usr/local/lib/python3.6/dist-packages (from gekko) (1.19.4)\n",
            "Requirement already satisfied: flask-cors in /usr/local/lib/python3.6/dist-packages (from gekko) (3.0.10)\n",
            "Requirement already satisfied: itsdangerous>=0.24 in /usr/local/lib/python3.6/dist-packages (from flask->gekko) (1.1.0)\n",
            "Requirement already satisfied: click>=5.1 in /usr/local/lib/python3.6/dist-packages (from flask->gekko) (7.1.2)\n",
            "Requirement already satisfied: Jinja2>=2.10.1 in /usr/local/lib/python3.6/dist-packages (from flask->gekko) (2.11.2)\n",
            "Requirement already satisfied: Werkzeug>=0.15 in /usr/local/lib/python3.6/dist-packages (from flask->gekko) (1.0.1)\n",
            "Requirement already satisfied: Six in /usr/local/lib/python3.6/dist-packages (from flask-cors->gekko) (1.15.0)\n",
            "Requirement already satisfied: MarkupSafe>=0.23 in /usr/local/lib/python3.6/dist-packages (from Jinja2>=2.10.1->flask->gekko) (1.1.1)\n",
            "Requirement already satisfied: ipynb in /usr/local/lib/python3.6/dist-packages (0.5.1)\n"
          ],
          "name": "stdout"
        }
      ]
    },
    {
      "cell_type": "markdown",
      "metadata": {
        "id": "PfDtY5HjUWbs"
      },
      "source": [
        "**Importing libraries needed**"
      ]
    },
    {
      "cell_type": "code",
      "metadata": {
        "id": "-Uhaf81oUfRp",
        "colab": {
          "base_uri": "https://localhost:8080/"
        },
        "outputId": "8211eae3-82e6-451b-9fb9-f789f78e9133"
      },
      "source": [
        "import numpy as np\r\n",
        "import time\r\n",
        "from multiprocessing import *\r\n",
        "from gekko import GEKKO\r\n",
        "import pandas as pd\r\n",
        "import os\r\n",
        "from google.colab import files\r\n",
        "from google.colab import drive\r\n",
        "drive.mount(\"/content/drive\")\r\n",
        "import sys\r\n",
        "sys.path.append('/content/drive/My Drive/Colab Notebooks/')\r\n",
        "from library import *\r\n"
      ],
      "execution_count": 61,
      "outputs": [
        {
          "output_type": "stream",
          "text": [
            "Drive already mounted at /content/drive; to attempt to forcibly remount, call drive.mount(\"/content/drive\", force_remount=True).\n"
          ],
          "name": "stdout"
        }
      ]
    },
    {
      "cell_type": "markdown",
      "metadata": {
        "id": "R0nJnGd5CiEw"
      },
      "source": [
        "**SAWMILL CLASS**"
      ]
    },
    {
      "cell_type": "code",
      "metadata": {
        "id": "IqS4uwxiCgh6"
      },
      "source": [
        "class Inventory:\r\n",
        "  def __init__(self, Av, Dist, Wt=-1, Pt=-1):\r\n",
        "    self.Available = []\r\n",
        "    self.Available.append(Av) #Dataframe that contains Available wood Inventory at diferent time t\r\n",
        "    self.Dist = Dist #Matrix Distance from any cell to another cell\r\n",
        "    self.Mills = [] #Dataframe that contains Id, typewood, type_product, and demand of mills\r\n",
        "    self.Dist_Mill = [] #Dataframe that contains the Distance to the mill to be harvested\r\n",
        "    self.Dist_Refi = [] #Dataframe that contains the Distance to the mill to be harvested\r\n",
        "    self.Available_Mill = [] #Dataframe that contains the Available Inventory close the mill to be harvested\r\n",
        "    self.Available_Mill = [] #Dataframe that contains the Available Inventory close the Refinery\r\n",
        "    self.Harvested = [] #Ammount of harvested wood\r\n",
        "    self.Residues = []  #Residues generated by harvesting\r\n",
        "    self.Growth = [] #Growth ammount for each hexagon (feet cubic) \r\n",
        "    self.WoodType = Wt #type of wood needed (softwood, hardwood)\r\n",
        "    self.ProdType = Pt #type of product generated (pulp or saw)\r\n",
        "    self.Candidates=[] #Candidate location for biorefinery\r\n",
        "    self.Radio_Mill = 40\r\n",
        "    self.Radio_Refinery = 70\r\n",
        "   \r\n",
        "  def Harvest_Mill_Close(self,t, j):\r\n",
        "    #Given a period t and a Mill j the function provide the harvested wood and substract it from available inventory\r\n",
        "    m = GEKKO(remote=True)\r\n",
        "    m.options.solver = 3 #IPOPT solver\r\n",
        "    m.options.IMODE = 3 #steady state optimization\r\n",
        "    Id1 =self.Mills.loc[j,('Unique_ID')]\r\n",
        "    a =self.Cell_Less(Id1,t,self.Radio_Mill)\r\n",
        "    self.Dist_Mill = a.loc[:, ('DEST','DIST')]\r\n",
        "    Num = len(self.Dist_Mill)\r\n",
        "    H = m.Array(m.Var,(Num),value = 0)\r\n",
        "    \r\n",
        "    Dem = self.Mills.loc[j,('Demand')]\r\n",
        "    self.Available_Mill = self.Disp_Radio( Id1, t, self.Radio_Mill)\r\n",
        "    \r\n",
        "    for i in range(Num):\r\n",
        "      H[i].lower = 0\r\n",
        "      H[i].upper = self.Available_Mill[i]\r\n",
        "      \r\n",
        "    prod0 = m.Intermediate(m.sum([self.Dist_Mill.loc[i,('DIST')]*H[i] for i in range(Num)]))    \r\n",
        "    m.Equation(Dem ==m.sum([H[i] for i in range(0,len(H))]))\r\n",
        "    m.Obj(prod0) \r\n",
        "    m.solve(disp=False,debug=False)\r\n",
        "    a = self.Dist_Mill\r\n",
        "    flat = [item for l in H for item in l]\r\n",
        "    a['Harvested'] = flat \r\n",
        "    ans = a\r\n",
        "\r\n",
        "    #Storing Harvested \r\n",
        "    self.Harvested[t].loc[:,('Harvested')] = 0 \r\n",
        "    print('Reseting stage:',t+1,' Mill: ',Id1,sum(self.Harvested[t].loc[:,(\"Harvested\")]))   \r\n",
        "\r\n",
        "    for j in range(len(ans)):                                                                         \r\n",
        "      if not(self.Harvested[t][self.Harvested[t][\"Unique_ID\"]==ans.loc[j,('DEST')]].empty):\r\n",
        "        a1 = self.Harvested[t][\"Unique_ID\"]==ans.loc[j,('DEST')]\r\n",
        "        a2 = int(np.where(a1)[0])\r\n",
        "        self.Harvested[t].loc[a2,(\"Harvested\")] = ans.loc[j,('Harvested')]  \r\n",
        "    print('Wood Harvested in stage:',t,sum(self.Harvested[t].loc[:,(\"Harvested\")]))\r\n",
        "    \r\n",
        "    #Updating Available Inventory\r\n",
        "    for j in range(len(ans)):                                                                         \r\n",
        "      if not(self.Available[t+1][self.Available[t+1][\"Unique_ID\"]==ans.loc[j,('DEST')]].empty):\r\n",
        "        a1 = self.Available[t+1][\"Unique_ID\"]==ans.loc[j,('DEST')]\r\n",
        "        a2 = int(np.where(a1)[0])\r\n",
        "        self.Available[t+1].loc[a2,(\"SumOfTotal\")] = self.Available[t+1].loc[a2,(\"SumOfTotal\")] - ans.loc[j,('Harvested')] \r\n",
        "    \r\n",
        "  def Harvest_Mill_Dense(self,t, j):\r\n",
        "    #Given a period t and a Mill j the function provide the harvested wood and substract it from available inventory\r\n",
        "    m = GEKKO(remote=True)\r\n",
        "    m.options.solver = 3 #IPOPT solver\r\n",
        "    m.options.IMODE = 3 #steady state optimization\r\n",
        "    Id1 =self.Mills.loc[j,('Unique_ID')]\r\n",
        "    a =self.Cell_Less(Id1,t,self.Radio_Mill)\r\n",
        "    self.Dist_Mill = a.loc[:, ('DEST','DIST')]\r\n",
        "    Num = len(self.Dist_Mill)\r\n",
        "    H = m.Array(m.Var,(Num),value = 0)\r\n",
        "    Dem = self.Mills.loc[j,('Demand')]\r\n",
        "    print('Demanda:', Dem)\r\n",
        "    self.Available_Mill = self.Disp_Radio( Id1, t,self.Radio_Mill)\r\n",
        "    \r\n",
        "    for i in range(Num):\r\n",
        "      H[i].lower = 0\r\n",
        "      H[i].upper = self.Available_Mill[i]\r\n",
        "      \r\n",
        "    prod0 = m.Intermediate(-m.sum([self.Dist_Mill.loc[i,('DIST')]*H[i] for i in range(Num)]))    \r\n",
        "    m.Equation(Dem ==m.sum([H[i] for i in range(0,len(H))]))\r\n",
        "    m.Obj(prod0) \r\n",
        "    m.solve(disp=False,debug=False)\r\n",
        "    a = self.Dist_Mill\r\n",
        "    flat = [item for l in H for item in l]\r\n",
        "    a['Harvested'] = flat \r\n",
        "    ans = a\r\n",
        "\r\n",
        "    #Storing Harvested \r\n",
        "    self.Harvested[t].loc[:,('Harvested')] = 0 \r\n",
        "    print('Reseting stage:',t+1,' Mill: ',Id1,sum(self.Harvested[t].loc[:,(\"Harvested\")]))   \r\n",
        "    for j in range(len(ans)):                                                                         \r\n",
        "      if not(self.Harvested[t][self.Harvested[t][\"Unique_ID\"]==ans.loc[j,('DEST')]].empty):\r\n",
        "        a1 = self.Harvested[t][\"Unique_ID\"]==ans.loc[j,('DEST')]\r\n",
        "        a2 = int(np.where(a1)[0])\r\n",
        "        self.Harvested[t].loc[a2,(\"Harvested\")] = ans.loc[j,('Harvested')]  \r\n",
        "    print('Wood Harvested in stage:',t,sum(self.Harvested[t].loc[:,(\"Harvested\")]))\r\n",
        "    \r\n",
        "    #Updating Available Inventory\r\n",
        "    for j in range(len(ans)):                                                                         \r\n",
        "      if not(self.Available[t+1][self.Available[t+1][\"Unique_ID\"]==ans.loc[j,('DEST')]].empty):\r\n",
        "        a1 = self.Available[t+1][\"Unique_ID\"]==ans.loc[j,('DEST')]\r\n",
        "        a2 = int(np.where(a1)[0])\r\n",
        "        self.Available[t+1].loc[a2,(\"SumOfTotal\")] = self.Available[t+1].loc[a2,(\"SumOfTotal\")] - ans.loc[j,('Harvested')] \r\n",
        "     \r\n",
        "\r\n",
        "  def Harvest_All_Mills(self,t,k):\r\n",
        "  #Harvest k mills at year t\r\n",
        "    self.Available.append(self.Available[t])\r\n",
        "    for i in range(k):\r\n",
        "      print('Cosechando Sawmill:',i)\r\n",
        "      self.Harvest_Mill_Dense(t,i)\r\n",
        "  \r\n",
        "    self.Harvested.append(self.Harvested[t]) \r\n",
        "    self.Residues.append(self.Harvested[t].loc[:,('Unique_ID','Harvested')])\r\n",
        "    self.Residues[t].loc[:,('Harvested')] = round(self.Residues[t].loc[:,('Harvested')]*0.05)\r\n",
        "    print('Total Wood Harvested at stage: ',t, sum(self.Harvested[t].loc[:,('Harvested')]))\r\n",
        "    print('Total Residues at stage: ',t, sum(self.Residues[t].loc[:,('Harvested')]))\r\n",
        "\r\n",
        "  \r\n",
        "  def Inventory_Growth(self,t,rate = 0):\r\n",
        "    if (rate == 0):\r\n",
        "      r = self.Growth\r\n",
        "    else:\r\n",
        "      r = rate\r\n",
        "    self.Available[t].loc[:,(\"SumOfTotal\")] = self.Available[t].loc[:,(\"SumOfTotal\")]*(1+r/100)\r\n",
        "\r\n",
        "  \r\n",
        "  def Cell_Less(self, Id_Mill, t, Radio=20):\r\n",
        "    #Given Time, Radio and a Mill ID this function returns a list of cells with Distance and Availability\r\n",
        "    Ans = self.Dist[(self.Dist['ORIG'] == Id_Mill)&(self.Dist['DIST'] <= Radio)] #CELLS EQUAL ID_MILL AND CLOSER THAN RADIO\r\n",
        "    rows = Ans.shape[0]\r\n",
        "    ind = [i for i in range(rows)]\r\n",
        "    Ans.index=ind    \r\n",
        "    Disp =[]\r\n",
        "\r\n",
        "    for j in range(len(Ans)):                                                                         \r\n",
        "      if self.Available[t][self.Available[t][\"Unique_ID\"]==Ans.loc[j,('DEST')]].empty:\r\n",
        "        Disp.append(0)\r\n",
        "      else:\r\n",
        "        Disp.append(int(self.Available[t][self.Available[t][\"Unique_ID\"]==Ans.loc[j,('DEST')]].SumOfTotal))\r\n",
        "    Ans[\"AVAIL\"] = Disp \r\n",
        "    return(Ans)\r\n",
        "\r\n",
        "\r\n",
        "  def Cell_Less_Res(self, Id_Mill, t, Radio=50):\r\n",
        "    #Given Time, Radio and a Mill ID this function returns a list of cells with Distance and Forest Residues available\r\n",
        "    Ans = self.Dist[(self.Dist['ORIG'] == Id_Mill)&(self.Dist['DIST'] <= self.Radio_Refinery)] #CELLS EQUAL ID_MILL AND CLOSER THAN RADIO\r\n",
        "    rows = Ans.shape[0]\r\n",
        "    ind = [i for i in range(rows)]\r\n",
        "    Ans.index=ind    \r\n",
        "    Disp =[]\r\n",
        "\r\n",
        "    for j in range(len(Ans)):                                                                         \r\n",
        "      if self.Residues[t][self.Residues[t][\"Unique_ID\"]==Ans.loc[j,('DEST')]].empty:\r\n",
        "        Disp.append(0)\r\n",
        "      else:\r\n",
        "        Disp.append(int(self.Residues[t][self.Residues[t][\"Unique_ID\"]==Ans.loc[j,('DEST')]].Harvested))\r\n",
        "    Ans[\"AVAIL\"] = Disp \r\n",
        "    return(Ans)\r\n",
        "\r\n",
        "\r\n",
        "  def Disp_Radio(self, Id_Mill, t, Radio=20):\r\n",
        "    #Given a Time and Radio and a Mill ID this function returns a list of Inventory Available [Unique_ID, Amount_Available]\r\n",
        "    Ans = self.Dist[(self.Dist['ORIG'] == Id_Mill)&(self.Dist['DIST'] <= Radio)] #CELLS EQUAL ID_MILL AND CLOSER THAN RADIO\r\n",
        "    rows = Ans.shape[0]\r\n",
        "    ind = [i for i in range(rows)]\r\n",
        "    Ans.index=ind    \r\n",
        "    Disp =[]\r\n",
        "    for j in range(len(Ans)):                                                                         \r\n",
        "      if self.Available[t][self.Available[t][\"Unique_ID\"]==Ans.loc[j,('DEST')]].empty:\r\n",
        "        Disp.append(0)\r\n",
        "      else:\r\n",
        "        Disp.append(int(self.Available[t][self.Available[t][\"Unique_ID\"]==Ans.loc[j,('DEST')]].SumOfTotal))\r\n",
        "    return(Disp)\r\n",
        "  \r\n",
        "\r\n",
        "  def Disp_Radio_Res(self, Id_Mill, t, Radio=20):\r\n",
        "    #Given a Time and Radio and a Mill ID this function returns a list of Residues Available [Unique_ID, Amount_Available]\r\n",
        "    Ans = self.Dist[(self.Dist['ORIG'] == Id_Mill)&(self.Dist['DIST'] <= self.Radio_Refinery)] #CELLS EQUAL ID_MILL AND CLOSER THAN RADIO\r\n",
        "    rows = Ans.shape[0]\r\n",
        "    ind = [i for i in range(rows)]\r\n",
        "    Ans.index=ind    \r\n",
        "    Disp =[]\r\n",
        "    for j in range(len(Ans)):                                                                         \r\n",
        "      if self.Residues[t][self.Available[t][\"Unique_ID\"]==Ans.loc[j,('DEST')]].empty:\r\n",
        "        Disp.append(0)\r\n",
        "      else:\r\n",
        "        Disp.append(int(self.Residues[t][self.Residues[t][\"Unique_ID\"]==Ans.loc[j,('DEST')]].Harvested))\r\n",
        "    return(Disp)\r\n",
        "\r\n",
        "\r\n",
        "  def Num_Cell(self, Id_Mill, Radio=10):\r\n",
        "    #Given a Radio and a Mill ID this function returns cell among the radio distance\r\n",
        "    Ans = self.Dist[(self.Dist['ORIG'] == Id_Mill)&(self.Dist['DIST'] <= Radio)]\r\n",
        "    return(len(Ans))\r\n",
        "  \r\n",
        "  \r\n",
        "  def Optimal_Location(self,t,Ms,Demanda=10000000):\r\n",
        "    m2 = GEKKO(remote=True)\r\n",
        "    m2.options.solver = 3 #IPOPT solver\r\n",
        "    m2.options.IMODE = 3 #steady state optimization\r\n",
        "    Num_Cand = len(self.Candidates)\r\n",
        "    Cost=[]\r\n",
        "    for i in range(Ms):\r\n",
        "      Id1 =self.Candidates[i]\r\n",
        "      a =self.Cell_Less_Res(Id1,t,self.Radio_Refinery)\r\n",
        "      self.Dist_Refi = a.loc[:, ('DEST','DIST')]\r\n",
        "      Num = len(self.Dist_Refi)\r\n",
        "      H = m2.Array(m2.Var,(Num),value = 0)\r\n",
        "      Dem = Demanda\r\n",
        "\r\n",
        "      self.Available_Refi = self.Disp_Radio_Res( Id1, 0, self.Radio_Refinery)\r\n",
        "      \r\n",
        "      for i in range(Num):\r\n",
        "        H[i].lower = 0\r\n",
        "        H[i].upper = self.Available_Refi[i]\r\n",
        "        \r\n",
        "      prod0 = m2.Intermediate(m2.sum([self.Dist_Refi.loc[i,('DIST')]*H[i] for i in range(Num)]))\r\n",
        "      \r\n",
        "      m2.Equation(Dem ==m2.sum([H[i] for i in range(0,len(H))]))\r\n",
        "      m2.Obj(prod0) \r\n",
        "      m2.solve(disp=False,debug=False)\r\n",
        "      a = self.Dist_Refi\r\n",
        "      flat = [item for l in H for item in l]\r\n",
        "      a['Harvested'] = flat\r\n",
        "      res = round(np.dot(flat,self.Dist_Refi.loc[:,('DIST')]))  #Delivery cost to refinery\r\n",
        "      Cost.append(res)\r\n",
        "    print('Cost', Cost)\r\n",
        "    print('Minimo en:', Cost.index(min(Cost)))\r\n",
        "\r\n",
        "    "
      ],
      "execution_count": 63,
      "outputs": []
    },
    {
      "cell_type": "markdown",
      "metadata": {
        "id": "dBG0GVk9Y81m"
      },
      "source": [
        "**UPLOADING FOREST INVENTORY DATA**"
      ]
    },
    {
      "cell_type": "markdown",
      "metadata": {
        "id": "2XCJBkIx2Oed"
      },
      "source": [
        "**1ST PHASE - MILLS DEMAND - SHORTEST DISTANCE CRITERIA**"
      ]
    },
    {
      "cell_type": "code",
      "metadata": {
        "id": "oDXsRJhXSWKd",
        "colab": {
          "base_uri": "https://localhost:8080/"
        },
        "outputId": "5c3b2532-90d8-4941-d947-38a0f1597a55"
      },
      "source": [
        "# Main Program\r\n",
        "start_time = time.time()\r\n",
        "#Upload distances from each hexagon to other\r\n",
        "Hardwood_Sawlog_Data = pd.read_csv(\"/content/drive/My Drive/Colab Notebooks/Hardwood_Sawlog.csv\")\r\n",
        "#Hardwood_Pulp_Data = pd.read_csv(\"/content/drive/My Drive/Colab Notebooks/Hardwood_Pulp.csv\")\r\n",
        "#Softwood_Sawlog_Data = pd.read_csv(\"/content/drive/My Drive/Colab Notebooks/Softwood_Sawlog.csv\")\r\n",
        "#Softwood_Pulp_Data = pd.read_csv(\"/content/drive/My Drive/Colab Notebooks/Softwood_Pulp.csv\")\r\n",
        "\r\n",
        "\r\n",
        "Dist_Data = pd.read_csv(\"/content/drive/My Drive/Colab Notebooks/Distance_TN.csv\")\r\n",
        "Mills_Data = pd.read_csv(\"/content/drive/My Drive/Colab Notebooks/Mills_TN.csv\")\r\n",
        "print(Mills_Data.loc[:,('s_h')])\r\n",
        "\r\n",
        "\r\n",
        "i1 = Mills_Data['plant'] == \"Composite Panel\"\r\n",
        "Mills_Data.loc[i1,('Demand')] = Mills_Data.loc[i1,('Demand')]*128 #transforming cords to cubic feet\r\n",
        "i1 = Mills_Data['plant'] == \"Pulpmill\"\r\n",
        "Mills_Data.loc[i1,('Demand')] = Mills_Data.loc[i1,('Demand')]*128 #transforming cords to cubic feet\r\n",
        "i1 = Mills_Data['plant'] == \"Sawmill\"\r\n",
        "Mills_Data.loc[i1,('Demand')] = Mills_Data.loc[i1,('Demand')]*83.3  #transforming mbf to cubic feet\r\n",
        "i1 = Mills_Data['plant'] == \"Venner\"\r\n",
        "Mills_Data.loc[i1,('Demand')] = 1600*83.3 #transforming mbf to cubic feet\r\n",
        "\r\n",
        "YEARS = 1\r\n",
        "\r\n",
        "#Initializing Inventories\r\n",
        "Hardwood_Sawlog = Inventory(Hardwood_Sawlog_Data,Dist_Data,Wt='H')\r\n",
        "Hardwood_Pulp = Inventory(Hardwood_Pulp_Data,Dist_Data,Wt='H')\r\n",
        "Softwood_Sawlog = Inventory(Softwood_Sawlog_Data,Dist_Data,Wt='S')\r\n",
        "Softwood_Pulp = Inventory(Softwood_Pulp_Data,Dist_Data,Wt='S')\r\n",
        "\r\n",
        "\r\n",
        "r1 = len(Hardwood_Sawlog.Available[0])\r\n",
        "Id_li = list(Hardwood_Sawlog.Available[0].loc[:,(\"Unique_ID\")])\r\n",
        "Ha_li =[0]*r1\r\n",
        "Data = {'Unique_ID':Id_li,'Harvested':Ha_li}\r\n",
        "Hardwood_Sawlog.Harvested.append(pd.DataFrame(Data))\r\n",
        "Num_Mills = len(Mills_Data)\r\n",
        "Num_Mills = 4\r\n",
        "\r\n",
        "ma = Dist_Data['ORIG'].unique()\r\n",
        "Hardwood_Sawlog.Candidates = ma\r\n",
        "Num_Cand = len(ma)\r\n",
        "\r\n",
        "#Assigning Candidates Id to Mills Id while getting the mills exact distance\r\n",
        "for k in range(Num_Mills):\r\n",
        "  Mills_Data.loc[k,('Unique_ID')] = ma[k % Num_Cand]\r\n",
        "  \r\n",
        "Hardwood_Sawlog.Mills=Mills_Data\r\n",
        "for y in range(YEARS):\r\n",
        "  Hardwood_Sawlog.Harvest_All_Mills(y,Num_Mills)    \r\n",
        "  \r\n",
        "#save harvested wood in file out.csv\r\n",
        "Hardwood_Sawlog.Harvested[0].to_csv('/content/drive/My Drive/Colab Notebooks/out.csv')\r\n",
        "print (\"My program took\", time.time() - start_time, \"to run\")"
      ],
      "execution_count": 83,
      "outputs": [
        {
          "output_type": "stream",
          "text": [
            "0        S\n",
            "1        S\n",
            "2        H\n",
            "3        S\n",
            "4      S/H\n",
            "      ... \n",
            "259      H\n",
            "260      H\n",
            "261      S\n",
            "262      H\n",
            "263      H\n",
            "Name: s_h, Length: 264, dtype: object\n"
          ],
          "name": "stdout"
        }
      ]
    }
  ]
}