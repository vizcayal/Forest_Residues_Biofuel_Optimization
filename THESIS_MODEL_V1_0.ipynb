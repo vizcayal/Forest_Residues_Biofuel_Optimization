{
  "nbformat": 4,
  "nbformat_minor": 0,
  "metadata": {
    "colab": {
      "name": "THESIS_MODEL V1.0.ipynb",
      "provenance": [],
      "collapsed_sections": [],
      "authorship_tag": "ABX9TyMthU2TF4k+etR7Emutkpup",
      "include_colab_link": true
    },
    "kernelspec": {
      "name": "python3",
      "display_name": "Python 3"
    }
  },
  "cells": [
    {
      "cell_type": "markdown",
      "metadata": {
        "id": "view-in-github",
        "colab_type": "text"
      },
      "source": [
        "<a href=\"https://colab.research.google.com/github/vizcayal/Thesis_UT/blob/V1/THESIS_MODEL_V1_0.ipynb\" target=\"_parent\"><img src=\"https://colab.research.google.com/assets/colab-badge.svg\" alt=\"Open In Colab\"/></a>"
      ]
    },
    {
      "cell_type": "markdown",
      "metadata": {
        "id": "BbmhtvgnZUe0"
      },
      "source": [
        "**Installing packages needed**"
      ]
    },
    {
      "cell_type": "code",
      "metadata": {
        "id": "9PbaQG2oYXd5",
        "colab": {
          "base_uri": "https://localhost:8080/"
        },
        "outputId": "93a7c815-ad8b-4972-f203-de275df9350e"
      },
      "source": [
        "!pip install gekko\r\n",
        "!pip install ipynb\r\n"
      ],
      "execution_count": 43,
      "outputs": [
        {
          "output_type": "stream",
          "text": [
            "Requirement already satisfied: gekko in /usr/local/lib/python3.6/dist-packages (0.2.8)\n",
            "Requirement already satisfied: numpy>=1.8 in /usr/local/lib/python3.6/dist-packages (from gekko) (1.19.4)\n",
            "Requirement already satisfied: flask in /usr/local/lib/python3.6/dist-packages (from gekko) (1.1.2)\n",
            "Requirement already satisfied: flask-cors in /usr/local/lib/python3.6/dist-packages (from gekko) (3.0.9)\n",
            "Requirement already satisfied: itsdangerous>=0.24 in /usr/local/lib/python3.6/dist-packages (from flask->gekko) (1.1.0)\n",
            "Requirement already satisfied: Jinja2>=2.10.1 in /usr/local/lib/python3.6/dist-packages (from flask->gekko) (2.11.2)\n",
            "Requirement already satisfied: Werkzeug>=0.15 in /usr/local/lib/python3.6/dist-packages (from flask->gekko) (1.0.1)\n",
            "Requirement already satisfied: click>=5.1 in /usr/local/lib/python3.6/dist-packages (from flask->gekko) (7.1.2)\n",
            "Requirement already satisfied: Six in /usr/local/lib/python3.6/dist-packages (from flask-cors->gekko) (1.15.0)\n",
            "Requirement already satisfied: MarkupSafe>=0.23 in /usr/local/lib/python3.6/dist-packages (from Jinja2>=2.10.1->flask->gekko) (1.1.1)\n",
            "Requirement already satisfied: ipynb in /usr/local/lib/python3.6/dist-packages (0.5.1)\n"
          ],
          "name": "stdout"
        }
      ]
    },
    {
      "cell_type": "markdown",
      "metadata": {
        "id": "PfDtY5HjUWbs"
      },
      "source": [
        "**Importing libraries needed**"
      ]
    },
    {
      "cell_type": "code",
      "metadata": {
        "id": "-Uhaf81oUfRp",
        "colab": {
          "base_uri": "https://localhost:8080/"
        },
        "outputId": "3af0bdef-a651-4828-a366-db94ec49e37e"
      },
      "source": [
        "import numpy as np\r\n",
        "import time\r\n",
        "from multiprocessing import *\r\n",
        "from gekko import GEKKO\r\n",
        "import pandas as pd\r\n",
        "import os\r\n",
        "from google.colab import files\r\n",
        "from google.colab import drive\r\n",
        "drive.mount(\"/content/drive\")\r\n",
        "import sys\r\n",
        "sys.path.append('/content/drive/My Drive/Colab Notebooks/')\r\n",
        "from library import *\r\n",
        "#Initialize Model\r\n",
        "m = GEKKO(remote=True) \r\n",
        "#Set global options\r\n",
        "m.options.solver = 3\r\n",
        "m.options.IMODE = 3 #steady state optimization\r\n",
        "\r\n"
      ],
      "execution_count": 44,
      "outputs": [
        {
          "output_type": "stream",
          "text": [
            "Drive already mounted at /content/drive; to attempt to forcibly remount, call drive.mount(\"/content/drive\", force_remount=True).\n"
          ],
          "name": "stdout"
        }
      ]
    },
    {
      "cell_type": "code",
      "metadata": {
        "id": "0JmzGQGEN96m"
      },
      "source": [
        "#Upload distances from each hexagon to other\r\n",
        "Dist_Data = pd.read_csv(\"/content/drive/My Drive/Colab Notebooks/Distance_TN.csv\")\r\n",
        "Mills_Data = pd.read_csv(\"/content/drive/My Drive/Colab Notebooks/Mills_TN.csv\")\r\n"
      ],
      "execution_count": 45,
      "outputs": []
    },
    {
      "cell_type": "markdown",
      "metadata": {
        "id": "R0nJnGd5CiEw"
      },
      "source": [
        "**SAWMILL CLASS**"
      ]
    },
    {
      "cell_type": "code",
      "metadata": {
        "id": "V0N_36t4-S0e"
      },
      "source": [
        "#SawMill Object\r\n",
        "m = GEKKO(remote=True)\r\n",
        "\r\n",
        "class Mill:\r\n",
        "  \r\n",
        "  def __init__(self, Id, Wood, Prod, Dis, Dem=0, Radio = 20):\r\n",
        "    self.Id1 = Id\r\n",
        "    self.Wood_type =Wood\r\n",
        "    self.Prod_type = Prod\r\n",
        "    self.Dist = Dis\r\n",
        "    self.Demand = Dem\r\n",
        "    self.Radio = Radio\r\n",
        "  \r\n",
        "\r\n",
        "  def Give_Id(self):\r\n",
        "    a = 2\r\n",
        "    return a \r\n",
        "\r\n",
        "\r\n",
        "  def Harvest_Close(self, Available, Dem):\r\n",
        "    \r\n",
        "    Num = len(self.Dist)\r\n",
        "  \r\n",
        "    H = m.Array(m.Var,(Num),value = 0)\r\n",
        "\r\n",
        "    for i in range(Num):\r\n",
        "      H[i].lower = 0\r\n",
        "      H[i].upper = int(Available[i])\r\n",
        "      \r\n",
        "    prod0 = m.Intermediate(m.sum([self.Dist.loc[i,('DIST')]*H[i] for i in range(num)]))\r\n",
        "    \r\n",
        "    m.Equation(Dem ==m.sum([H[i] for i in range(0,len(H))]))\r\n",
        "    m.Obj(prod0) \r\n",
        "    m.solve(disp=False,debug=True)\r\n",
        "    a = self.Dist\r\n",
        "    flat = [item for l in H for item in l]\r\n",
        "    a['HARVESTED'] = flat \r\n",
        "    return(a)\r\n",
        "    "
      ],
      "execution_count": 46,
      "outputs": []
    },
    {
      "cell_type": "code",
      "metadata": {
        "id": "IqS4uwxiCgh6"
      },
      "source": [
        "class Inventory:\r\n",
        "  def __init__(self, Av, Dist):\r\n",
        "    self.Available = []\r\n",
        "    self.Available.append(Av) #Dataframe that contains Available wood Inventory at diferent time t\r\n",
        "    self.Dist = Dist #Matrix Distance from any cell to another cell\r\n",
        "    self.Mills = [] #Dataframe that contains Id, typewood, type_product, and demand of mills\r\n",
        "    self.Dist_Mill = [] #Dataframe that contains the Distance to the mill to be harvested\r\n",
        "    self.Available_Mill = [] #Dataframe that contains the Available Inventory close the mill to be harvested\r\n",
        "\r\n",
        "\r\n",
        "  def Add_Mill2(self, Id, Wood, Prod, Dem=0):\r\n",
        "\r\n",
        "    a =self.Cell_Less(Id,0,20)\r\n",
        "    D2 = a.loc[:, ('DEST','DIST')]\r\n",
        "    mil= Mill(id,Wood,Prod,D2,Dem)\r\n",
        "    self.Mills.append(mil)\r\n",
        "  \r\n",
        "\r\n",
        "  def Harvest_Mill(self,t, j):\r\n",
        "    #Given a period t and a Mill j the function provide the harvested wood and substract it from available inventory\r\n",
        "    Id1 =self.Mills.loc[j,('Unique_ID')]\r\n",
        "    a =self.Cell_Less(Id1,0,20)\r\n",
        "    self.Dist_Mill = a.loc[:, ('DEST','DIST')]\r\n",
        "    Num = len(self.Dist_Mill)\r\n",
        "    \r\n",
        "    H = m.Array(m.Var,(Num),value = 0)\r\n",
        "    Dem = self.Mills.loc[j,('Demand')]\r\n",
        "    self.Available_Mill = self.Disp_Radio( Id1, t, 20)\r\n",
        "    print('Available',self.Available_Mill)\r\n",
        "\r\n",
        "    for i in range(Num):\r\n",
        "      H[i].lower = 0\r\n",
        "      H[i].upper = self.Available_Mill[i]\r\n",
        "      \r\n",
        "    prod0 = m.Intermediate(m.sum([self.Dist_Mill.loc[i,('DIST')]*H[i] for i in range(Num)]))\r\n",
        "    \r\n",
        "    m.Equation(Dem ==m.sum([H[i] for i in range(0,len(H))]))\r\n",
        "    m.Obj(prod0) \r\n",
        "    m.solve(disp=False,debug=True)\r\n",
        "    a = self.Dist_Mill\r\n",
        "    flat = [item for l in H for item in l]\r\n",
        "    a['HARVESTED'] = flat \r\n",
        "    ans = a\r\n",
        "    \r\n",
        "\r\n",
        "    #ans = self.Mills[j].Harvest_Close(self.Available[t].SumOfTotal,self.Mills[j].Demand)\r\n",
        "    \r\n",
        "    for j in range(len(ans)):                                                                         \r\n",
        "      if not(self.Available[0][self.Available[0][\"Unique_ID\"]==ans.loc[j,('DEST')]].empty):\r\n",
        "        a1 = self.Available[0][\"Unique_ID\"]==ans.loc[j,('DEST')]\r\n",
        "        a2 = int(np.where(a1)[0])\r\n",
        "        self.Available[0].loc[a2,(\"SumOfTotal\")] = self.Available[0].loc[a2,(\"SumOfTotal\")] - ans.loc[j,('HARVESTED')]\r\n",
        "      \r\n",
        "  \r\n",
        "  def Harvest_All_Mills(self):\r\n",
        "    for k in range(len(self.Mills)):\r\n",
        "      Hardwood_Sawlog.Harvest_Mill(0,k)\r\n",
        "    \r\n",
        "  \r\n",
        "  def Cell_Less(self, Id_Mill, Time, Radio=20):\r\n",
        "    #Given a Time and Radio and a Mill ID this function returns a list of cells with Distance and Availability\r\n",
        "    #print('Id:', Id_Mill)\r\n",
        "    Ans = self.Dist[(self.Dist['ORIG'] == Id_Mill)&(self.Dist['DIST'] <= Radio)] #CELLS EQUAL ID_MILL AND CLOSER THAN RADIO\r\n",
        "    #print('Ans:',Ans)\r\n",
        "    rows = Ans.shape[0]\r\n",
        "    ind = [i for i in range(rows)]\r\n",
        "    Ans.index=ind    \r\n",
        "    Disp =[]\r\n",
        "\r\n",
        "    for j in range(len(Ans)):                                                                         \r\n",
        "      if self.Available[0][self.Available[0][\"Unique_ID\"]==Ans.loc[j,('DEST')]].empty:\r\n",
        "        Disp.append(0)\r\n",
        "      else:\r\n",
        "        Disp.append(int(self.Available[0][self.Available[0][\"Unique_ID\"]==Ans.loc[j,('DEST')]].SumOfTotal))\r\n",
        "\r\n",
        "    Ans[\"AVAIL\"] = Disp \r\n",
        "    return(Ans)\r\n",
        "\r\n",
        "  def Disp_Radio(self, Id_Mill, Time, Radio=20):\r\n",
        "    #Given a Time and Radio and a Mill ID this function returns a list of Inventory Available\r\n",
        "    Ans = self.Dist[(self.Dist['ORIG'] == Id_Mill)&(self.Dist['DIST'] <= Radio)] #CELLS EQUAL ID_MILL AND CLOSER THAN RADIO\r\n",
        "    rows = Ans.shape[0]\r\n",
        "    ind = [i for i in range(rows)]\r\n",
        "    Ans.index=ind    \r\n",
        "    Disp =[]\r\n",
        "    for j in range(len(Ans)):                                                                         \r\n",
        "      if self.Available[0][self.Available[0][\"Unique_ID\"]==Ans.loc[j,('DEST')]].empty:\r\n",
        "        Disp.append(0)\r\n",
        "      else:\r\n",
        "        Disp.append(int(self.Available[0][self.Available[0][\"Unique_ID\"]==Ans.loc[j,('DEST')]].SumOfTotal))\r\n",
        "\r\n",
        "    return(Disp)\r\n",
        "  \r\n",
        "\r\n",
        "  def Num_Cell(self, Id_Mill, Radio=10):\r\n",
        "    #Given a Radio and a Mill ID this function returns cell among the radio distance\r\n",
        "    Ans = self.Dist[(self.Dist['ORIG'] == Id_Mill)&(self.Dist['DIST'] <= Radio)]\r\n",
        "    #print(\"Numero de celdas \",len(Ans))\r\n",
        "    return(len(Ans))\r\n",
        "    \r\n",
        "  \r\n",
        "\r\n",
        "\r\n"
      ],
      "execution_count": 73,
      "outputs": []
    },
    {
      "cell_type": "markdown",
      "metadata": {
        "id": "dBG0GVk9Y81m"
      },
      "source": [
        "**UPLOADING FOREST INVENTORY DATA**"
      ]
    },
    {
      "cell_type": "markdown",
      "metadata": {
        "id": "2XCJBkIx2Oed"
      },
      "source": [
        "**1ST PHASE - MILLS DEMAND - SHORTEST DISTANCE CRITERIA**"
      ]
    },
    {
      "cell_type": "code",
      "metadata": {
        "id": "oDXsRJhXSWKd",
        "colab": {
          "base_uri": "https://localhost:8080/"
        },
        "outputId": "f656bd42-ccb7-497b-8c8f-5735ee145ba8"
      },
      "source": [
        "# Main Program\r\n",
        "start_time = time.time()\r\n",
        "Hardwood_Sawlog_Data = pd.read_csv(\"/content/drive/My Drive/Colab Notebooks/Hardwood_Sawlog.csv\")\r\n",
        "\r\n",
        "#df2 = pd.DataFrame(np.array([[1, 2, 3], [4, 5, 6], [7, 8, 9]]),\r\n",
        "#                   columns=['Mill_Id', 'wood', 'type','Demand'])\r\n",
        "#print(\"tipo\",type(Hardwood_Sawlog_Data))\r\n",
        "\r\n",
        "Hardwood_Sawlog = Inventory(Hardwood_Sawlog_Data,Dist_Data)\r\n",
        "#print(a.describe())\r\n",
        "v1 = Hardwood_Sawlog.Available[0][\"Unique_ID\"]==54549\r\n",
        "#Hardwood_Sawlog.Available[0].loc[v1,(\"Unique_ID\",\"SumOfTotal\")]\r\n",
        "#print('C2:',c2)\r\n",
        "v2 =int(Hardwood_Sawlog.Available[0].loc[v1,(\"SumOfTotal\")])\r\n",
        "print('Before harvesting',v2)\r\n",
        "\r\n",
        "#print('Dist',Hardwood_Sawlog.Dist)\r\n",
        "\r\n",
        "ma = Dist_Data['ORIG'].unique()\r\n",
        "print('Ma', ma[0])\r\n",
        "\r\n",
        "#Mills_Data.loc[0, ('Unique_ID')]\r\n",
        "\r\n",
        "for k in range(1):\r\n",
        "  Mills_Data.loc[k,('Unique_ID')] = ma[k]\r\n",
        "  Mills_Data.loc[k,('Demand')] = 10000000\r\n",
        "  #print('Id2: ',Mills_Data.loc[0,('Unique_ID')])\r\n",
        "  #Hardwood_Sawlog.Mills.append(Mill(Mills_Data['Unique_ID'][k],Mills_Data['plant'][k],Mills_Data['s_h'][k],Hardwood_Sawlog.Dist.DIST,Mills_Data['Demand'][k]))\r\n",
        "  #mi= Mill(Mills_Data.loc[k, ('Unique_ID')],Mills_Data.loc[k,('plant')],Mills_Data.loc[k,('s_h')],Hardwood_Sawlog.Dist.loc[:, ('DIST')],Mills_Data.loc[k,('Demand')])\r\n",
        "  #Hardwood_Sawlog.Add_Mill(mi)\r\n",
        "  #Hardwood_Sawlog.Add_Mill2(Mills_Data.loc[k, ('Unique_ID')],Mills_Data.loc[k,('plant')],Mills_Data.loc[k,('s_h')],Mills_Data.loc[k,('Demand')])\r\n",
        "  #Hardwood_Sawlog.Add_Mill2(ma[k],Mills_Data.loc[k,('plant')],Mills_Data.loc[k,('s_h')],Mills_Data.loc[k,('Demand')])\r\n",
        "#  saw=[ma[k],Mills_Data.loc[k,('plant')],Mills_Data.loc[k,('s_h')],Mills_Data.loc[k,('Demand')]]\r\n",
        "  #Hardwood_Sawlog.Mills.append(saw)\r\n",
        " # print(Hardwood_Sawlog.Mills.loc[k,('Id')])\r\n",
        "  #Hardwood_Sawlog.Add_Mill2(ma[k],Mills_Data.loc[k,('plant')],Mills_Data.loc[k,('s_h')],10000000)\r\n",
        "  #print(\"Cosechando Aserradero \", k)\r\n",
        "  #Hardwood_Sawlog.Harvest_Mill(0,k)\r\n",
        "\r\n",
        "Hardwood_Sawlog.Mills=Mills_Data\r\n",
        "Hardwood_Sawlog.Harvest_Mill(0,0)\r\n",
        "#print('Saw:', Hardwood_Sawlog.Mills)\r\n",
        "  \r\n",
        "print('AFTER HARVEST',Hardwood_Sawlog.Available[0].loc[v1,(\"SumOfTotal\")])\r\n",
        "\r\n",
        "print (\"My program took\", time.time() - start_time, \"to run\")"
      ],
      "execution_count": 74,
      "outputs": [
        {
          "output_type": "stream",
          "text": [
            "Before harvesting 2287844\n",
            "Ma 54549\n"
          ],
          "name": "stdout"
        },
        {
          "output_type": "stream",
          "text": [
            "/usr/local/lib/python3.6/dist-packages/ipykernel_launcher.py:76: SettingWithCopyWarning: \n",
            "A value is trying to be set on a copy of a slice from a DataFrame.\n",
            "Try using .loc[row_indexer,col_indexer] = value instead\n",
            "\n",
            "See the caveats in the documentation: https://pandas.pydata.org/pandas-docs/stable/user_guide/indexing.html#returning-a-view-versus-a-copy\n",
            "/usr/local/lib/python3.6/dist-packages/ipykernel_launcher.py:37: DeprecationWarning: elementwise comparison failed; this will raise an error in the future.\n"
          ],
          "name": "stderr"
        },
        {
          "output_type": "stream",
          "text": [
            "Available [2287844, 2268199, 2280210, 2287724, 2294929, 2196091, 2294260, 2155774, 0, 2298647, 2295427, 2279530, 2219389, 0, 2293918, 2287595, 0, 0, 2300877, 0, 2173385, 2362789, 2314771, 2148396, 0, 0, 2278208, 2270021, 2208712, 0, 0, 0, 0, 2287189, 0, 0, 0, 2392038, 2378180, 0, 2263843, 0, 2395996, 2261314, 0, 0, 0, 2267843, 0, 2262769, 0, 0, 0, 0, 0, 0, 0, 0, 0, 2252419, 2249340, 0, 2393025, 2258948, 2398536, 2329011, 0, 2384037, 0, 0, 0, 0, 0, 2276705, 0, 2286946, 0, 2256814, 0, 0, 2256799, 0, 2265424, 0, 0, 0, 0, 0, 0, 2401206, 2240541, 2246756, 0, 2373163, 2237643, 2393533, 0, 0, 2382677, 0, 0, 0, 2335616, 0, 0, 0, 0, 0, 2243754, 2403003, 2253545, 0, 2251001, 0, 0, 2392513, 2262503, 0, 0, 0, 0, 0, 2407123, 2229357, 0, 0, 2370774, 0, 0, 0, 2225729, 0, 0, 2234264, 2380491, 0, 2288386, 0, 2358333, 0, 0, 0, 0, 0, 0, 0, 0, 2250200, 0, 2249468, 0, 0, 2390305, 0, 0, 2221723, 0, 2402974, 0, 2240808, 0, 0, 2246890, 0, 0, 0, 0, 2184440, 0, 2220668, 0]\n",
            "AFTER HARVEST 5096    0.7\n",
            "Name: SumOfTotal, dtype: float64\n",
            "My program took 14.41563105583191 to run\n"
          ],
          "name": "stdout"
        }
      ]
    }
  ]
}